{
 "cells": [
  {
   "cell_type": "markdown",
   "metadata": {},
   "source": [
    "# Scrap compound on PDBe foreach molecule\n",
    "**18.01.22 - Third week of internship**\n",
    "### 1. Imports"
   ]
  },
  {
   "cell_type": "code",
   "execution_count": 4,
   "metadata": {},
   "outputs": [],
   "source": [
    "from bs4 import BeautifulSoup\n",
    "import requests\n",
    "import pandas as pd\n",
    "import csv\n",
    "import html5lib\n",
    "import json\n",
    "\n",
    "import pyspark\n",
    "\n",
    "from pyspark.sql.functions import (\n",
    "    col, udf, struct, lit, split, regexp_replace, create_map, min as spark_min, max as spark_max,\n",
    "    count, sum as spar_sum, explode, when, concat, lower, format_string, collect_set, collect_list\n",
    ")\n",
    "\n",
    "from pyspark.sql.types import (\n",
    "    FloatType, ArrayType, StructType, StructField, StringType, IntegerType, TimestampType\n",
    ")\n",
    "\n",
    "from pyspark.sql import SparkSession, Row\n",
    "from pyspark.conf import SparkConf\n",
    "from itertools import chain\n",
    "from pyspark import SparkFiles\n",
    "\n",
    "# for heatmap:\n",
    "import numpy as np\n",
    "import seaborn as sns\n",
    "import matplotlib.pylab as plt\n",
    "import os\n"
   ]
  },
  {
   "cell_type": "markdown",
   "metadata": {},
   "source": [
    "### 2. Create a Spark session"
   ]
  },
  {
   "cell_type": "code",
   "execution_count": 5,
   "metadata": {
    "scrolled": true
   },
   "outputs": [],
   "source": [
    "spark = SparkSession.builder.appName('abc').getOrCreate()"
   ]
  },
  {
   "cell_type": "markdown",
   "metadata": {},
   "source": [
    "### 3. Script to construct a disctionary with molecule and corresponding compound\n",
    "Marine version"
   ]
  },
  {
   "cell_type": "code",
   "execution_count": 8,
   "metadata": {},
   "outputs": [],
   "source": [
    "headers = {'User-Agent': 'Mozilla/5.0 (Windows NT 10.0; Win64; x64) AppleWebKit/537.36 (KHTML, like Gecko) Chrome/83.0.4103.61 Safari/537.36'}\n",
    "pdb_unichem_mol_path = '/Users/marinegirardey/Documents/opentarget_internship/OpenTargetInternship/second_week/id_molecule_id_unichem_merged.csv'\n",
    "it_header = 0\n",
    "dict_list = []\n",
    "list_of_dict = []\n",
    "\n",
    "with open(pdb_unichem_mol_path) as pdb_unichem_mol:\n",
    "\n",
    "    for molecule in pdb_unichem_mol:\n",
    "\n",
    "        if it_header != 0:\n",
    "\n",
    "            pdb_id = molecule.strip('\\n').split(',')[2]\n",
    "            url='https://www.ebi.ac.uk/pdbe/api/pdb/compound/in_pdb/' + pdb_id\n",
    "            r=requests.get(url, headers=headers, timeout=2)\n",
    "            soup = BeautifulSoup(r.content, 'html.parser')\n",
    "            pretty_soup = soup.prettify()\n",
    "            id_dict = json.loads(pretty_soup)\n",
    "            list_of_dict.append(id_dict)\n",
    "\n",
    "        it_header += 1"
   ]
  },
  {
   "cell_type": "markdown",
   "metadata": {},
   "source": [
    "Daniel version"
   ]
  },
  {
   "cell_type": "code",
   "execution_count": 12,
   "metadata": {},
   "outputs": [],
   "source": [
    "import requests\n",
    "\n",
    "def get_pdb(code: str)-> str:\n",
    "    URL = f'https://www.ebi.ac.uk/pdbe/api/pdb/compound/in_pdb/{code}'\n",
    "    response = requests.get(URL)\n",
    "    try:\n",
    "        data = response.json()\n",
    "        return data[code]\n",
    "    except:\n",
    "        return None"
   ]
  },
  {
   "cell_type": "markdown",
   "metadata": {},
   "source": [
    "### 4. Function to obtain compound from a given molecule\n",
    "(Tests)"
   ]
  },
  {
   "cell_type": "code",
   "execution_count": 15,
   "metadata": {},
   "outputs": [],
   "source": [
    "# Construct a list of dict with pdb molecule id\n",
    "dict_list_only_mol_id = []\n",
    "for mol_dict in list_of_dict:\n",
    "    for key, val in mol_dict.items():\n",
    "        dict_list_only_mol_id.append({'id': key})"
   ]
  },
  {
   "cell_type": "code",
   "execution_count": 10,
   "metadata": {},
   "outputs": [],
   "source": [
    "# Function to apply on the pd df to get the compouds of each molecule\n",
    "def get_pdb2(mol_id):\n",
    "    for mol_dict in list_of_dict:\n",
    "        for key, val in mol_dict.items():\n",
    "            if key == mol_id:\n",
    "                compound = list(val)\n",
    "    return compound"
   ]
  },
  {
   "cell_type": "code",
   "execution_count": 18,
   "metadata": {},
   "outputs": [
    {
     "name": "stderr",
     "output_type": "stream",
     "text": [
      "                                                                                \r"
     ]
    },
    {
     "data": {
      "text/html": [
       "<div>\n",
       "<style scoped>\n",
       "    .dataframe tbody tr th:only-of-type {\n",
       "        vertical-align: middle;\n",
       "    }\n",
       "\n",
       "    .dataframe tbody tr th {\n",
       "        vertical-align: top;\n",
       "    }\n",
       "\n",
       "    .dataframe thead th {\n",
       "        text-align: right;\n",
       "    }\n",
       "</style>\n",
       "<table border=\"1\" class=\"dataframe\">\n",
       "  <thead>\n",
       "    <tr style=\"text-align: right;\">\n",
       "      <th></th>\n",
       "      <th>id</th>\n",
       "      <th>pdb</th>\n",
       "    </tr>\n",
       "  </thead>\n",
       "  <tbody>\n",
       "    <tr>\n",
       "      <th>0</th>\n",
       "      <td>ABZ</td>\n",
       "      <td>[1s9g, 6qbb]</td>\n",
       "    </tr>\n",
       "    <tr>\n",
       "      <th>1</th>\n",
       "      <td>SG2</td>\n",
       "      <td>[1kwr]</td>\n",
       "    </tr>\n",
       "    <tr>\n",
       "      <th>2</th>\n",
       "      <td>DOB</td>\n",
       "      <td>[1dod, 1doe, 1pbb]</td>\n",
       "    </tr>\n",
       "    <tr>\n",
       "      <th>3</th>\n",
       "      <td>UEG</td>\n",
       "      <td>[4c5l, 4c5n, 5eb3, 6k91]</td>\n",
       "    </tr>\n",
       "    <tr>\n",
       "      <th>4</th>\n",
       "      <td>PZA</td>\n",
       "      <td>[3r4x, 3r55, 5fpd, 5rtm]</td>\n",
       "    </tr>\n",
       "    <tr>\n",
       "      <th>...</th>\n",
       "      <td>...</td>\n",
       "      <td>...</td>\n",
       "    </tr>\n",
       "    <tr>\n",
       "      <th>3640</th>\n",
       "      <td>HCS</td>\n",
       "      <td>[1jqw, 1jvi, 1q8a, 1q8j, 1u22, 1xdj, 2ci5, 2lp...</td>\n",
       "    </tr>\n",
       "    <tr>\n",
       "      <th>3641</th>\n",
       "      <td>BGC</td>\n",
       "      <td>[1aa5, 1abr, 1au1, 1ax1, 1b1y, 1b2y, 1bag, 1bg...</td>\n",
       "    </tr>\n",
       "    <tr>\n",
       "      <th>3642</th>\n",
       "      <td>PGA</td>\n",
       "      <td>[1a3w, 1a3x, 1amk, 1aw1, 1btm, 1egh, 1g5k, 1g5...</td>\n",
       "    </tr>\n",
       "    <tr>\n",
       "      <th>3643</th>\n",
       "      <td>ALR</td>\n",
       "      <td>[1az1]</td>\n",
       "    </tr>\n",
       "    <tr>\n",
       "      <th>3644</th>\n",
       "      <td>DPR</td>\n",
       "      <td>[1bfw, 1h0g, 1ic9, 1icl, 1ico, 1jy4, 1jy6, 1jy...</td>\n",
       "    </tr>\n",
       "  </tbody>\n",
       "</table>\n",
       "<p>3645 rows × 2 columns</p>\n",
       "</div>"
      ],
      "text/plain": [
       "       id                                                pdb\n",
       "0     ABZ                                       [1s9g, 6qbb]\n",
       "1     SG2                                             [1kwr]\n",
       "2     DOB                                 [1dod, 1doe, 1pbb]\n",
       "3     UEG                           [4c5l, 4c5n, 5eb3, 6k91]\n",
       "4     PZA                           [3r4x, 3r55, 5fpd, 5rtm]\n",
       "...   ...                                                ...\n",
       "3640  HCS  [1jqw, 1jvi, 1q8a, 1q8j, 1u22, 1xdj, 2ci5, 2lp...\n",
       "3641  BGC  [1aa5, 1abr, 1au1, 1ax1, 1b1y, 1b2y, 1bag, 1bg...\n",
       "3642  PGA  [1a3w, 1a3x, 1amk, 1aw1, 1btm, 1egh, 1g5k, 1g5...\n",
       "3643  ALR                                             [1az1]\n",
       "3644  DPR  [1bfw, 1h0g, 1ic9, 1icl, 1ico, 1jy4, 1jy6, 1jy...\n",
       "\n",
       "[3645 rows x 2 columns]"
      ]
     },
     "execution_count": 18,
     "metadata": {},
     "output_type": "execute_result"
    }
   ],
   "source": [
    "# Create a df with pdb molecule id and compouds in an array style\n",
    "(\n",
    "    spark.createDataFrame(dict_list_only_mol_id)\n",
    "    .toPandas()\n",
    "    .assign(pdb = lambda x: x['id'].apply(get_pdb2))\n",
    ")"
   ]
  },
  {
   "cell_type": "code",
   "execution_count": null,
   "metadata": {},
   "outputs": [],
   "source": []
  }
 ],
 "metadata": {
  "interpreter": {
   "hash": "e9d93bf23f5b3a10c289e016db11843979e782a8e68ad3a10e7ebe65549eb6f1"
  },
  "kernelspec": {
   "display_name": "Python 3 (ipykernel)",
   "language": "python",
   "name": "python3"
  },
  "language_info": {
   "codemirror_mode": {
    "name": "ipython",
    "version": 3
   },
   "file_extension": ".py",
   "mimetype": "text/x-python",
   "name": "python",
   "nbconvert_exporter": "python",
   "pygments_lexer": "ipython3",
   "version": "3.10.2"
  }
 },
 "nbformat": 4,
 "nbformat_minor": 2
}
