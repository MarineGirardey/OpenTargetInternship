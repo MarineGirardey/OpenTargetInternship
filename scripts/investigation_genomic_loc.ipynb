{
 "cells": [
  {
   "cell_type": "markdown",
   "metadata": {},
   "source": [
    "### This Notebook is the investigation for one residue of the genomic position\n",
    "We need to resolve this"
   ]
  },
  {
   "cell_type": "code",
   "execution_count": 154,
   "metadata": {},
   "outputs": [],
   "source": [
    "# Imports\n",
    "import argparse\n",
    "from json import JSONDecodeError\n",
    "\n",
    "import pandas as pd\n",
    "import requests\n",
    "import pyspark.sql.functions as f\n",
    "from pyspark.sql import SparkSession\n",
    "from functools import reduce\n",
    "\n",
    "from Bio.Data.CodonTable import CodonTable\n",
    "from Bio.Seq import Seq\n",
    "from Bio.SeqUtils import IUPACData"
   ]
  },
  {
   "cell_type": "code",
   "execution_count": 155,
   "metadata": {},
   "outputs": [],
   "source": [
    "# establish spark connection\n",
    "spark = (\n",
    "    SparkSession.builder\n",
    "    .master('local[*]')\n",
    "    .getOrCreate()\n",
    ")"
   ]
  },
  {
   "cell_type": "markdown",
   "metadata": {},
   "source": [
    "The residue used here is **Cys115** of the **3e7g** structure"
   ]
  },
  {
   "cell_type": "code",
   "execution_count": 156,
   "metadata": {},
   "outputs": [
    {
     "name": "stderr",
     "output_type": "stream",
     "text": [
      "                                                                                \r"
     ]
    }
   ],
   "source": [
    "# PLIP INPUT (contain wanted data)\n",
    "plip_json_input = (\n",
    "    # \"gene_mapped_structures.json\"\n",
    "    spark.read.json(\"gene_mapped_structures.json\")\n",
    "    .select(\"pdbStructureId\", \"chains\", f.explode(\"compoundIds\").alias(\"pdbCompoundId\"))\n",
    "    .select(\"pdbStructureId\", \"pdbCompoundId\", f.explode(\"chains\").alias(\"chains\"))\n",
    "\n",
    "    )\n",
    "\n",
    "plip_json_input_v2 = (plip_json_input\n",
    "                    .withColumn(\"chainId\", plip_json_input[\"chains.chainId\"])\n",
    "                    .withColumn(\"geneId\", plip_json_input[\"chains.geneId\"])\n",
    "                    .withColumn(\"uniprotId\", plip_json_input[\"chains.uniprot\"])\n",
    "                    .drop(\"chains\")\n",
    "                    )\n",
    "\n",
    "# PLIP OUTPUT\n",
    "plip_csv_output = (\n",
    "    # \"output.csv\"\n",
    "    spark.read.csv(\"output.csv\", header=True, sep=\",\")\n",
    "    .withColumnRenamed(\"pdb_structure_id\", \"pdbStructureId\")\n",
    "    .withColumnRenamed(\"compound_id\", \"pdbCompoundId\")\n",
    "    .withColumnRenamed(\"prot_chain_id\", \"chainId\")\n",
    "    )\n",
    "\n",
    "# JOIN to have gene id (used for filter mapping file on the gene id)\n",
    "plip_output_target_id = (\n",
    "    plip_json_input_v2\n",
    "    .join(plip_csv_output, on=[\"pdbStructureId\", \"chainId\", \"pdbCompoundId\"])\n",
    "    .withColumnRenamed(\"interaction_type\", \"intType\")\n",
    "    .withColumnRenamed(\"prot_residue_number\", \"protResNb\")\n",
    "    .withColumnRenamed(\"prot_residue_type\", \"protResType\")\n",
    ")\n",
    "\n",
    "# Target df\n",
    "target_df = (\n",
    "    spark.read\n",
    "    .parquet(\"../targets\")\n",
    "    .select(\"id\", \"genomicLocation\")\n",
    "    .withColumn(\"chromosome\", f.col(\"genomicLocation.chromosome\"))\n",
    "    .withColumnRenamed(\"id\", \"geneId\")\n",
    "    .drop(\"genomicLocation\")\n",
    ")\n",
    "\n",
    "plip_output_agg = (\n",
    "    plip_output_target_id\n",
    "    .join(target_df, on='geneId')\n",
    "    .groupby([f.col('geneId'),\n",
    "            f.col('uniprotId'),\n",
    "            f.col(\"pdbStructureId\").alias(\"pdbStructId\")\n",
    "            ])\n",
    "\n",
    "    .agg(f.collect_set(f.struct(\n",
    "            f.col('pdbCompoundId'),\n",
    "            f.col('chromosome'),\n",
    "            f.col('intType'),\n",
    "            f.col('chainId'),\n",
    "            f.col('protResType'),\n",
    "            f.col('protResNb')))        \n",
    "        .alias(\"chr, intType, chain, resType, resNb\"),\n",
    "\n",
    "        f.collect_set(f.col(\"pdbCompoundId\")).alias(\"pdbCompId\")\n",
    "        )\n",
    "    )\n"
   ]
  },
  {
   "cell_type": "code",
   "execution_count": 157,
   "metadata": {},
   "outputs": [],
   "source": [
    "my_residue_of_interest = (\n",
    "    plip_output_agg\n",
    "    .filter(f.col(\"pdbStructId\").rlike(\"3e7g\"))\n",
    "    .select(\"*\", f.explode(f.col(\"chr, intType, chain, resType, resNb\")).alias(\"resInfos\"))\n",
    "    .filter(f.col(\"resInfos.protResNb\").rlike(\"115\"))\n",
    "    .filter(f.col(\"resInfos.chainId\").rlike(\"A\"))\n",
    "    .withColumn(\"pdbCompoundId\", f.col(\"resInfos.pdbCompoundId\"))\n",
    "    .withColumn(\"chromosome\", f.col(\"resInfos.chromosome\"))\n",
    "    .withColumn(\"intType\", f.col(\"resInfos.intType\"))\n",
    "    .withColumn(\"chainId\", f.col(\"resInfos.chainId\"))\n",
    "    .withColumn(\"protResType\", f.col(\"resInfos.protResType\"))\n",
    "    .withColumn(\"protResNb\", f.col(\"resInfos.protResNb\"))\n",
    "    .drop(\"chr, intType, chain, resType, resNb\", \"pdbCompId\", \"resInfos\")\n",
    ")"
   ]
  },
  {
   "cell_type": "code",
   "execution_count": 158,
   "metadata": {},
   "outputs": [
    {
     "name": "stderr",
     "output_type": "stream",
     "text": [
      "                                                                                \r"
     ]
    },
    {
     "name": "stdout",
     "output_type": "stream",
     "text": [
      "+---------------+---------+-----------+-------------+----------+-------------+-------+-----------+---------+\n",
      "|         geneId|uniprotId|pdbStructId|pdbCompoundId|chromosome|      intType|chainId|protResType|protResNb|\n",
      "+---------------+---------+-----------+-------------+----------+-------------+-------+-----------+---------+\n",
      "|ENSG00000007171|   P35228|       3e7g|           ZN|        17|metal_complex|      A|        CYS|      115|\n",
      "+---------------+---------+-----------+-------------+----------+-------------+-------+-----------+---------+\n",
      "\n"
     ]
    }
   ],
   "source": [
    "my_residue_of_interest.show()"
   ]
  },
  {
   "cell_type": "code",
   "execution_count": 159,
   "metadata": {},
   "outputs": [],
   "source": [
    "# Hard coding because the translation id in the xml file\n",
    "pdb_struct_id = \"3e7g\"\n",
    "geneId = \"ENSG00000007171\"\n",
    "translationId = \"ENSP00000327251\"\n",
    "protResNb = \"115\""
   ]
  },
  {
   "cell_type": "markdown",
   "metadata": {},
   "source": [
    "Residue genomic position which is working"
   ]
  },
  {
   "cell_type": "code",
   "execution_count": 160,
   "metadata": {},
   "outputs": [
    {
     "name": "stdout",
     "output_type": "stream",
     "text": [
      "CYS\n"
     ]
    }
   ],
   "source": [
    "url = f\"https://rest.ensembl.org/map/translation/{translationId}/{protResNb}..{protResNb}?content-type=application/json\"\n",
    "\n",
    "response = requests.get(url)\n",
    "res_api_info = response.json()\n",
    "\n",
    "chr = res_api_info[\"mappings\"][0][\"seq_region_name\"]\n",
    "start_gen = res_api_info[\"mappings\"][0][\"start\"]\n",
    "end_gen = res_api_info[\"mappings\"][0][\"end\"]\n",
    "strand = res_api_info[\"mappings\"][0][\"strand\"]\n",
    "\n",
    "url = f\"https://rest.ensembl.org/sequence/region/human/{chr}:{start_gen}..{end_gen}:{strand}?content-type=text/plain\"\n",
    "\n",
    "response = requests.get(url)\n",
    "codon = response.text\n",
    "my_rna = Seq(codon)\n",
    "amino_acid_1 = str(my_rna.translate())\n",
    "try:\n",
    "    amino_acid_3 = IUPACData.protein_letters_1to3[amino_acid_1].upper()\n",
    "except KeyError:\n",
    "    amino_acid_3 = '*'\n",
    "\n",
    "print(amino_acid_3)"
   ]
  },
  {
   "cell_type": "markdown",
   "metadata": {},
   "source": [
    "Try to find the same genomic location with ensembl mapping graph api"
   ]
  },
  {
   "cell_type": "code",
   "execution_count": 161,
   "metadata": {},
   "outputs": [],
   "source": [
    "def get_position(row: pd.Series) -> int:\n",
    "    aa_in_range = row['protResNb'] - row['author_residue_start']\n",
    "    base_in_range = aa_in_range * 3\n",
    "    return base_in_range + row['genome_start']"
   ]
  },
  {
   "cell_type": "code",
   "execution_count": 162,
   "metadata": {},
   "outputs": [
    {
     "name": "stderr",
     "output_type": "stream",
     "text": [
      "                                                                                \r"
     ]
    }
   ],
   "source": [
    "# Quick conversion to pandas and integer\n",
    "my_residue_of_interest_pd = my_residue_of_interest.toPandas().astype({'protResNb': 'int32'})"
   ]
  },
  {
   "cell_type": "code",
   "execution_count": 163,
   "metadata": {},
   "outputs": [],
   "source": [
    "url = f'https://www.ebi.ac.uk/pdbe/graph-api/mappings/ensembl/{pdb_struct_id}'\n",
    "headers={'Content-Type': 'application/json'}\n",
    "response = requests.get(url, headers=headers)\n",
    "e_mapping_file = response.json()"
   ]
  },
  {
   "cell_type": "code",
   "execution_count": 164,
   "metadata": {},
   "outputs": [],
   "source": [
    "all_mappings = (\n",
    "        # Extract mappings for all genes:\n",
    "        pd.DataFrame(reduce(lambda x, y: x + y['mappings'], e_mapping_file[pdb_struct_id]['Ensembl'].values(), []))\n",
    "\n",
    "        # Extract protein position:\n",
    "        .assign(\n",
    "            author_residue_start = lambda df: df.start.apply(lambda x: x['author_residue_number']),\n",
    "            author_residue_end = lambda df: df.end.apply(lambda x: x['author_residue_number']),\n",
    "        )\n",
    "\n",
    "        # Selecting columns:\n",
    "        [['chain_id', 'accession', 'genome_start', 'genome_end', 'author_residue_start', 'author_residue_end']]\n",
    "\n",
    "        # Dropping isoforms:\n",
    "        .assign(\n",
    "            accession = lambda df: df.accession.str.replace(r'-\\d+', '', regex=True),\n",
    "            pdb_struct_id = pdb_struct_id\n",
    "        )\n",
    "        .drop_duplicates()\n",
    "\n",
    "        .rename(columns={\"chain_id\": \"chainId\"})        \n",
    "    )"
   ]
  },
  {
   "cell_type": "code",
   "execution_count": 165,
   "metadata": {},
   "outputs": [],
   "source": [
    "# Joining mappings with plip data (Reduce the whole set to only same chain id)\n",
    "map_plip_o_joined = all_mappings.merge(my_residue_of_interest_pd, on='chainId', how='inner')"
   ]
  },
  {
   "cell_type": "code",
   "execution_count": 166,
   "metadata": {},
   "outputs": [],
   "source": [
    "# Only keep the residues that are in the range and compute the position\n",
    "map_plip_o_joined_filt = (\n",
    "    map_plip_o_joined\n",
    "        # Filter for position match:\n",
    "        .query('author_residue_start <= protResNb and author_residue_end >= protResNb')\n",
    "        # Compute position:\n",
    "        .assign(\n",
    "            residue_start_genomic = lambda df: df.apply(get_position, axis=1)\n",
    "        )\n",
    ")"
   ]
  },
  {
   "cell_type": "code",
   "execution_count": 167,
   "metadata": {},
   "outputs": [
    {
     "data": {
      "text/html": [
       "<div>\n",
       "<style scoped>\n",
       "    .dataframe tbody tr th:only-of-type {\n",
       "        vertical-align: middle;\n",
       "    }\n",
       "\n",
       "    .dataframe tbody tr th {\n",
       "        vertical-align: top;\n",
       "    }\n",
       "\n",
       "    .dataframe thead th {\n",
       "        text-align: right;\n",
       "    }\n",
       "</style>\n",
       "<table border=\"1\" class=\"dataframe\">\n",
       "  <thead>\n",
       "    <tr style=\"text-align: right;\">\n",
       "      <th></th>\n",
       "      <th>chainId</th>\n",
       "      <th>accession</th>\n",
       "      <th>genome_start</th>\n",
       "      <th>genome_end</th>\n",
       "      <th>author_residue_start</th>\n",
       "      <th>author_residue_end</th>\n",
       "      <th>pdb_struct_id</th>\n",
       "      <th>geneId</th>\n",
       "      <th>uniprotId</th>\n",
       "      <th>pdbStructId</th>\n",
       "      <th>pdbCompoundId</th>\n",
       "      <th>chromosome</th>\n",
       "      <th>intType</th>\n",
       "      <th>protResType</th>\n",
       "      <th>protResNb</th>\n",
       "      <th>residue_start_genomic</th>\n",
       "    </tr>\n",
       "  </thead>\n",
       "  <tbody>\n",
       "    <tr>\n",
       "      <th>2</th>\n",
       "      <td>A</td>\n",
       "      <td>P35228</td>\n",
       "      <td>27787826</td>\n",
       "      <td>27787973</td>\n",
       "      <td>107</td>\n",
       "      <td>156</td>\n",
       "      <td>3e7g</td>\n",
       "      <td>ENSG00000007171</td>\n",
       "      <td>P35228</td>\n",
       "      <td>3e7g</td>\n",
       "      <td>ZN</td>\n",
       "      <td>17</td>\n",
       "      <td>metal_complex</td>\n",
       "      <td>CYS</td>\n",
       "      <td>115</td>\n",
       "      <td>27787850</td>\n",
       "    </tr>\n",
       "    <tr>\n",
       "      <th>3</th>\n",
       "      <td>A</td>\n",
       "      <td>PRO_0000170930</td>\n",
       "      <td>27787826</td>\n",
       "      <td>27787973</td>\n",
       "      <td>107</td>\n",
       "      <td>156</td>\n",
       "      <td>3e7g</td>\n",
       "      <td>ENSG00000007171</td>\n",
       "      <td>P35228</td>\n",
       "      <td>3e7g</td>\n",
       "      <td>ZN</td>\n",
       "      <td>17</td>\n",
       "      <td>metal_complex</td>\n",
       "      <td>CYS</td>\n",
       "      <td>115</td>\n",
       "      <td>27787850</td>\n",
       "    </tr>\n",
       "  </tbody>\n",
       "</table>\n",
       "</div>"
      ],
      "text/plain": [
       "  chainId       accession  genome_start  genome_end  author_residue_start  \\\n",
       "2       A          P35228      27787826    27787973                   107   \n",
       "3       A  PRO_0000170930      27787826    27787973                   107   \n",
       "\n",
       "   author_residue_end pdb_struct_id           geneId uniprotId pdbStructId  \\\n",
       "2                 156          3e7g  ENSG00000007171    P35228        3e7g   \n",
       "3                 156          3e7g  ENSG00000007171    P35228        3e7g   \n",
       "\n",
       "  pdbCompoundId chromosome        intType protResType  protResNb  \\\n",
       "2            ZN         17  metal_complex         CYS        115   \n",
       "3            ZN         17  metal_complex         CYS        115   \n",
       "\n",
       "   residue_start_genomic  \n",
       "2               27787850  \n",
       "3               27787850  "
      ]
     },
     "execution_count": 167,
     "metadata": {},
     "output_type": "execute_result"
    }
   ],
   "source": [
    "map_plip_o_joined_filt"
   ]
  },
  {
   "cell_type": "code",
   "execution_count": 169,
   "metadata": {},
   "outputs": [],
   "source": [
    "# !! Strand manually entered !!\n",
    "def determine_aa(row):\n",
    "    chr = row[11]\n",
    "    start_gen = row[2]\n",
    "    end_gen = row[3]\n",
    "\n",
    "    url = f\"https://rest.ensembl.org/sequence/region/human/{chr}:{start_gen}..{end_gen}:-1?content-type=text/plain\"\n",
    "\n",
    "    response = requests.get(url)\n",
    "    codon = response.text\n",
    "    my_rna = Seq(codon)\n",
    "    amino_acid_1 = str(my_rna.translate())\n",
    "    try:\n",
    "        amino_acid_3 = IUPACData.protein_letters_1to3[amino_acid_1].upper()\n",
    "    except KeyError:\n",
    "        amino_acid_3 = '*'\n",
    "\n",
    "    return amino_acid_3"
   ]
  },
  {
   "cell_type": "code",
   "execution_count": 172,
   "metadata": {},
   "outputs": [
    {
     "name": "stderr",
     "output_type": "stream",
     "text": [
      "/Users/marinegirardey/miniforge3/envs/plip_env/lib/python3.8/site-packages/Bio/Seq.py:2979: BiopythonWarning: Partial codon, len(sequence) not a multiple of three. Explicitly trim the sequence or add trailing N before translation. This may become an error in future.\n",
      "  warnings.warn(\n"
     ]
    },
    {
     "data": {
      "text/html": [
       "<div>\n",
       "<style scoped>\n",
       "    .dataframe tbody tr th:only-of-type {\n",
       "        vertical-align: middle;\n",
       "    }\n",
       "\n",
       "    .dataframe tbody tr th {\n",
       "        vertical-align: top;\n",
       "    }\n",
       "\n",
       "    .dataframe thead th {\n",
       "        text-align: right;\n",
       "    }\n",
       "</style>\n",
       "<table border=\"1\" class=\"dataframe\">\n",
       "  <thead>\n",
       "    <tr style=\"text-align: right;\">\n",
       "      <th></th>\n",
       "      <th>chainId</th>\n",
       "      <th>accession</th>\n",
       "      <th>genome_start</th>\n",
       "      <th>genome_end</th>\n",
       "      <th>author_residue_start</th>\n",
       "      <th>author_residue_end</th>\n",
       "      <th>pdb_struct_id</th>\n",
       "      <th>geneId</th>\n",
       "      <th>uniprotId</th>\n",
       "      <th>pdbStructId</th>\n",
       "      <th>pdbCompoundId</th>\n",
       "      <th>chromosome</th>\n",
       "      <th>intType</th>\n",
       "      <th>protResType</th>\n",
       "      <th>protResNb</th>\n",
       "      <th>residue_start_genomic</th>\n",
       "      <th>protResTypeComputed</th>\n",
       "    </tr>\n",
       "  </thead>\n",
       "  <tbody>\n",
       "    <tr>\n",
       "      <th>2</th>\n",
       "      <td>A</td>\n",
       "      <td>P35228</td>\n",
       "      <td>27787826</td>\n",
       "      <td>27787973</td>\n",
       "      <td>107</td>\n",
       "      <td>156</td>\n",
       "      <td>3e7g</td>\n",
       "      <td>ENSG00000007171</td>\n",
       "      <td>P35228</td>\n",
       "      <td>3e7g</td>\n",
       "      <td>ZN</td>\n",
       "      <td>17</td>\n",
       "      <td>metal_complex</td>\n",
       "      <td>CYS</td>\n",
       "      <td>115</td>\n",
       "      <td>27787850</td>\n",
       "      <td>*</td>\n",
       "    </tr>\n",
       "    <tr>\n",
       "      <th>3</th>\n",
       "      <td>A</td>\n",
       "      <td>PRO_0000170930</td>\n",
       "      <td>27787826</td>\n",
       "      <td>27787973</td>\n",
       "      <td>107</td>\n",
       "      <td>156</td>\n",
       "      <td>3e7g</td>\n",
       "      <td>ENSG00000007171</td>\n",
       "      <td>P35228</td>\n",
       "      <td>3e7g</td>\n",
       "      <td>ZN</td>\n",
       "      <td>17</td>\n",
       "      <td>metal_complex</td>\n",
       "      <td>CYS</td>\n",
       "      <td>115</td>\n",
       "      <td>27787850</td>\n",
       "      <td>*</td>\n",
       "    </tr>\n",
       "  </tbody>\n",
       "</table>\n",
       "</div>"
      ],
      "text/plain": [
       "  chainId       accession  genome_start  genome_end  author_residue_start  \\\n",
       "2       A          P35228      27787826    27787973                   107   \n",
       "3       A  PRO_0000170930      27787826    27787973                   107   \n",
       "\n",
       "   author_residue_end pdb_struct_id           geneId uniprotId pdbStructId  \\\n",
       "2                 156          3e7g  ENSG00000007171    P35228        3e7g   \n",
       "3                 156          3e7g  ENSG00000007171    P35228        3e7g   \n",
       "\n",
       "  pdbCompoundId chromosome        intType protResType  protResNb  \\\n",
       "2            ZN         17  metal_complex         CYS        115   \n",
       "3            ZN         17  metal_complex         CYS        115   \n",
       "\n",
       "   residue_start_genomic protResTypeComputed  \n",
       "2               27787850                   *  \n",
       "3               27787850                   *  "
      ]
     },
     "execution_count": 172,
     "metadata": {},
     "output_type": "execute_result"
    }
   ],
   "source": [
    "(\n",
    "    map_plip_o_joined_filt\n",
    "    .assign(\n",
    "        protResTypeComputed = lambda df: df.apply(determine_aa, axis=1)\n",
    "        )\n",
    ")"
   ]
  },
  {
   "cell_type": "code",
   "execution_count": null,
   "metadata": {},
   "outputs": [],
   "source": []
  }
 ],
 "metadata": {
  "interpreter": {
   "hash": "e967bce37a4bacdfaaf88937c5931e59374b6695986b980bb0c938b9d2bb9028"
  },
  "kernelspec": {
   "display_name": "Python 3.8.12 ('plip_env')",
   "language": "python",
   "name": "python3"
  },
  "language_info": {
   "codemirror_mode": {
    "name": "ipython",
    "version": 3
   },
   "file_extension": ".py",
   "mimetype": "text/x-python",
   "name": "python",
   "nbconvert_exporter": "python",
   "pygments_lexer": "ipython3",
   "version": "3.8.12"
  },
  "orig_nbformat": 4
 },
 "nbformat": 4,
 "nbformat_minor": 2
}
