{
 "cells": [
  {
   "cell_type": "code",
   "execution_count": 13,
   "metadata": {},
   "outputs": [],
   "source": [
    "import pyspark.sql.functions as f\n",
    "from pyspark.sql import SparkSession\n",
    "from pyspark.sql.types import StructField, StructType, IntegerType, StringType"
   ]
  },
  {
   "cell_type": "code",
   "execution_count": 14,
   "metadata": {},
   "outputs": [],
   "source": [
    "spark = (\n",
    "    SparkSession.builder\n",
    "    .master('local[*]')\n",
    "    .config(\"spark.driver.memory\", \"15g\")\n",
    "    .getOrCreate()\n",
    "    )"
   ]
  },
  {
   "cell_type": "markdown",
   "metadata": {},
   "source": [
    "### Open the crossref Uniprot Ensembl to add the Ensembl id and merge"
   ]
  },
  {
   "cell_type": "code",
   "execution_count": 15,
   "metadata": {},
   "outputs": [
    {
     "name": "stdout",
     "output_type": "stream",
     "text": [
      "+---------+-------------+--------------------+--------------+-------+-------------------+-----------------+---------------+----------------+\n",
      "|accession|pdbCompoundId|   interaction_types|pdbStructureId|chainId|prot_residue_number|prot_residue_type| translation_id|uniprot_position|\n",
      "+---------+-------------+--------------------+--------------+-------+-------------------+-----------------+---------------+----------------+\n",
      "|   P09211|          GSH|             [hbond]|          11gs|      A|                 52|              LEU|ENSP00000381607|              53|\n",
      "|   P09211|          GSH|[hydroph_interact...|          11gs|      B|                 13|              ARG|ENSP00000381607|              14|\n",
      "+---------+-------------+--------------------+--------------+-------+-------------------+-----------------+---------------+----------------+\n",
      "only showing top 2 rows\n",
      "\n"
     ]
    }
   ],
   "source": [
    "residue_index = (\n",
    "    spark.read.json(\"residue_gen_pos_output/res_genomic_pos_mapped.json\")\n",
    "    .withColumnRenamed(\"pdb_structure_id\", \"pdbStructureId\")\n",
    "    .withColumnRenamed(\"prot_chain_id\", \"chainId\")\n",
    "    .withColumnRenamed(\"compound_id\", \"pdbCompoundId\")\n",
    ")\n",
    "residue_index.show(2)"
   ]
  },
  {
   "cell_type": "code",
   "execution_count": 16,
   "metadata": {},
   "outputs": [
    {
     "name": "stdout",
     "output_type": "stream",
     "text": [
      "+---------+---------------+\n",
      "|accession|  ensemblProtId|\n",
      "+---------+---------------+\n",
      "|   P31946|ENSP00000300161|\n",
      "|   P31946|ENSP00000361930|\n",
      "+---------+---------------+\n",
      "only showing top 2 rows\n",
      "\n"
     ]
    }
   ],
   "source": [
    "schema = StructType([\n",
    "    StructField(\"UniProtKB-AC\", StringType(), True),\n",
    "    StructField(\"ID_type\", StringType(), True),\n",
    "    StructField(\"ID\", StringType(), True)\n",
    "    ])\n",
    "\n",
    "cross_ref_uniprot = (\n",
    "                    spark\n",
    "                        .read.csv(\"files_to_merge_genomic_loc/HUMAN_9606_idmapping.tsv\", sep=\"\\t\", schema=schema)\n",
    "                        .filter(f.col('ID_type').rlike('Ensembl_PRO'))\n",
    "                        .select(f.col('UniProtKB-AC'), f.col('ID'))\n",
    "                        .withColumnRenamed(\"UniProtKB-AC\", \"accession\")\n",
    "                        .withColumnRenamed(\"ID\", \"ensemblProtId\")\n",
    "    )\n",
    "cross_ref_uniprot.show(2)"
   ]
  },
  {
   "cell_type": "code",
   "execution_count": 17,
   "metadata": {},
   "outputs": [
    {
     "name": "stderr",
     "output_type": "stream",
     "text": [
      "[Stage 29:===>            (9 + 31) / 40][Stage 30:===============>(34 + 2) / 36]\r"
     ]
    },
    {
     "name": "stdout",
     "output_type": "stream",
     "text": [
      "+---------+---------------+-------------+-----------------+--------------+-------+-------------------+-----------------+----------------+\n",
      "|accession|  ensemblProtId|pdbCompoundId|interaction_types|pdbStructureId|chainId|prot_residue_number|prot_residue_type|uniprot_position|\n",
      "+---------+---------------+-------------+-----------------+--------------+-------+-------------------+-----------------+----------------+\n",
      "|   P00918|ENSP00000285379|           ZN|  [metal_complex]|          12ca|      A|                 94|              HIS|              94|\n",
      "|   P00918|ENSP00000285379|           ZN|  [metal_complex]|          12ca|      A|                119|              HIS|             119|\n",
      "+---------+---------------+-------------+-----------------+--------------+-------+-------------------+-----------------+----------------+\n",
      "only showing top 2 rows\n",
      "\n"
     ]
    },
    {
     "name": "stderr",
     "output_type": "stream",
     "text": [
      "                                                                                \r"
     ]
    }
   ],
   "source": [
    "residue_index_1 = (\n",
    "    cross_ref_uniprot\n",
    "    .join(residue_index, on='accession', how='inner')\n",
    "    .drop(\"translation_id\")\n",
    ")\n",
    "residue_index_1.show(2)"
   ]
  },
  {
   "cell_type": "code",
   "execution_count": 18,
   "metadata": {},
   "outputs": [
    {
     "name": "stdout",
     "output_type": "stream",
     "text": [
      "+---------+---------+---------+---------------+---------------+---+------+-------------------+\n",
      "|     pos1|     pos2|     pos3|  ensemblProtId|         geneId|chr|strand|prot_residue_number|\n",
      "+---------+---------+---------+---------------+---------------+---+------+-------------------+\n",
      "|127588499|127588500|127588501|ENSP00000000233|ENSG00000004059|  7|     +|                  1|\n",
      "|127588502|127588503|127588504|ENSP00000000233|ENSG00000004059|  7|     +|                  2|\n",
      "+---------+---------+---------+---------------+---------------+---+------+-------------------+\n",
      "only showing top 2 rows\n",
      "\n"
     ]
    }
   ],
   "source": [
    "generated_mapping = (\n",
    "    spark.read.csv(\"files_to_merge_genomic_loc/generated_mappings.tsv\", sep=\"\\t\", header=True)\n",
    "    .withColumnRenamed(\"protein_id\", \"ensemblProtId\")\n",
    "    .withColumnRenamed(\"gene_id\", \"geneId\")\n",
    "    .withColumnRenamed(\"amino_acid_position\", \"prot_residue_number\")\n",
    ")\n",
    "generated_mapping.show(2)"
   ]
  },
  {
   "cell_type": "code",
   "execution_count": 19,
   "metadata": {},
   "outputs": [
    {
     "name": "stderr",
     "output_type": "stream",
     "text": [
      "[Stage 39:========================>                              (29 + 35) / 64]\r"
     ]
    },
    {
     "name": "stdout",
     "output_type": "stream",
     "text": [
      "+---------------+-------------------+---------+-------------+-----------------+--------------+-------+-----------------+--------+--------+--------+---------------+---+------+\n",
      "|  ensemblProtId|prot_residue_number|accession|pdbCompoundId|interaction_types|pdbStructureId|chainId|prot_residue_type|    pos1|    pos2|    pos3|         geneId|chr|strand|\n",
      "+---------------+-------------------+---------+-------------+-----------------+--------------+-------+-----------------+--------+--------+--------+---------------+---+------+\n",
      "|ENSP00000002596|                221|   O14792|          A3P|        [pistack]|          1zrh|      A|              PHE|11399345|11399344|11399343|ENSG00000002587|  4|     -|\n",
      "|ENSP00000005178|                330|   Q16654|          P4A|          [hbond]|          2zdx|      A|              PHE|95587117|95587116|95587115|ENSG00000004799|  7|     -|\n",
      "+---------------+-------------------+---------+-------------+-----------------+--------------+-------+-----------------+--------+--------+--------+---------------+---+------+\n",
      "only showing top 2 rows\n",
      "\n"
     ]
    },
    {
     "name": "stderr",
     "output_type": "stream",
     "text": [
      "                                                                                \r"
     ]
    }
   ],
   "source": [
    "residue_gen_pos = (\n",
    "    residue_index_1\n",
    "    .join(generated_mapping, on=['ensemblProtId', 'prot_residue_number'], how='inner')\n",
    "    .drop(\"uniprot_position\")\n",
    ")\n",
    "residue_gen_pos.show(2)"
   ]
  },
  {
   "cell_type": "code",
   "execution_count": 20,
   "metadata": {},
   "outputs": [
    {
     "name": "stderr",
     "output_type": "stream",
     "text": [
      "[Stage 49:====================================================> (155 + 4) / 159]\r"
     ]
    },
    {
     "name": "stdout",
     "output_type": "stream",
     "text": [
      "+----------+---------------+-----------------------------------------------------------------+\n",
      "|chromosome|genomicLocation|evidenceInfo                                                     |\n",
      "+----------+---------------+-----------------------------------------------------------------+\n",
      "|1         |100188948      |[{1_100188948_C_G, Orphanet_511, Maple syrup urine disease, eva}]|\n",
      "|1         |100192396      |[{1_100192396_A_G, Orphanet_511, Maple syrup urine disease, eva}]|\n",
      "+----------+---------------+-----------------------------------------------------------------+\n",
      "only showing top 2 rows\n",
      "\n"
     ]
    },
    {
     "name": "stderr",
     "output_type": "stream",
     "text": [
      "                                                                                \r"
     ]
    }
   ],
   "source": [
    "evidence = (\n",
    "    spark.read.parquet(\"../../evidence\")\n",
    "    .filter(f.col(\"variantId\").isNotNull())\n",
    "    .withColumn('chromosome', f.split(f.col('variantId'), '_').getItem(0))\n",
    "    .withColumn('genomicLocation', f.split(f.col('variantId'), '_').getItem(1))\n",
    "    .groupBy('chromosome', 'genomicLocation')\n",
    "    .agg(\n",
    "        f.collect_set(f.struct(\n",
    "            f.col('variantId'), \n",
    "            f.col('diseaseId'), \n",
    "            f.col('diseaseFromSource'),\n",
    "            f.col('datasourceId'))).alias('evidenceInfo')\n",
    "    )\n",
    ")\n",
    "evidence.show(2, truncate=False)"
   ]
  },
  {
   "cell_type": "code",
   "execution_count": 21,
   "metadata": {},
   "outputs": [
    {
     "name": "stderr",
     "output_type": "stream",
     "text": [
      "[Stage 54:======>        (27 + 37) / 64][Stage 58:==============>   (4 + 1) / 5]\r"
     ]
    },
    {
     "name": "stdout",
     "output_type": "stream",
     "text": [
      "+---------------+---------+--------------+-------------+-------------------+-------+-----------------+---+-----------------+---------------+\n",
      "|         geneId|accession|pdbStructureId|pdbCompoundId|prot_residue_number|chainId|prot_residue_type|chr|genLocation_label|genLocation_val|\n",
      "+---------------+---------+--------------+-------------+-------------------+-------+-----------------+---+-----------------+---------------+\n",
      "|ENSG00000002587|   O14792|          1zrh|          A3P|                221|      A|              PHE|  4|             pos1|       11399345|\n",
      "|ENSG00000002587|   O14792|          1zrh|          A3P|                221|      A|              PHE|  4|             pos2|       11399344|\n",
      "|ENSG00000002587|   O14792|          1zrh|          A3P|                221|      A|              PHE|  4|             pos3|       11399343|\n",
      "|ENSG00000004799|   Q16654|          2zdx|          P4A|                330|      A|              PHE|  7|             pos1|       95587117|\n",
      "|ENSG00000004799|   Q16654|          2zdx|          P4A|                330|      A|              PHE|  7|             pos2|       95587116|\n",
      "+---------------+---------+--------------+-------------+-------------------+-------+-----------------+---+-----------------+---------------+\n",
      "only showing top 5 rows\n",
      "\n"
     ]
    },
    {
     "name": "stderr",
     "output_type": "stream",
     "text": [
      "                                                                                \r"
     ]
    }
   ],
   "source": [
    "unpivot_expression = '''stack(3, 'pos1', pos1, 'pos2', pos2, 'pos3', pos3) as (genLocation_label, genLocation_val)'''\n",
    "\n",
    "gen_location_unpivot = (\n",
    "    residue_gen_pos\n",
    "        .select('geneId', 'accession', 'pdbStructureId', 'pdbCompoundId', 'prot_residue_number', 'chainId', 'prot_residue_type', 'chr', f.expr(unpivot_expression))\n",
    ")\n",
    "gen_location_unpivot.show(5)"
   ]
  },
  {
   "cell_type": "code",
   "execution_count": 22,
   "metadata": {},
   "outputs": [
    {
     "name": "stderr",
     "output_type": "stream",
     "text": [
      "[Stage 74:=====================================================>  (64 + 3) / 67]\r"
     ]
    },
    {
     "name": "stdout",
     "output_type": "stream",
     "text": [
      "+---------------+---------+--------------+-------------+-------------------+-------+-----------------+---+-----------------+---------------+----------+---------------+------------+\n",
      "|         geneId|accession|pdbStructureId|pdbCompoundId|prot_residue_number|chainId|prot_residue_type|chr|genLocation_label|genLocation_val|chromosome|genomicLocation|evidenceInfo|\n",
      "+---------------+---------+--------------+-------------+-------------------+-------+-----------------+---+-----------------+---------------+----------+---------------+------------+\n",
      "|ENSG00000004478|   Q02790|          4drj|          RAP|                 87|      A|              ILE| 12|             pos3|        2797739|      null|           null|        null|\n",
      "|ENSG00000004478|   Q02790|          4lax|          FK5|                 87|      A|              ILE| 12|             pos3|        2797739|      null|           null|        null|\n",
      "|ENSG00000002587|   O14792|          1zrh|          A3P|                 35|      A|              ARG|  4|             pos2|       11399902|      null|           null|        null|\n",
      "|ENSG00000002587|   O14792|          1zrh|          A3P|                 33|      A|              GLY|  4|             pos2|       11399908|      null|           null|        null|\n",
      "|ENSG00000006451|   P11233|          1uad|          GNP|                 40|      A|              VAL|  7|             pos1|       39690385|      null|           null|        null|\n",
      "+---------------+---------+--------------+-------------+-------------------+-------+-----------------+---+-----------------+---------------+----------+---------------+------------+\n",
      "only showing top 5 rows\n",
      "\n"
     ]
    },
    {
     "name": "stderr",
     "output_type": "stream",
     "text": [
      "                                                                                \r"
     ]
    }
   ],
   "source": [
    "disease_association = (\n",
    "    gen_location_unpivot\n",
    "    .join(\n",
    "        evidence, \n",
    "        (gen_location_unpivot.chr == evidence.chromosome) &\n",
    "        (gen_location_unpivot.genLocation_val == evidence.genomicLocation),\n",
    "        how='left'\n",
    "    )\n",
    ")\n",
    "disease_association.show(5)"
   ]
  },
  {
   "cell_type": "code",
   "execution_count": 23,
   "metadata": {},
   "outputs": [
    {
     "name": "stdout",
     "output_type": "stream",
     "text": [
      "+--------------------+-----------+\n",
      "|            drugName|pdbCompound|\n",
      "+--------------------+-----------+\n",
      "|(1-Phenylcyclopen...|        007|\n",
      "+--------------------+-----------+\n",
      "only showing top 1 row\n",
      "\n"
     ]
    }
   ],
   "source": [
    "# MOLECULES\n",
    "molecule = (\n",
    "    spark.read\n",
    "    .parquet(\"../../molecule/\")\n",
    "    .select(\n",
    "        f.col('inchiKey').alias('inchikey'), \n",
    "        f.col('name').alias('drugName')\n",
    "        #, 'linkedTargets', 'linkedDiseases'\n",
    "    )\n",
    "    .persist()\n",
    ")\n",
    "# INCHIKEY MOLECULES\n",
    "inchikey = (\n",
    "    spark.read\n",
    "        .csv(\"../../inchikey/components_inchikeys.csv\", sep=',', header=True, comment='#')\n",
    "        .select(\n",
    "            f.col('InChIKey').alias('inchikey'), \n",
    "            f.col('CCD_ID').alias('pdbCompound')\n",
    "        )\n",
    "    .persist()\n",
    ")\n",
    "# MOLECULE WITH COMPOUND ID\n",
    "molecules_inchikey_join = (\n",
    "    molecule\n",
    "    .join(inchikey, on='inchikey')\n",
    "    .drop(\"inchikey\")\n",
    "    .persist()\n",
    ")\n",
    "molecules_inchikey_join.show(1)"
   ]
  },
  {
   "cell_type": "code",
   "execution_count": 24,
   "metadata": {},
   "outputs": [
    {
     "name": "stdout",
     "output_type": "stream",
     "text": [
      "+---------------+-------+--------------------+\n",
      "|       targetId| symbol|                name|\n",
      "+---------------+-------+--------------------+\n",
      "|ENSG00000002016|  RAD52|RAD52 homolog, DN...|\n",
      "|ENSG00000002745|  WNT16|Wnt family member 16|\n",
      "|ENSG00000033867| SLC4A7|solute carrier fa...|\n",
      "|ENSG00000035499|DEPDC1B|DEP domain contai...|\n",
      "|ENSG00000038532|CLEC16A|C-type lectin dom...|\n",
      "|ENSG00000051382| PIK3CB|phosphatidylinosi...|\n",
      "|ENSG00000068137|PLEKHH3|pleckstrin homolo...|\n",
      "|ENSG00000075826| SEC31B|SEC31 homolog B, ...|\n",
      "|ENSG00000079616|  KIF22|kinesin family me...|\n",
      "|ENSG00000083845|   RPS5|ribosomal protein S5|\n",
      "|ENSG00000084628| NKAIN1|sodium/potassium ...|\n",
      "|ENSG00000089356|  FXYD3|FXYD domain conta...|\n",
      "|ENSG00000099974|   DDTL|D-dopachrome taut...|\n",
      "|ENSG00000100191| SLC5A4|solute carrier fa...|\n",
      "|ENSG00000101049|   SGK2|serum/glucocortic...|\n",
      "|ENSG00000101448|  EPPIN|epididymal peptid...|\n",
      "|ENSG00000102409|   BEX4|brain expressed X...|\n",
      "|ENSG00000102466|  FGF14|fibroblast growth...|\n",
      "|ENSG00000104388|  RAB2A|RAB2A, member RAS...|\n",
      "|ENSG00000104419|  NDRG1|N-myc downstream ...|\n",
      "+---------------+-------+--------------------+\n",
      "only showing top 20 rows\n",
      "\n"
     ]
    }
   ],
   "source": [
    "# TARGET\n",
    "targets = (\n",
    "    spark.read\n",
    "    .parquet(\"../../targets/\")\n",
    "    .select(\n",
    "        f.col('id').alias('targetId'), \n",
    "        f.col('approvedSymbol').alias('symbol'),\n",
    "        f.col('approvedName').alias('name')\n",
    "    )\n",
    "    .persist()\n",
    ")\n",
    "targets.show()"
   ]
  },
  {
   "cell_type": "code",
   "execution_count": 32,
   "metadata": {},
   "outputs": [
    {
     "name": "stdout",
     "output_type": "stream",
     "text": [
      "-RECORD 0-----------------------------------\n",
      " id                  | GO_0044238           \n",
      " code                | http://purl.oboli... \n",
      " dbXRefs             | []                   \n",
      " description         | The chemical reac... \n",
      " name                | primary metabolic... \n",
      " directLocationIds   | null                 \n",
      " obsoleteTerms       | null                 \n",
      " parents             | [GO_0008152]         \n",
      " sko                 | null                 \n",
      " synonyms            | {null, [primary m... \n",
      " ancestors           | [GO_0008152, GO_0... \n",
      " descendants         | [GO_0005975, GO_0... \n",
      " children            | [GO_0005975, GO_0... \n",
      " therapeuticAreas    | [GO_0008150]         \n",
      " indirectLocationIds | [GO_0009101]         \n",
      " ontology            | {false, false, {h... \n",
      "only showing top 1 row\n",
      "\n"
     ]
    }
   ],
   "source": [
    "# DISEASE\n",
    "diseases = (\n",
    "    spark.read\n",
    "    .parquet(\"../../diseases/\")\n",
    "    .select(\n",
    "        f.col('id').alias('diseaseId'), f.col('name').alias('diseaseName')\n",
    "    )\n",
    "    .persist()\n",
    ")\n",
    "diseases.show(1, True, True)"
   ]
  },
  {
   "cell_type": "code",
   "execution_count": 26,
   "metadata": {},
   "outputs": [],
   "source": [
    "associations = ( # <- 13_422\n",
    "    disease_association\n",
    "    .select('*', f.explode('evidenceInfo').alias('evidence'))\n",
    "    .select('*', f.col('evidence.*'))\n",
    "    .select(\n",
    "        f.col('geneId').alias('targetId'), \n",
    "        f.col('pdbCompoundId').alias('pdbCompound'), \n",
    "        'diseaseId', \n",
    "        'variantId'\n",
    "    )\n",
    "    .distinct()\n",
    "    .persist()\n",
    ")"
   ]
  },
  {
   "cell_type": "code",
   "execution_count": 27,
   "metadata": {},
   "outputs": [
    {
     "name": "stderr",
     "output_type": "stream",
     "text": [
      "[Stage 95:==============================>                      (114 + 64) / 200]\r"
     ]
    },
    {
     "name": "stdout",
     "output_type": "stream",
     "text": [
      "+---------------+-----------+-------------+---------------+\n",
      "|       targetId|pdbCompound|    diseaseId|      variantId|\n",
      "+---------------+-----------+-------------+---------------+\n",
      "|ENSG00000081307|        ATP|Orphanet_1934|3_132665825_G_A|\n",
      "|ENSG00000097007|        DB8|  EFO_0000339|9_130872896_C_T|\n",
      "+---------------+-----------+-------------+---------------+\n",
      "only showing top 2 rows\n",
      "\n"
     ]
    },
    {
     "name": "stderr",
     "output_type": "stream",
     "text": [
      "                                                                                \r"
     ]
    }
   ],
   "source": [
    "associations.show(2)"
   ]
  },
  {
   "cell_type": "code",
   "execution_count": 31,
   "metadata": {},
   "outputs": [
    {
     "name": "stderr",
     "output_type": "stream",
     "text": [
      "22/05/11 10:19:12 WARN CacheManager: Asked to cache already cached data.\n"
     ]
    },
    {
     "data": {
      "text/plain": [
       "3602"
      ]
     },
     "execution_count": 31,
     "metadata": {},
     "output_type": "execute_result"
    }
   ],
   "source": [
    "# Let's join:\n",
    "mapped_associations = (\n",
    "    associations\n",
    "    .groupBy('targetId', 'pdbCompound', 'diseaseId')\n",
    "    .agg(f.collect_set('variantId').alias('variantIds'))\n",
    "\n",
    "    # Joining with disease name -> name:\n",
    "    .join(diseases, on='diseaseId', how='left')\n",
    "\n",
    "    # Joining with gene name -> symbol:\n",
    "    .join(targets, on='targetId', how='left')\n",
    "\n",
    "    # Joining with drug name -> :\n",
    "    .join(molecules_inchikey_join, on='pdbCompound')\n",
    "\n",
    "    .persist()\n",
    ")\n",
    "\n",
    "excluded = ['ATP', 'ZN', 'GLU']\n",
    "(\n",
    "    mapped_associations\n",
    "    .filter(\n",
    "        (f.col('pdbCompound') != 'ATP')\n",
    "        & (f.col('pdbCompound') != 'ZN')\n",
    "    )\n",
    "    .drop('targetId', 'diseaseId')\n",
    "    # .write.parquet('pdb2variants2disease')\n",
    "    .count()\n",
    ")"
   ]
  },
  {
   "cell_type": "code",
   "execution_count": null,
   "metadata": {},
   "outputs": [
    {
     "name": "stderr",
     "output_type": "stream",
     "text": [
      "Copying file://pdb2variants2disease/part-00118-c6da1fb5-98b2-4314-81f5-2acc0ed86b45-c000.snappy.parquet [Content-Type=application/octet-stream]...\n",
      "Copying file://pdb2variants2disease/part-00146-c6da1fb5-98b2-4314-81f5-2acc0ed86b45-c000.snappy.parquet [Content-Type=application/octet-stream]...\n",
      "Copying file://pdb2variants2disease/.part-00112-c6da1fb5-98b2-4314-81f5-2acc0ed86b45-c000.snappy.parquet.crc [Content-Type=application/octet-stream]...\n",
      "Copying file://pdb2variants2disease/part-00173-c6da1fb5-98b2-4314-81f5-2acc0ed86b45-c000.snappy.parquet [Content-Type=application/octet-stream]...\n",
      "/ [4 files][  8.2 KiB/  8.2 KiB]                                                \n",
      "==> NOTE: You are performing a sequence of gsutil operations that may\n",
      "run significantly faster if you instead use gsutil -m cp ... Please\n",
      "see the -m section under \"gsutil help options\" for further information\n",
      "about when gsutil -m can be advantageous.\n",
      "\n",
      "Copying file://pdb2variants2disease/part-00127-c6da1fb5-98b2-4314-81f5-2acc0ed86b45-c000.snappy.parquet [Content-Type=application/octet-stream]...\n",
      "Copying file://pdb2variants2disease/part-00068-c6da1fb5-98b2-4314-81f5-2acc0ed86b45-c000.snappy.parquet [Content-Type=application/octet-stream]...\n",
      "Copying file://pdb2variants2disease/part-00104-c6da1fb5-98b2-4314-81f5-2acc0ed86b45-c000.snappy.parquet [Content-Type=application/octet-stream]...\n",
      "Copying file://pdb2variants2disease/.part-00070-c6da1fb5-98b2-4314-81f5-2acc0ed86b45-c000.snappy.parquet.crc [Content-Type=application/octet-stream]...\n",
      "Copying file://pdb2variants2disease/part-00113-c6da1fb5-98b2-4314-81f5-2acc0ed86b45-c000.snappy.parquet [Content-Type=application/octet-stream]...\n",
      "Copying file://pdb2variants2disease/part-00037-c6da1fb5-98b2-4314-81f5-2acc0ed86b45-c000.snappy.parquet [Content-Type=application/octet-stream]...\n",
      "Copying file://pdb2variants2disease/part-00045-c6da1fb5-98b2-4314-81f5-2acc0ed86b45-c000.snappy.parquet [Content-Type=application/octet-stream]...\n",
      "Copying file://pdb2variants2disease/.part-00055-c6da1fb5-98b2-4314-81f5-2acc0ed86b45-c000.snappy.parquet.crc [Content-Type=application/octet-stream]...\n",
      "Copying file://pdb2variants2disease/part-00136-c6da1fb5-98b2-4314-81f5-2acc0ed86b45-c000.snappy.parquet [Content-Type=application/octet-stream]...\n",
      "Copying file://pdb2variants2disease/.part-00123-c6da1fb5-98b2-4314-81f5-2acc0ed86b45-c000.snappy.parquet.crc [Content-Type=application/octet-stream]...\n",
      "Copying file://pdb2variants2disease/part-00130-c6da1fb5-98b2-4314-81f5-2acc0ed86b45-c000.snappy.parquet [Content-Type=application/octet-stream]...\n",
      "Copying file://pdb2variants2disease/.part-00132-c6da1fb5-98b2-4314-81f5-2acc0ed86b45-c000.snappy.parquet.crc [Content-Type=application/octet-stream]...\n",
      "Copying file://pdb2variants2disease/part-00046-c6da1fb5-98b2-4314-81f5-2acc0ed86b45-c000.snappy.parquet [Content-Type=application/octet-stream]...\n",
      "Copying file://pdb2variants2disease/part-00067-c6da1fb5-98b2-4314-81f5-2acc0ed86b45-c000.snappy.parquet [Content-Type=application/octet-stream]...\n",
      "Copying file://pdb2variants2disease/part-00191-c6da1fb5-98b2-4314-81f5-2acc0ed86b45-c000.snappy.parquet [Content-Type=application/octet-stream]...\n",
      "Copying file://pdb2variants2disease/part-00027-c6da1fb5-98b2-4314-81f5-2acc0ed86b45-c000.snappy.parquet [Content-Type=application/octet-stream]...\n",
      "Copying file://pdb2variants2disease/.part-00191-c6da1fb5-98b2-4314-81f5-2acc0ed86b45-c000.snappy.parquet.crc [Content-Type=application/octet-stream]...\n",
      "Copying file://pdb2variants2disease/part-00090-c6da1fb5-98b2-4314-81f5-2acc0ed86b45-c000.snappy.parquet [Content-Type=application/octet-stream]...\n",
      "Copying file://pdb2variants2disease/.part-00186-c6da1fb5-98b2-4314-81f5-2acc0ed86b45-c000.snappy.parquet.crc [Content-Type=application/octet-stream]...\n",
      "Copying file://pdb2variants2disease/.part-00029-c6da1fb5-98b2-4314-81f5-2acc0ed86b45-c000.snappy.parquet.crc [Content-Type=application/octet-stream]...\n",
      "Copying file://pdb2variants2disease/part-00030-c6da1fb5-98b2-4314-81f5-2acc0ed86b45-c000.snappy.parquet [Content-Type=application/octet-stream]...\n",
      "Copying file://pdb2variants2disease/part-00167-c6da1fb5-98b2-4314-81f5-2acc0ed86b45-c000.snappy.parquet [Content-Type=application/octet-stream]...\n",
      "Copying file://pdb2variants2disease/.part-00062-c6da1fb5-98b2-4314-81f5-2acc0ed86b45-c000.snappy.parquet.crc [Content-Type=application/octet-stream]...\n",
      "Copying file://pdb2variants2disease/.part-00007-c6da1fb5-98b2-4314-81f5-2acc0ed86b45-c000.snappy.parquet.crc [Content-Type=application/octet-stream]...\n",
      "Copying file://pdb2variants2disease/part-00170-c6da1fb5-98b2-4314-81f5-2acc0ed86b45-c000.snappy.parquet [Content-Type=application/octet-stream]...\n",
      "Copying file://pdb2variants2disease/part-00154-c6da1fb5-98b2-4314-81f5-2acc0ed86b45-c000.snappy.parquet [Content-Type=application/octet-stream]...\n",
      "Copying file://pdb2variants2disease/part-00126-c6da1fb5-98b2-4314-81f5-2acc0ed86b45-c000.snappy.parquet [Content-Type=application/octet-stream]...\n",
      "Copying file://pdb2variants2disease/part-00166-c6da1fb5-98b2-4314-81f5-2acc0ed86b45-c000.snappy.parquet [Content-Type=application/octet-stream]...\n",
      "Copying file://pdb2variants2disease/.part-00023-c6da1fb5-98b2-4314-81f5-2acc0ed86b45-c000.snappy.parquet.crc [Content-Type=application/octet-stream]...\n",
      "Copying file://pdb2variants2disease/part-00093-c6da1fb5-98b2-4314-81f5-2acc0ed86b45-c000.snappy.parquet [Content-Type=application/octet-stream]...\n",
      "Copying file://pdb2variants2disease/.part-00143-c6da1fb5-98b2-4314-81f5-2acc0ed86b45-c000.snappy.parquet.crc [Content-Type=application/octet-stream]...\n",
      "Copying file://pdb2variants2disease/part-00172-c6da1fb5-98b2-4314-81f5-2acc0ed86b45-c000.snappy.parquet [Content-Type=application/octet-stream]...\n",
      "Copying file://pdb2variants2disease/part-00155-c6da1fb5-98b2-4314-81f5-2acc0ed86b45-c000.snappy.parquet [Content-Type=application/octet-stream]...\n",
      "Copying file://pdb2variants2disease/.part-00184-c6da1fb5-98b2-4314-81f5-2acc0ed86b45-c000.snappy.parquet.crc [Content-Type=application/octet-stream]...\n",
      "Copying file://pdb2variants2disease/part-00132-c6da1fb5-98b2-4314-81f5-2acc0ed86b45-c000.snappy.parquet [Content-Type=application/octet-stream]...\n",
      "Copying file://pdb2variants2disease/part-00003-c6da1fb5-98b2-4314-81f5-2acc0ed86b45-c000.snappy.parquet [Content-Type=application/octet-stream]...\n",
      "Copying file://pdb2variants2disease/part-00169-c6da1fb5-98b2-4314-81f5-2acc0ed86b45-c000.snappy.parquet [Content-Type=application/octet-stream]...\n",
      "Copying file://pdb2variants2disease/part-00077-c6da1fb5-98b2-4314-81f5-2acc0ed86b45-c000.snappy.parquet [Content-Type=application/octet-stream]...\n",
      "Copying file://pdb2variants2disease/part-00023-c6da1fb5-98b2-4314-81f5-2acc0ed86b45-c000.snappy.parquet [Content-Type=application/octet-stream]...\n",
      "Copying file://pdb2variants2disease/.part-00127-c6da1fb5-98b2-4314-81f5-2acc0ed86b45-c000.snappy.parquet.crc [Content-Type=application/octet-stream]...\n",
      "Copying file://pdb2variants2disease/.part-00177-c6da1fb5-98b2-4314-81f5-2acc0ed86b45-c000.snappy.parquet.crc [Content-Type=application/octet-stream]...\n",
      "Copying file://pdb2variants2disease/.part-00093-c6da1fb5-98b2-4314-81f5-2acc0ed86b45-c000.snappy.parquet.crc [Content-Type=application/octet-stream]...\n",
      "Copying file://pdb2variants2disease/.part-00097-c6da1fb5-98b2-4314-81f5-2acc0ed86b45-c000.snappy.parquet.crc [Content-Type=application/octet-stream]...\n",
      "Copying file://pdb2variants2disease/.part-00142-c6da1fb5-98b2-4314-81f5-2acc0ed86b45-c000.snappy.parquet.crc [Content-Type=application/octet-stream]...\n",
      "Copying file://pdb2variants2disease/.part-00059-c6da1fb5-98b2-4314-81f5-2acc0ed86b45-c000.snappy.parquet.crc [Content-Type=application/octet-stream]...\n",
      "Copying file://pdb2variants2disease/part-00193-c6da1fb5-98b2-4314-81f5-2acc0ed86b45-c000.snappy.parquet [Content-Type=application/octet-stream]...\n",
      "Copying file://pdb2variants2disease/part-00108-c6da1fb5-98b2-4314-81f5-2acc0ed86b45-c000.snappy.parquet [Content-Type=application/octet-stream]...\n",
      "Copying file://pdb2variants2disease/.part-00154-c6da1fb5-98b2-4314-81f5-2acc0ed86b45-c000.snappy.parquet.crc [Content-Type=application/octet-stream]...\n",
      "Copying file://pdb2variants2disease/.part-00151-c6da1fb5-98b2-4314-81f5-2acc0ed86b45-c000.snappy.parquet.crc [Content-Type=application/octet-stream]...\n",
      "Copying file://pdb2variants2disease/.part-00033-c6da1fb5-98b2-4314-81f5-2acc0ed86b45-c000.snappy.parquet.crc [Content-Type=application/octet-stream]...\n",
      "Copying file://pdb2variants2disease/part-00094-c6da1fb5-98b2-4314-81f5-2acc0ed86b45-c000.snappy.parquet [Content-Type=application/octet-stream]...\n",
      "Copying file://pdb2variants2disease/.part-00103-c6da1fb5-98b2-4314-81f5-2acc0ed86b45-c000.snappy.parquet.crc [Content-Type=application/octet-stream]...\n",
      "Copying file://pdb2variants2disease/.part-00095-c6da1fb5-98b2-4314-81f5-2acc0ed86b45-c000.snappy.parquet.crc [Content-Type=application/octet-stream]...\n",
      "Copying file://pdb2variants2disease/.part-00163-c6da1fb5-98b2-4314-81f5-2acc0ed86b45-c000.snappy.parquet.crc [Content-Type=application/octet-stream]...\n",
      "Copying file://pdb2variants2disease/.part-00073-c6da1fb5-98b2-4314-81f5-2acc0ed86b45-c000.snappy.parquet.crc [Content-Type=application/octet-stream]...\n",
      "Copying file://pdb2variants2disease/.part-00121-c6da1fb5-98b2-4314-81f5-2acc0ed86b45-c000.snappy.parquet.crc [Content-Type=application/octet-stream]...\n",
      "Copying file://pdb2variants2disease/part-00134-c6da1fb5-98b2-4314-81f5-2acc0ed86b45-c000.snappy.parquet [Content-Type=application/octet-stream]...\n",
      "Copying file://pdb2variants2disease/.part-00193-c6da1fb5-98b2-4314-81f5-2acc0ed86b45-c000.snappy.parquet.crc [Content-Type=application/octet-stream]...\n",
      "Copying file://pdb2variants2disease/.part-00174-c6da1fb5-98b2-4314-81f5-2acc0ed86b45-c000.snappy.parquet.crc [Content-Type=application/octet-stream]...\n",
      "Copying file://pdb2variants2disease/.part-00013-c6da1fb5-98b2-4314-81f5-2acc0ed86b45-c000.snappy.parquet.crc [Content-Type=application/octet-stream]...\n",
      "Copying file://pdb2variants2disease/.part-00119-c6da1fb5-98b2-4314-81f5-2acc0ed86b45-c000.snappy.parquet.crc [Content-Type=application/octet-stream]...\n",
      "Copying file://pdb2variants2disease/part-00184-c6da1fb5-98b2-4314-81f5-2acc0ed86b45-c000.snappy.parquet [Content-Type=application/octet-stream]...\n",
      "Copying file://pdb2variants2disease/.part-00107-c6da1fb5-98b2-4314-81f5-2acc0ed86b45-c000.snappy.parquet.crc [Content-Type=application/octet-stream]...\n",
      "Copying file://pdb2variants2disease/part-00152-c6da1fb5-98b2-4314-81f5-2acc0ed86b45-c000.snappy.parquet [Content-Type=application/octet-stream]...\n",
      "Copying file://pdb2variants2disease/.part-00176-c6da1fb5-98b2-4314-81f5-2acc0ed86b45-c000.snappy.parquet.crc [Content-Type=application/octet-stream]...\n",
      "Copying file://pdb2variants2disease/.part-00067-c6da1fb5-98b2-4314-81f5-2acc0ed86b45-c000.snappy.parquet.crc [Content-Type=application/octet-stream]...\n",
      "Copying file://pdb2variants2disease/part-00194-c6da1fb5-98b2-4314-81f5-2acc0ed86b45-c000.snappy.parquet [Content-Type=application/octet-stream]...\n",
      "Copying file://pdb2variants2disease/part-00073-c6da1fb5-98b2-4314-81f5-2acc0ed86b45-c000.snappy.parquet [Content-Type=application/octet-stream]...\n",
      "Copying file://pdb2variants2disease/.part-00080-c6da1fb5-98b2-4314-81f5-2acc0ed86b45-c000.snappy.parquet.crc [Content-Type=application/octet-stream]...\n",
      "Copying file://pdb2variants2disease/part-00195-c6da1fb5-98b2-4314-81f5-2acc0ed86b45-c000.snappy.parquet [Content-Type=application/octet-stream]...\n",
      "Copying file://pdb2variants2disease/part-00150-c6da1fb5-98b2-4314-81f5-2acc0ed86b45-c000.snappy.parquet [Content-Type=application/octet-stream]...\n",
      "Copying file://pdb2variants2disease/part-00138-c6da1fb5-98b2-4314-81f5-2acc0ed86b45-c000.snappy.parquet [Content-Type=application/octet-stream]...\n",
      "Copying file://pdb2variants2disease/part-00115-c6da1fb5-98b2-4314-81f5-2acc0ed86b45-c000.snappy.parquet [Content-Type=application/octet-stream]...\n",
      "Copying file://pdb2variants2disease/.part-00046-c6da1fb5-98b2-4314-81f5-2acc0ed86b45-c000.snappy.parquet.crc [Content-Type=application/octet-stream]...\n",
      "Copying file://pdb2variants2disease/.part-00028-c6da1fb5-98b2-4314-81f5-2acc0ed86b45-c000.snappy.parquet.crc [Content-Type=application/octet-stream]...\n",
      "Copying file://pdb2variants2disease/.part-00016-c6da1fb5-98b2-4314-81f5-2acc0ed86b45-c000.snappy.parquet.crc [Content-Type=application/octet-stream]...\n",
      "Copying file://pdb2variants2disease/part-00075-c6da1fb5-98b2-4314-81f5-2acc0ed86b45-c000.snappy.parquet [Content-Type=application/octet-stream]...\n",
      "Copying file://pdb2variants2disease/part-00043-c6da1fb5-98b2-4314-81f5-2acc0ed86b45-c000.snappy.parquet [Content-Type=application/octet-stream]...\n",
      "Copying file://pdb2variants2disease/part-00097-c6da1fb5-98b2-4314-81f5-2acc0ed86b45-c000.snappy.parquet [Content-Type=application/octet-stream]...\n",
      "Copying file://pdb2variants2disease/.part-00053-c6da1fb5-98b2-4314-81f5-2acc0ed86b45-c000.snappy.parquet.crc [Content-Type=application/octet-stream]...\n",
      "Copying file://pdb2variants2disease/.part-00044-c6da1fb5-98b2-4314-81f5-2acc0ed86b45-c000.snappy.parquet.crc [Content-Type=application/octet-stream]...\n",
      "Copying file://pdb2variants2disease/part-00026-c6da1fb5-98b2-4314-81f5-2acc0ed86b45-c000.snappy.parquet [Content-Type=application/octet-stream]...\n",
      "Copying file://pdb2variants2disease/.part-00068-c6da1fb5-98b2-4314-81f5-2acc0ed86b45-c000.snappy.parquet.crc [Content-Type=application/octet-stream]...\n",
      "Copying file://pdb2variants2disease/part-00081-c6da1fb5-98b2-4314-81f5-2acc0ed86b45-c000.snappy.parquet [Content-Type=application/octet-stream]...\n",
      "Copying file://pdb2variants2disease/.part-00144-c6da1fb5-98b2-4314-81f5-2acc0ed86b45-c000.snappy.parquet.crc [Content-Type=application/octet-stream]...\n",
      "Copying file://pdb2variants2disease/.part-00065-c6da1fb5-98b2-4314-81f5-2acc0ed86b45-c000.snappy.parquet.crc [Content-Type=application/octet-stream]...\n",
      "Copying file://pdb2variants2disease/.part-00072-c6da1fb5-98b2-4314-81f5-2acc0ed86b45-c000.snappy.parquet.crc [Content-Type=application/octet-stream]...\n",
      "Copying file://pdb2variants2disease/.part-00175-c6da1fb5-98b2-4314-81f5-2acc0ed86b45-c000.snappy.parquet.crc [Content-Type=application/octet-stream]...\n",
      "Copying file://pdb2variants2disease/.part-00152-c6da1fb5-98b2-4314-81f5-2acc0ed86b45-c000.snappy.parquet.crc [Content-Type=application/octet-stream]...\n",
      "Copying file://pdb2variants2disease/.part-00138-c6da1fb5-98b2-4314-81f5-2acc0ed86b45-c000.snappy.parquet.crc [Content-Type=application/octet-stream]...\n",
      "Copying file://pdb2variants2disease/part-00171-c6da1fb5-98b2-4314-81f5-2acc0ed86b45-c000.snappy.parquet [Content-Type=application/octet-stream]...\n",
      "Copying file://pdb2variants2disease/.part-00039-c6da1fb5-98b2-4314-81f5-2acc0ed86b45-c000.snappy.parquet.crc [Content-Type=application/octet-stream]...\n",
      "Copying file://pdb2variants2disease/part-00142-c6da1fb5-98b2-4314-81f5-2acc0ed86b45-c000.snappy.parquet [Content-Type=application/octet-stream]...\n",
      "Copying file://pdb2variants2disease/.part-00189-c6da1fb5-98b2-4314-81f5-2acc0ed86b45-c000.snappy.parquet.crc [Content-Type=application/octet-stream]...\n",
      "Copying file://pdb2variants2disease/.part-00101-c6da1fb5-98b2-4314-81f5-2acc0ed86b45-c000.snappy.parquet.crc [Content-Type=application/octet-stream]...\n",
      "Copying file://pdb2variants2disease/part-00123-c6da1fb5-98b2-4314-81f5-2acc0ed86b45-c000.snappy.parquet [Content-Type=application/octet-stream]...\n",
      "Copying file://pdb2variants2disease/part-00069-c6da1fb5-98b2-4314-81f5-2acc0ed86b45-c000.snappy.parquet [Content-Type=application/octet-stream]...\n",
      "Copying file://pdb2variants2disease/.part-00136-c6da1fb5-98b2-4314-81f5-2acc0ed86b45-c000.snappy.parquet.crc [Content-Type=application/octet-stream]...\n",
      "Copying file://pdb2variants2disease/part-00062-c6da1fb5-98b2-4314-81f5-2acc0ed86b45-c000.snappy.parquet [Content-Type=application/octet-stream]...\n",
      "Copying file://pdb2variants2disease/.part-00115-c6da1fb5-98b2-4314-81f5-2acc0ed86b45-c000.snappy.parquet.crc [Content-Type=application/octet-stream]...\n",
      "Copying file://pdb2variants2disease/.part-00096-c6da1fb5-98b2-4314-81f5-2acc0ed86b45-c000.snappy.parquet.crc [Content-Type=application/octet-stream]...\n",
      "Copying file://pdb2variants2disease/.part-00106-c6da1fb5-98b2-4314-81f5-2acc0ed86b45-c000.snappy.parquet.crc [Content-Type=application/octet-stream]...\n",
      "Copying file://pdb2variants2disease/part-00049-c6da1fb5-98b2-4314-81f5-2acc0ed86b45-c000.snappy.parquet [Content-Type=application/octet-stream]...\n",
      "Copying file://pdb2variants2disease/._SUCCESS.crc [Content-Type=application/octet-stream]...\n",
      "Copying file://pdb2variants2disease/part-00024-c6da1fb5-98b2-4314-81f5-2acc0ed86b45-c000.snappy.parquet [Content-Type=application/octet-stream]...\n",
      "Copying file://pdb2variants2disease/part-00143-c6da1fb5-98b2-4314-81f5-2acc0ed86b45-c000.snappy.parquet [Content-Type=application/octet-stream]...\n",
      "Copying file://pdb2variants2disease/.part-00050-c6da1fb5-98b2-4314-81f5-2acc0ed86b45-c000.snappy.parquet.crc [Content-Type=application/octet-stream]...\n",
      "Copying file://pdb2variants2disease/part-00161-c6da1fb5-98b2-4314-81f5-2acc0ed86b45-c000.snappy.parquet [Content-Type=application/octet-stream]...\n",
      "Copying file://pdb2variants2disease/part-00117-c6da1fb5-98b2-4314-81f5-2acc0ed86b45-c000.snappy.parquet [Content-Type=application/octet-stream]...\n",
      "Copying file://pdb2variants2disease/.part-00167-c6da1fb5-98b2-4314-81f5-2acc0ed86b45-c000.snappy.parquet.crc [Content-Type=application/octet-stream]...\n",
      "Copying file://pdb2variants2disease/part-00006-c6da1fb5-98b2-4314-81f5-2acc0ed86b45-c000.snappy.parquet [Content-Type=application/octet-stream]...\n",
      "Copying file://pdb2variants2disease/.part-00108-c6da1fb5-98b2-4314-81f5-2acc0ed86b45-c000.snappy.parquet.crc [Content-Type=application/octet-stream]...\n",
      "Copying file://pdb2variants2disease/.part-00100-c6da1fb5-98b2-4314-81f5-2acc0ed86b45-c000.snappy.parquet.crc [Content-Type=application/octet-stream]...\n",
      "Copying file://pdb2variants2disease/part-00041-c6da1fb5-98b2-4314-81f5-2acc0ed86b45-c000.snappy.parquet [Content-Type=application/octet-stream]...\n",
      "Copying file://pdb2variants2disease/.part-00171-c6da1fb5-98b2-4314-81f5-2acc0ed86b45-c000.snappy.parquet.crc [Content-Type=application/octet-stream]...\n",
      "Copying file://pdb2variants2disease/part-00131-c6da1fb5-98b2-4314-81f5-2acc0ed86b45-c000.snappy.parquet [Content-Type=application/octet-stream]...\n",
      "Copying file://pdb2variants2disease/part-00074-c6da1fb5-98b2-4314-81f5-2acc0ed86b45-c000.snappy.parquet [Content-Type=application/octet-stream]...\n",
      "Copying file://pdb2variants2disease/part-00020-c6da1fb5-98b2-4314-81f5-2acc0ed86b45-c000.snappy.parquet [Content-Type=application/octet-stream]...\n",
      "Copying file://pdb2variants2disease/part-00070-c6da1fb5-98b2-4314-81f5-2acc0ed86b45-c000.snappy.parquet [Content-Type=application/octet-stream]...\n",
      "Copying file://pdb2variants2disease/.part-00187-c6da1fb5-98b2-4314-81f5-2acc0ed86b45-c000.snappy.parquet.crc [Content-Type=application/octet-stream]...\n",
      "Copying file://pdb2variants2disease/.part-00110-c6da1fb5-98b2-4314-81f5-2acc0ed86b45-c000.snappy.parquet.crc [Content-Type=application/octet-stream]...\n",
      "Copying file://pdb2variants2disease/.part-00049-c6da1fb5-98b2-4314-81f5-2acc0ed86b45-c000.snappy.parquet.crc [Content-Type=application/octet-stream]...\n",
      "Copying file://pdb2variants2disease/.part-00083-c6da1fb5-98b2-4314-81f5-2acc0ed86b45-c000.snappy.parquet.crc [Content-Type=application/octet-stream]...\n",
      "Copying file://pdb2variants2disease/.part-00002-c6da1fb5-98b2-4314-81f5-2acc0ed86b45-c000.snappy.parquet.crc [Content-Type=application/octet-stream]...\n",
      "Copying file://pdb2variants2disease/part-00072-c6da1fb5-98b2-4314-81f5-2acc0ed86b45-c000.snappy.parquet [Content-Type=application/octet-stream]...\n",
      "Copying file://pdb2variants2disease/.part-00130-c6da1fb5-98b2-4314-81f5-2acc0ed86b45-c000.snappy.parquet.crc [Content-Type=application/octet-stream]...\n",
      "Copying file://pdb2variants2disease/part-00038-c6da1fb5-98b2-4314-81f5-2acc0ed86b45-c000.snappy.parquet [Content-Type=application/octet-stream]...\n",
      "Copying file://pdb2variants2disease/.part-00149-c6da1fb5-98b2-4314-81f5-2acc0ed86b45-c000.snappy.parquet.crc [Content-Type=application/octet-stream]...\n",
      "Copying file://pdb2variants2disease/.part-00024-c6da1fb5-98b2-4314-81f5-2acc0ed86b45-c000.snappy.parquet.crc [Content-Type=application/octet-stream]...\n",
      "Copying file://pdb2variants2disease/.part-00131-c6da1fb5-98b2-4314-81f5-2acc0ed86b45-c000.snappy.parquet.crc [Content-Type=application/octet-stream]...\n",
      "Copying file://pdb2variants2disease/.part-00150-c6da1fb5-98b2-4314-81f5-2acc0ed86b45-c000.snappy.parquet.crc [Content-Type=application/octet-stream]...\n",
      "Copying file://pdb2variants2disease/.part-00133-c6da1fb5-98b2-4314-81f5-2acc0ed86b45-c000.snappy.parquet.crc [Content-Type=application/octet-stream]...\n",
      "Copying file://pdb2variants2disease/part-00022-c6da1fb5-98b2-4314-81f5-2acc0ed86b45-c000.snappy.parquet [Content-Type=application/octet-stream]...\n",
      "Copying file://pdb2variants2disease/.part-00014-c6da1fb5-98b2-4314-81f5-2acc0ed86b45-c000.snappy.parquet.crc [Content-Type=application/octet-stream]...\n",
      "Copying file://pdb2variants2disease/.part-00197-c6da1fb5-98b2-4314-81f5-2acc0ed86b45-c000.snappy.parquet.crc [Content-Type=application/octet-stream]...\n",
      "Copying file://pdb2variants2disease/part-00124-c6da1fb5-98b2-4314-81f5-2acc0ed86b45-c000.snappy.parquet [Content-Type=application/octet-stream]...\n",
      "Copying file://pdb2variants2disease/part-00048-c6da1fb5-98b2-4314-81f5-2acc0ed86b45-c000.snappy.parquet [Content-Type=application/octet-stream]...\n",
      "Copying file://pdb2variants2disease/part-00078-c6da1fb5-98b2-4314-81f5-2acc0ed86b45-c000.snappy.parquet [Content-Type=application/octet-stream]...\n",
      "Copying file://pdb2variants2disease/part-00051-c6da1fb5-98b2-4314-81f5-2acc0ed86b45-c000.snappy.parquet [Content-Type=application/octet-stream]...\n",
      "Copying file://pdb2variants2disease/part-00025-c6da1fb5-98b2-4314-81f5-2acc0ed86b45-c000.snappy.parquet [Content-Type=application/octet-stream]...\n",
      "Copying file://pdb2variants2disease/part-00162-c6da1fb5-98b2-4314-81f5-2acc0ed86b45-c000.snappy.parquet [Content-Type=application/octet-stream]...\n",
      "Copying file://pdb2variants2disease/part-00050-c6da1fb5-98b2-4314-81f5-2acc0ed86b45-c000.snappy.parquet [Content-Type=application/octet-stream]...\n",
      "Copying file://pdb2variants2disease/part-00165-c6da1fb5-98b2-4314-81f5-2acc0ed86b45-c000.snappy.parquet [Content-Type=application/octet-stream]...\n",
      "Copying file://pdb2variants2disease/.part-00087-c6da1fb5-98b2-4314-81f5-2acc0ed86b45-c000.snappy.parquet.crc [Content-Type=application/octet-stream]...\n",
      "Copying file://pdb2variants2disease/part-00002-c6da1fb5-98b2-4314-81f5-2acc0ed86b45-c000.snappy.parquet [Content-Type=application/octet-stream]...\n",
      "Copying file://pdb2variants2disease/.part-00035-c6da1fb5-98b2-4314-81f5-2acc0ed86b45-c000.snappy.parquet.crc [Content-Type=application/octet-stream]...\n",
      "Copying file://pdb2variants2disease/.part-00134-c6da1fb5-98b2-4314-81f5-2acc0ed86b45-c000.snappy.parquet.crc [Content-Type=application/octet-stream]...\n",
      "Copying file://pdb2variants2disease/part-00055-c6da1fb5-98b2-4314-81f5-2acc0ed86b45-c000.snappy.parquet [Content-Type=application/octet-stream]...\n",
      "Copying file://pdb2variants2disease/part-00021-c6da1fb5-98b2-4314-81f5-2acc0ed86b45-c000.snappy.parquet [Content-Type=application/octet-stream]...\n",
      "Copying file://pdb2variants2disease/.part-00045-c6da1fb5-98b2-4314-81f5-2acc0ed86b45-c000.snappy.parquet.crc [Content-Type=application/octet-stream]...\n",
      "Copying file://pdb2variants2disease/.part-00094-c6da1fb5-98b2-4314-81f5-2acc0ed86b45-c000.snappy.parquet.crc [Content-Type=application/octet-stream]...\n",
      "Copying file://pdb2variants2disease/.part-00034-c6da1fb5-98b2-4314-81f5-2acc0ed86b45-c000.snappy.parquet.crc [Content-Type=application/octet-stream]...\n",
      "Copying file://pdb2variants2disease/part-00168-c6da1fb5-98b2-4314-81f5-2acc0ed86b45-c000.snappy.parquet [Content-Type=application/octet-stream]...\n",
      "Copying file://pdb2variants2disease/.part-00161-c6da1fb5-98b2-4314-81f5-2acc0ed86b45-c000.snappy.parquet.crc [Content-Type=application/octet-stream]...\n",
      "Copying file://pdb2variants2disease/.part-00075-c6da1fb5-98b2-4314-81f5-2acc0ed86b45-c000.snappy.parquet.crc [Content-Type=application/octet-stream]...\n",
      "Copying file://pdb2variants2disease/part-00042-c6da1fb5-98b2-4314-81f5-2acc0ed86b45-c000.snappy.parquet [Content-Type=application/octet-stream]...\n",
      "Copying file://pdb2variants2disease/part-00151-c6da1fb5-98b2-4314-81f5-2acc0ed86b45-c000.snappy.parquet [Content-Type=application/octet-stream]...\n",
      "Copying file://pdb2variants2disease/part-00004-c6da1fb5-98b2-4314-81f5-2acc0ed86b45-c000.snappy.parquet [Content-Type=application/octet-stream]...\n",
      "Copying file://pdb2variants2disease/.part-00160-c6da1fb5-98b2-4314-81f5-2acc0ed86b45-c000.snappy.parquet.crc [Content-Type=application/octet-stream]...\n",
      "Copying file://pdb2variants2disease/part-00088-c6da1fb5-98b2-4314-81f5-2acc0ed86b45-c000.snappy.parquet [Content-Type=application/octet-stream]...\n",
      "Copying file://pdb2variants2disease/part-00110-c6da1fb5-98b2-4314-81f5-2acc0ed86b45-c000.snappy.parquet [Content-Type=application/octet-stream]...\n",
      "Copying file://pdb2variants2disease/.part-00190-c6da1fb5-98b2-4314-81f5-2acc0ed86b45-c000.snappy.parquet.crc [Content-Type=application/octet-stream]...\n",
      "Copying file://pdb2variants2disease/part-00178-c6da1fb5-98b2-4314-81f5-2acc0ed86b45-c000.snappy.parquet [Content-Type=application/octet-stream]...\n",
      "Copying file://pdb2variants2disease/part-00156-c6da1fb5-98b2-4314-81f5-2acc0ed86b45-c000.snappy.parquet [Content-Type=application/octet-stream]...\n",
      "Copying file://pdb2variants2disease/part-00119-c6da1fb5-98b2-4314-81f5-2acc0ed86b45-c000.snappy.parquet [Content-Type=application/octet-stream]...\n",
      "Copying file://pdb2variants2disease/.part-00128-c6da1fb5-98b2-4314-81f5-2acc0ed86b45-c000.snappy.parquet.crc [Content-Type=application/octet-stream]...\n",
      "Copying file://pdb2variants2disease/.part-00027-c6da1fb5-98b2-4314-81f5-2acc0ed86b45-c000.snappy.parquet.crc [Content-Type=application/octet-stream]...\n",
      "Copying file://pdb2variants2disease/part-00107-c6da1fb5-98b2-4314-81f5-2acc0ed86b45-c000.snappy.parquet [Content-Type=application/octet-stream]...\n",
      "Copying file://pdb2variants2disease/part-00018-c6da1fb5-98b2-4314-81f5-2acc0ed86b45-c000.snappy.parquet [Content-Type=application/octet-stream]...\n",
      "Copying file://pdb2variants2disease/.part-00077-c6da1fb5-98b2-4314-81f5-2acc0ed86b45-c000.snappy.parquet.crc [Content-Type=application/octet-stream]...\n",
      "Copying file://pdb2variants2disease/.part-00069-c6da1fb5-98b2-4314-81f5-2acc0ed86b45-c000.snappy.parquet.crc [Content-Type=application/octet-stream]...\n",
      "Copying file://pdb2variants2disease/.part-00178-c6da1fb5-98b2-4314-81f5-2acc0ed86b45-c000.snappy.parquet.crc [Content-Type=application/octet-stream]...\n",
      "Copying file://pdb2variants2disease/part-00144-c6da1fb5-98b2-4314-81f5-2acc0ed86b45-c000.snappy.parquet [Content-Type=application/octet-stream]...\n",
      "Copying file://pdb2variants2disease/part-00092-c6da1fb5-98b2-4314-81f5-2acc0ed86b45-c000.snappy.parquet [Content-Type=application/octet-stream]...\n",
      "Copying file://pdb2variants2disease/_SUCCESS [Content-Type=application/octet-stream]...\n",
      "Copying file://pdb2variants2disease/part-00029-c6da1fb5-98b2-4314-81f5-2acc0ed86b45-c000.snappy.parquet [Content-Type=application/octet-stream]...\n",
      "Copying file://pdb2variants2disease/part-00199-c6da1fb5-98b2-4314-81f5-2acc0ed86b45-c000.snappy.parquet [Content-Type=application/octet-stream]...\n",
      "Copying file://pdb2variants2disease/.part-00092-c6da1fb5-98b2-4314-81f5-2acc0ed86b45-c000.snappy.parquet.crc [Content-Type=application/octet-stream]...\n",
      "Copying file://pdb2variants2disease/part-00183-c6da1fb5-98b2-4314-81f5-2acc0ed86b45-c000.snappy.parquet [Content-Type=application/octet-stream]...\n",
      "Copying file://pdb2variants2disease/part-00160-c6da1fb5-98b2-4314-81f5-2acc0ed86b45-c000.snappy.parquet [Content-Type=application/octet-stream]...\n",
      "Copying file://pdb2variants2disease/.part-00071-c6da1fb5-98b2-4314-81f5-2acc0ed86b45-c000.snappy.parquet.crc [Content-Type=application/octet-stream]...\n",
      "Copying file://pdb2variants2disease/.part-00114-c6da1fb5-98b2-4314-81f5-2acc0ed86b45-c000.snappy.parquet.crc [Content-Type=application/octet-stream]...\n",
      "Copying file://pdb2variants2disease/.part-00126-c6da1fb5-98b2-4314-81f5-2acc0ed86b45-c000.snappy.parquet.crc [Content-Type=application/octet-stream]...\n",
      "Copying file://pdb2variants2disease/part-00137-c6da1fb5-98b2-4314-81f5-2acc0ed86b45-c000.snappy.parquet [Content-Type=application/octet-stream]...\n",
      "Copying file://pdb2variants2disease/.part-00041-c6da1fb5-98b2-4314-81f5-2acc0ed86b45-c000.snappy.parquet.crc [Content-Type=application/octet-stream]...\n",
      "Copying file://pdb2variants2disease/.part-00085-c6da1fb5-98b2-4314-81f5-2acc0ed86b45-c000.snappy.parquet.crc [Content-Type=application/octet-stream]...\n",
      "Copying file://pdb2variants2disease/.part-00179-c6da1fb5-98b2-4314-81f5-2acc0ed86b45-c000.snappy.parquet.crc [Content-Type=application/octet-stream]...\n",
      "Copying file://pdb2variants2disease/.part-00038-c6da1fb5-98b2-4314-81f5-2acc0ed86b45-c000.snappy.parquet.crc [Content-Type=application/octet-stream]...\n",
      "Copying file://pdb2variants2disease/.part-00015-c6da1fb5-98b2-4314-81f5-2acc0ed86b45-c000.snappy.parquet.crc [Content-Type=application/octet-stream]...\n",
      "Copying file://pdb2variants2disease/part-00017-c6da1fb5-98b2-4314-81f5-2acc0ed86b45-c000.snappy.parquet [Content-Type=application/octet-stream]...\n",
      "Copying file://pdb2variants2disease/part-00061-c6da1fb5-98b2-4314-81f5-2acc0ed86b45-c000.snappy.parquet [Content-Type=application/octet-stream]...\n",
      "Copying file://pdb2variants2disease/part-00196-c6da1fb5-98b2-4314-81f5-2acc0ed86b45-c000.snappy.parquet [Content-Type=application/octet-stream]...\n",
      "Copying file://pdb2variants2disease/.part-00025-c6da1fb5-98b2-4314-81f5-2acc0ed86b45-c000.snappy.parquet.crc [Content-Type=application/octet-stream]...\n",
      "Copying file://pdb2variants2disease/.part-00005-c6da1fb5-98b2-4314-81f5-2acc0ed86b45-c000.snappy.parquet.crc [Content-Type=application/octet-stream]...\n",
      "Copying file://pdb2variants2disease/.part-00099-c6da1fb5-98b2-4314-81f5-2acc0ed86b45-c000.snappy.parquet.crc [Content-Type=application/octet-stream]...\n",
      "Copying file://pdb2variants2disease/.part-00117-c6da1fb5-98b2-4314-81f5-2acc0ed86b45-c000.snappy.parquet.crc [Content-Type=application/octet-stream]...\n",
      "Copying file://pdb2variants2disease/.part-00181-c6da1fb5-98b2-4314-81f5-2acc0ed86b45-c000.snappy.parquet.crc [Content-Type=application/octet-stream]...\n",
      "Copying file://pdb2variants2disease/part-00039-c6da1fb5-98b2-4314-81f5-2acc0ed86b45-c000.snappy.parquet [Content-Type=application/octet-stream]...\n",
      "Copying file://pdb2variants2disease/.part-00196-c6da1fb5-98b2-4314-81f5-2acc0ed86b45-c000.snappy.parquet.crc [Content-Type=application/octet-stream]...\n",
      "Copying file://pdb2variants2disease/.part-00147-c6da1fb5-98b2-4314-81f5-2acc0ed86b45-c000.snappy.parquet.crc [Content-Type=application/octet-stream]...\n",
      "Copying file://pdb2variants2disease/.part-00003-c6da1fb5-98b2-4314-81f5-2acc0ed86b45-c000.snappy.parquet.crc [Content-Type=application/octet-stream]...\n",
      "Copying file://pdb2variants2disease/.part-00195-c6da1fb5-98b2-4314-81f5-2acc0ed86b45-c000.snappy.parquet.crc [Content-Type=application/octet-stream]...\n",
      "Copying file://pdb2variants2disease/part-00080-c6da1fb5-98b2-4314-81f5-2acc0ed86b45-c000.snappy.parquet [Content-Type=application/octet-stream]...\n",
      "Copying file://pdb2variants2disease/part-00145-c6da1fb5-98b2-4314-81f5-2acc0ed86b45-c000.snappy.parquet [Content-Type=application/octet-stream]...\n",
      "Copying file://pdb2variants2disease/part-00053-c6da1fb5-98b2-4314-81f5-2acc0ed86b45-c000.snappy.parquet [Content-Type=application/octet-stream]...\n",
      "Copying file://pdb2variants2disease/.part-00156-c6da1fb5-98b2-4314-81f5-2acc0ed86b45-c000.snappy.parquet.crc [Content-Type=application/octet-stream]...\n",
      "Copying file://pdb2variants2disease/part-00033-c6da1fb5-98b2-4314-81f5-2acc0ed86b45-c000.snappy.parquet [Content-Type=application/octet-stream]...\n",
      "Copying file://pdb2variants2disease/part-00100-c6da1fb5-98b2-4314-81f5-2acc0ed86b45-c000.snappy.parquet [Content-Type=application/octet-stream]...\n",
      "Copying file://pdb2variants2disease/part-00135-c6da1fb5-98b2-4314-81f5-2acc0ed86b45-c000.snappy.parquet [Content-Type=application/octet-stream]...\n",
      "Copying file://pdb2variants2disease/.part-00061-c6da1fb5-98b2-4314-81f5-2acc0ed86b45-c000.snappy.parquet.crc [Content-Type=application/octet-stream]...\n",
      "Copying file://pdb2variants2disease/.part-00063-c6da1fb5-98b2-4314-81f5-2acc0ed86b45-c000.snappy.parquet.crc [Content-Type=application/octet-stream]...\n",
      "Copying file://pdb2variants2disease/part-00186-c6da1fb5-98b2-4314-81f5-2acc0ed86b45-c000.snappy.parquet [Content-Type=application/octet-stream]...\n",
      "Copying file://pdb2variants2disease/.part-00066-c6da1fb5-98b2-4314-81f5-2acc0ed86b45-c000.snappy.parquet.crc [Content-Type=application/octet-stream]...\n",
      "Copying file://pdb2variants2disease/part-00153-c6da1fb5-98b2-4314-81f5-2acc0ed86b45-c000.snappy.parquet [Content-Type=application/octet-stream]...\n",
      "Copying file://pdb2variants2disease/part-00114-c6da1fb5-98b2-4314-81f5-2acc0ed86b45-c000.snappy.parquet [Content-Type=application/octet-stream]...\n",
      "Copying file://pdb2variants2disease/.part-00020-c6da1fb5-98b2-4314-81f5-2acc0ed86b45-c000.snappy.parquet.crc [Content-Type=application/octet-stream]...\n",
      "Copying file://pdb2variants2disease/.part-00078-c6da1fb5-98b2-4314-81f5-2acc0ed86b45-c000.snappy.parquet.crc [Content-Type=application/octet-stream]...\n",
      "Copying file://pdb2variants2disease/part-00011-c6da1fb5-98b2-4314-81f5-2acc0ed86b45-c000.snappy.parquet [Content-Type=application/octet-stream]...\n",
      "Copying file://pdb2variants2disease/.part-00105-c6da1fb5-98b2-4314-81f5-2acc0ed86b45-c000.snappy.parquet.crc [Content-Type=application/octet-stream]...\n",
      "Copying file://pdb2variants2disease/part-00034-c6da1fb5-98b2-4314-81f5-2acc0ed86b45-c000.snappy.parquet [Content-Type=application/octet-stream]...\n",
      "Copying file://pdb2variants2disease/part-00005-c6da1fb5-98b2-4314-81f5-2acc0ed86b45-c000.snappy.parquet [Content-Type=application/octet-stream]...\n",
      "Copying file://pdb2variants2disease/part-00016-c6da1fb5-98b2-4314-81f5-2acc0ed86b45-c000.snappy.parquet [Content-Type=application/octet-stream]...\n",
      "Copying file://pdb2variants2disease/part-00148-c6da1fb5-98b2-4314-81f5-2acc0ed86b45-c000.snappy.parquet [Content-Type=application/octet-stream]...\n",
      "Copying file://pdb2variants2disease/.part-00090-c6da1fb5-98b2-4314-81f5-2acc0ed86b45-c000.snappy.parquet.crc [Content-Type=application/octet-stream]...\n",
      "Copying file://pdb2variants2disease/part-00197-c6da1fb5-98b2-4314-81f5-2acc0ed86b45-c000.snappy.parquet [Content-Type=application/octet-stream]...\n",
      "Copying file://pdb2variants2disease/part-00031-c6da1fb5-98b2-4314-81f5-2acc0ed86b45-c000.snappy.parquet [Content-Type=application/octet-stream]...\n",
      "Copying file://pdb2variants2disease/part-00139-c6da1fb5-98b2-4314-81f5-2acc0ed86b45-c000.snappy.parquet [Content-Type=application/octet-stream]...\n",
      "Copying file://pdb2variants2disease/.part-00051-c6da1fb5-98b2-4314-81f5-2acc0ed86b45-c000.snappy.parquet.crc [Content-Type=application/octet-stream]...\n",
      "Copying file://pdb2variants2disease/.part-00001-c6da1fb5-98b2-4314-81f5-2acc0ed86b45-c000.snappy.parquet.crc [Content-Type=application/octet-stream]...\n",
      "Copying file://pdb2variants2disease/part-00063-c6da1fb5-98b2-4314-81f5-2acc0ed86b45-c000.snappy.parquet [Content-Type=application/octet-stream]...\n",
      "Copying file://pdb2variants2disease/part-00189-c6da1fb5-98b2-4314-81f5-2acc0ed86b45-c000.snappy.parquet [Content-Type=application/octet-stream]...\n",
      "Copying file://pdb2variants2disease/.part-00183-c6da1fb5-98b2-4314-81f5-2acc0ed86b45-c000.snappy.parquet.crc [Content-Type=application/octet-stream]...\n",
      "Copying file://pdb2variants2disease/.part-00091-c6da1fb5-98b2-4314-81f5-2acc0ed86b45-c000.snappy.parquet.crc [Content-Type=application/octet-stream]...\n",
      "Copying file://pdb2variants2disease/.part-00043-c6da1fb5-98b2-4314-81f5-2acc0ed86b45-c000.snappy.parquet.crc [Content-Type=application/octet-stream]...\n",
      "Copying file://pdb2variants2disease/part-00179-c6da1fb5-98b2-4314-81f5-2acc0ed86b45-c000.snappy.parquet [Content-Type=application/octet-stream]...\n",
      "Copying file://pdb2variants2disease/part-00133-c6da1fb5-98b2-4314-81f5-2acc0ed86b45-c000.snappy.parquet [Content-Type=application/octet-stream]...\n",
      "Copying file://pdb2variants2disease/.part-00021-c6da1fb5-98b2-4314-81f5-2acc0ed86b45-c000.snappy.parquet.crc [Content-Type=application/octet-stream]...\n",
      "Copying file://pdb2variants2disease/.part-00158-c6da1fb5-98b2-4314-81f5-2acc0ed86b45-c000.snappy.parquet.crc [Content-Type=application/octet-stream]...\n",
      "Copying file://pdb2variants2disease/.part-00148-c6da1fb5-98b2-4314-81f5-2acc0ed86b45-c000.snappy.parquet.crc [Content-Type=application/octet-stream]...\n",
      "Copying file://pdb2variants2disease/part-00120-c6da1fb5-98b2-4314-81f5-2acc0ed86b45-c000.snappy.parquet [Content-Type=application/octet-stream]...\n",
      "Copying file://pdb2variants2disease/.part-00006-c6da1fb5-98b2-4314-81f5-2acc0ed86b45-c000.snappy.parquet.crc [Content-Type=application/octet-stream]...\n",
      "Copying file://pdb2variants2disease/part-00000-c6da1fb5-98b2-4314-81f5-2acc0ed86b45-c000.snappy.parquet [Content-Type=application/octet-stream]...\n",
      "Copying file://pdb2variants2disease/.part-00000-c6da1fb5-98b2-4314-81f5-2acc0ed86b45-c000.snappy.parquet.crc [Content-Type=application/octet-stream]...\n",
      "Copying file://pdb2variants2disease/part-00181-c6da1fb5-98b2-4314-81f5-2acc0ed86b45-c000.snappy.parquet [Content-Type=application/octet-stream]...\n",
      "Copying file://pdb2variants2disease/part-00028-c6da1fb5-98b2-4314-81f5-2acc0ed86b45-c000.snappy.parquet [Content-Type=application/octet-stream]...\n",
      "Copying file://pdb2variants2disease/.part-00088-c6da1fb5-98b2-4314-81f5-2acc0ed86b45-c000.snappy.parquet.crc [Content-Type=application/octet-stream]...\n",
      "Copying file://pdb2variants2disease/part-00164-c6da1fb5-98b2-4314-81f5-2acc0ed86b45-c000.snappy.parquet [Content-Type=application/octet-stream]...\n",
      "Copying file://pdb2variants2disease/.part-00199-c6da1fb5-98b2-4314-81f5-2acc0ed86b45-c000.snappy.parquet.crc [Content-Type=application/octet-stream]...\n",
      "Copying file://pdb2variants2disease/.part-00146-c6da1fb5-98b2-4314-81f5-2acc0ed86b45-c000.snappy.parquet.crc [Content-Type=application/octet-stream]...\n",
      "Copying file://pdb2variants2disease/.part-00170-c6da1fb5-98b2-4314-81f5-2acc0ed86b45-c000.snappy.parquet.crc [Content-Type=application/octet-stream]...\n",
      "Copying file://pdb2variants2disease/part-00095-c6da1fb5-98b2-4314-81f5-2acc0ed86b45-c000.snappy.parquet [Content-Type=application/octet-stream]...\n",
      "Copying file://pdb2variants2disease/.part-00022-c6da1fb5-98b2-4314-81f5-2acc0ed86b45-c000.snappy.parquet.crc [Content-Type=application/octet-stream]...\n",
      "Copying file://pdb2variants2disease/.part-00004-c6da1fb5-98b2-4314-81f5-2acc0ed86b45-c000.snappy.parquet.crc [Content-Type=application/octet-stream]...\n",
      "Copying file://pdb2variants2disease/part-00091-c6da1fb5-98b2-4314-81f5-2acc0ed86b45-c000.snappy.parquet [Content-Type=application/octet-stream]...\n",
      "Copying file://pdb2variants2disease/.part-00026-c6da1fb5-98b2-4314-81f5-2acc0ed86b45-c000.snappy.parquet.crc [Content-Type=application/octet-stream]...\n",
      "Copying file://pdb2variants2disease/.part-00172-c6da1fb5-98b2-4314-81f5-2acc0ed86b45-c000.snappy.parquet.crc [Content-Type=application/octet-stream]...\n",
      "Copying file://pdb2variants2disease/.part-00124-c6da1fb5-98b2-4314-81f5-2acc0ed86b45-c000.snappy.parquet.crc [Content-Type=application/octet-stream]...\n",
      "Copying file://pdb2variants2disease/part-00015-c6da1fb5-98b2-4314-81f5-2acc0ed86b45-c000.snappy.parquet [Content-Type=application/octet-stream]...\n",
      "Copying file://pdb2variants2disease/.part-00031-c6da1fb5-98b2-4314-81f5-2acc0ed86b45-c000.snappy.parquet.crc [Content-Type=application/octet-stream]...\n",
      "Copying file://pdb2variants2disease/.part-00168-c6da1fb5-98b2-4314-81f5-2acc0ed86b45-c000.snappy.parquet.crc [Content-Type=application/octet-stream]...\n",
      "Copying file://pdb2variants2disease/part-00175-c6da1fb5-98b2-4314-81f5-2acc0ed86b45-c000.snappy.parquet [Content-Type=application/octet-stream]...\n",
      "Copying file://pdb2variants2disease/part-00079-c6da1fb5-98b2-4314-81f5-2acc0ed86b45-c000.snappy.parquet [Content-Type=application/octet-stream]...\n",
      "Copying file://pdb2variants2disease/.part-00037-c6da1fb5-98b2-4314-81f5-2acc0ed86b45-c000.snappy.parquet.crc [Content-Type=application/octet-stream]...\n",
      "Copying file://pdb2variants2disease/.part-00188-c6da1fb5-98b2-4314-81f5-2acc0ed86b45-c000.snappy.parquet.crc [Content-Type=application/octet-stream]...\n",
      "Copying file://pdb2variants2disease/part-00187-c6da1fb5-98b2-4314-81f5-2acc0ed86b45-c000.snappy.parquet [Content-Type=application/octet-stream]...\n",
      "Copying file://pdb2variants2disease/.part-00098-c6da1fb5-98b2-4314-81f5-2acc0ed86b45-c000.snappy.parquet.crc [Content-Type=application/octet-stream]...\n",
      "Copying file://pdb2variants2disease/part-00149-c6da1fb5-98b2-4314-81f5-2acc0ed86b45-c000.snappy.parquet [Content-Type=application/octet-stream]...\n",
      "Copying file://pdb2variants2disease/.part-00040-c6da1fb5-98b2-4314-81f5-2acc0ed86b45-c000.snappy.parquet.crc [Content-Type=application/octet-stream]...\n",
      "Copying file://pdb2variants2disease/.part-00011-c6da1fb5-98b2-4314-81f5-2acc0ed86b45-c000.snappy.parquet.crc [Content-Type=application/octet-stream]...\n",
      "Copying file://pdb2variants2disease/.part-00056-c6da1fb5-98b2-4314-81f5-2acc0ed86b45-c000.snappy.parquet.crc [Content-Type=application/octet-stream]...\n",
      "Copying file://pdb2variants2disease/.part-00047-c6da1fb5-98b2-4314-81f5-2acc0ed86b45-c000.snappy.parquet.crc [Content-Type=application/octet-stream]...\n",
      "Copying file://pdb2variants2disease/part-00147-c6da1fb5-98b2-4314-81f5-2acc0ed86b45-c000.snappy.parquet [Content-Type=application/octet-stream]...\n",
      "Copying file://pdb2variants2disease/.part-00084-c6da1fb5-98b2-4314-81f5-2acc0ed86b45-c000.snappy.parquet.crc [Content-Type=application/octet-stream]...\n",
      "Copying file://pdb2variants2disease/.part-00173-c6da1fb5-98b2-4314-81f5-2acc0ed86b45-c000.snappy.parquet.crc [Content-Type=application/octet-stream]...\n",
      "Copying file://pdb2variants2disease/part-00129-c6da1fb5-98b2-4314-81f5-2acc0ed86b45-c000.snappy.parquet [Content-Type=application/octet-stream]...\n",
      "Copying file://pdb2variants2disease/part-00059-c6da1fb5-98b2-4314-81f5-2acc0ed86b45-c000.snappy.parquet [Content-Type=application/octet-stream]...\n",
      "Copying file://pdb2variants2disease/part-00047-c6da1fb5-98b2-4314-81f5-2acc0ed86b45-c000.snappy.parquet [Content-Type=application/octet-stream]...\n",
      "Copying file://pdb2variants2disease/part-00141-c6da1fb5-98b2-4314-81f5-2acc0ed86b45-c000.snappy.parquet [Content-Type=application/octet-stream]...\n",
      "Copying file://pdb2variants2disease/.part-00166-c6da1fb5-98b2-4314-81f5-2acc0ed86b45-c000.snappy.parquet.crc [Content-Type=application/octet-stream]...\n",
      "Copying file://pdb2variants2disease/.part-00120-c6da1fb5-98b2-4314-81f5-2acc0ed86b45-c000.snappy.parquet.crc [Content-Type=application/octet-stream]...\n",
      "Copying file://pdb2variants2disease/part-00099-c6da1fb5-98b2-4314-81f5-2acc0ed86b45-c000.snappy.parquet [Content-Type=application/octet-stream]...\n",
      "Copying file://pdb2variants2disease/.part-00145-c6da1fb5-98b2-4314-81f5-2acc0ed86b45-c000.snappy.parquet.crc [Content-Type=application/octet-stream]...\n",
      "Copying file://pdb2variants2disease/part-00054-c6da1fb5-98b2-4314-81f5-2acc0ed86b45-c000.snappy.parquet [Content-Type=application/octet-stream]...\n",
      "Copying file://pdb2variants2disease/part-00083-c6da1fb5-98b2-4314-81f5-2acc0ed86b45-c000.snappy.parquet [Content-Type=application/octet-stream]...\n",
      "Copying file://pdb2variants2disease/part-00176-c6da1fb5-98b2-4314-81f5-2acc0ed86b45-c000.snappy.parquet [Content-Type=application/octet-stream]...\n",
      "Copying file://pdb2variants2disease/part-00109-c6da1fb5-98b2-4314-81f5-2acc0ed86b45-c000.snappy.parquet [Content-Type=application/octet-stream]...\n",
      "Copying file://pdb2variants2disease/part-00013-c6da1fb5-98b2-4314-81f5-2acc0ed86b45-c000.snappy.parquet [Content-Type=application/octet-stream]...\n",
      "Copying file://pdb2variants2disease/part-00101-c6da1fb5-98b2-4314-81f5-2acc0ed86b45-c000.snappy.parquet [Content-Type=application/octet-stream]...\n",
      "Copying file://pdb2variants2disease/.part-00164-c6da1fb5-98b2-4314-81f5-2acc0ed86b45-c000.snappy.parquet.crc [Content-Type=application/octet-stream]...\n",
      "Copying file://pdb2variants2disease/.part-00109-c6da1fb5-98b2-4314-81f5-2acc0ed86b45-c000.snappy.parquet.crc [Content-Type=application/octet-stream]...\n",
      "Copying file://pdb2variants2disease/part-00044-c6da1fb5-98b2-4314-81f5-2acc0ed86b45-c000.snappy.parquet [Content-Type=application/octet-stream]...\n",
      "Copying file://pdb2variants2disease/.part-00118-c6da1fb5-98b2-4314-81f5-2acc0ed86b45-c000.snappy.parquet.crc [Content-Type=application/octet-stream]...\n",
      "Copying file://pdb2variants2disease/part-00188-c6da1fb5-98b2-4314-81f5-2acc0ed86b45-c000.snappy.parquet [Content-Type=application/octet-stream]...\n",
      "Copying file://pdb2variants2disease/.part-00165-c6da1fb5-98b2-4314-81f5-2acc0ed86b45-c000.snappy.parquet.crc [Content-Type=application/octet-stream]...\n",
      "Copying file://pdb2variants2disease/.part-00052-c6da1fb5-98b2-4314-81f5-2acc0ed86b45-c000.snappy.parquet.crc [Content-Type=application/octet-stream]...\n",
      "Copying file://pdb2variants2disease/part-00103-c6da1fb5-98b2-4314-81f5-2acc0ed86b45-c000.snappy.parquet [Content-Type=application/octet-stream]...\n",
      "Copying file://pdb2variants2disease/.part-00018-c6da1fb5-98b2-4314-81f5-2acc0ed86b45-c000.snappy.parquet.crc [Content-Type=application/octet-stream]...\n",
      "Copying file://pdb2variants2disease/part-00158-c6da1fb5-98b2-4314-81f5-2acc0ed86b45-c000.snappy.parquet [Content-Type=application/octet-stream]...\n",
      "Copying file://pdb2variants2disease/part-00190-c6da1fb5-98b2-4314-81f5-2acc0ed86b45-c000.snappy.parquet [Content-Type=application/octet-stream]...\n",
      "Copying file://pdb2variants2disease/.part-00074-c6da1fb5-98b2-4314-81f5-2acc0ed86b45-c000.snappy.parquet.crc [Content-Type=application/octet-stream]...\n",
      "Copying file://pdb2variants2disease/.part-00155-c6da1fb5-98b2-4314-81f5-2acc0ed86b45-c000.snappy.parquet.crc [Content-Type=application/octet-stream]...\n",
      "Copying file://pdb2variants2disease/part-00174-c6da1fb5-98b2-4314-81f5-2acc0ed86b45-c000.snappy.parquet [Content-Type=application/octet-stream]...\n",
      "Copying file://pdb2variants2disease/.part-00153-c6da1fb5-98b2-4314-81f5-2acc0ed86b45-c000.snappy.parquet.crc [Content-Type=application/octet-stream]...\n",
      "Copying file://pdb2variants2disease/part-00105-c6da1fb5-98b2-4314-81f5-2acc0ed86b45-c000.snappy.parquet [Content-Type=application/octet-stream]...\n",
      "Copying file://pdb2variants2disease/part-00106-c6da1fb5-98b2-4314-81f5-2acc0ed86b45-c000.snappy.parquet [Content-Type=application/octet-stream]...\n",
      "Copying file://pdb2variants2disease/.part-00141-c6da1fb5-98b2-4314-81f5-2acc0ed86b45-c000.snappy.parquet.crc [Content-Type=application/octet-stream]...\n",
      "Copying file://pdb2variants2disease/part-00008-c6da1fb5-98b2-4314-81f5-2acc0ed86b45-c000.snappy.parquet [Content-Type=application/octet-stream]...\n",
      "Copying file://pdb2variants2disease/part-00085-c6da1fb5-98b2-4314-81f5-2acc0ed86b45-c000.snappy.parquet [Content-Type=application/octet-stream]...\n",
      "Copying file://pdb2variants2disease/part-00052-c6da1fb5-98b2-4314-81f5-2acc0ed86b45-c000.snappy.parquet [Content-Type=application/octet-stream]...\n",
      "Copying file://pdb2variants2disease/part-00065-c6da1fb5-98b2-4314-81f5-2acc0ed86b45-c000.snappy.parquet [Content-Type=application/octet-stream]...\n",
      "Copying file://pdb2variants2disease/.part-00079-c6da1fb5-98b2-4314-81f5-2acc0ed86b45-c000.snappy.parquet.crc [Content-Type=application/octet-stream]...\n",
      "Copying file://pdb2variants2disease/.part-00162-c6da1fb5-98b2-4314-81f5-2acc0ed86b45-c000.snappy.parquet.crc [Content-Type=application/octet-stream]...\n",
      "Copying file://pdb2variants2disease/part-00177-c6da1fb5-98b2-4314-81f5-2acc0ed86b45-c000.snappy.parquet [Content-Type=application/octet-stream]...\n",
      "Copying file://pdb2variants2disease/part-00014-c6da1fb5-98b2-4314-81f5-2acc0ed86b45-c000.snappy.parquet [Content-Type=application/octet-stream]...\n",
      "Copying file://pdb2variants2disease/part-00163-c6da1fb5-98b2-4314-81f5-2acc0ed86b45-c000.snappy.parquet [Content-Type=application/octet-stream]...\n",
      "Copying file://pdb2variants2disease/.part-00125-c6da1fb5-98b2-4314-81f5-2acc0ed86b45-c000.snappy.parquet.crc [Content-Type=application/octet-stream]...\n",
      "Copying file://pdb2variants2disease/part-00098-c6da1fb5-98b2-4314-81f5-2acc0ed86b45-c000.snappy.parquet [Content-Type=application/octet-stream]...\n",
      "Copying file://pdb2variants2disease/part-00096-c6da1fb5-98b2-4314-81f5-2acc0ed86b45-c000.snappy.parquet [Content-Type=application/octet-stream]...\n",
      "Copying file://pdb2variants2disease/.part-00042-c6da1fb5-98b2-4314-81f5-2acc0ed86b45-c000.snappy.parquet.crc [Content-Type=application/octet-stream]...\n",
      "Copying file://pdb2variants2disease/part-00082-c6da1fb5-98b2-4314-81f5-2acc0ed86b45-c000.snappy.parquet [Content-Type=application/octet-stream]...\n",
      "Copying file://pdb2variants2disease/.part-00104-c6da1fb5-98b2-4314-81f5-2acc0ed86b45-c000.snappy.parquet.crc [Content-Type=application/octet-stream]...\n",
      "Copying file://pdb2variants2disease/.part-00135-c6da1fb5-98b2-4314-81f5-2acc0ed86b45-c000.snappy.parquet.crc [Content-Type=application/octet-stream]...\n",
      "Copying file://pdb2variants2disease/.part-00113-c6da1fb5-98b2-4314-81f5-2acc0ed86b45-c000.snappy.parquet.crc [Content-Type=application/octet-stream]...\n",
      "Copying file://pdb2variants2disease/part-00084-c6da1fb5-98b2-4314-81f5-2acc0ed86b45-c000.snappy.parquet [Content-Type=application/octet-stream]...\n",
      "Copying file://pdb2variants2disease/.part-00054-c6da1fb5-98b2-4314-81f5-2acc0ed86b45-c000.snappy.parquet.crc [Content-Type=application/octet-stream]...\n",
      "Copying file://pdb2variants2disease/part-00066-c6da1fb5-98b2-4314-81f5-2acc0ed86b45-c000.snappy.parquet [Content-Type=application/octet-stream]...\n",
      "Copying file://pdb2variants2disease/.part-00169-c6da1fb5-98b2-4314-81f5-2acc0ed86b45-c000.snappy.parquet.crc [Content-Type=application/octet-stream]...\n",
      "Copying file://pdb2variants2disease/part-00001-c6da1fb5-98b2-4314-81f5-2acc0ed86b45-c000.snappy.parquet [Content-Type=application/octet-stream]...\n",
      "Copying file://pdb2variants2disease/part-00128-c6da1fb5-98b2-4314-81f5-2acc0ed86b45-c000.snappy.parquet [Content-Type=application/octet-stream]...\n",
      "Copying file://pdb2variants2disease/part-00112-c6da1fb5-98b2-4314-81f5-2acc0ed86b45-c000.snappy.parquet [Content-Type=application/octet-stream]...\n",
      "Copying file://pdb2variants2disease/.part-00192-c6da1fb5-98b2-4314-81f5-2acc0ed86b45-c000.snappy.parquet.crc [Content-Type=application/octet-stream]...\n",
      "Copying file://pdb2variants2disease/part-00157-c6da1fb5-98b2-4314-81f5-2acc0ed86b45-c000.snappy.parquet [Content-Type=application/octet-stream]...\n",
      "Copying file://pdb2variants2disease/part-00071-c6da1fb5-98b2-4314-81f5-2acc0ed86b45-c000.snappy.parquet [Content-Type=application/octet-stream]...\n",
      "Copying file://pdb2variants2disease/.part-00008-c6da1fb5-98b2-4314-81f5-2acc0ed86b45-c000.snappy.parquet.crc [Content-Type=application/octet-stream]...\n",
      "Copying file://pdb2variants2disease/.part-00082-c6da1fb5-98b2-4314-81f5-2acc0ed86b45-c000.snappy.parquet.crc [Content-Type=application/octet-stream]...\n",
      "Copying file://pdb2variants2disease/part-00192-c6da1fb5-98b2-4314-81f5-2acc0ed86b45-c000.snappy.parquet [Content-Type=application/octet-stream]...\n",
      "Copying file://pdb2variants2disease/part-00087-c6da1fb5-98b2-4314-81f5-2acc0ed86b45-c000.snappy.parquet [Content-Type=application/octet-stream]...\n",
      "Copying file://pdb2variants2disease/.part-00057-c6da1fb5-98b2-4314-81f5-2acc0ed86b45-c000.snappy.parquet.crc [Content-Type=application/octet-stream]...\n",
      "Copying file://pdb2variants2disease/.part-00048-c6da1fb5-98b2-4314-81f5-2acc0ed86b45-c000.snappy.parquet.crc [Content-Type=application/octet-stream]...\n",
      "Copying file://pdb2variants2disease/.part-00157-c6da1fb5-98b2-4314-81f5-2acc0ed86b45-c000.snappy.parquet.crc [Content-Type=application/octet-stream]...\n",
      "Copying file://pdb2variants2disease/.part-00017-c6da1fb5-98b2-4314-81f5-2acc0ed86b45-c000.snappy.parquet.crc [Content-Type=application/octet-stream]...\n",
      "Copying file://pdb2variants2disease/part-00057-c6da1fb5-98b2-4314-81f5-2acc0ed86b45-c000.snappy.parquet [Content-Type=application/octet-stream]...\n",
      "Copying file://pdb2variants2disease/.part-00030-c6da1fb5-98b2-4314-81f5-2acc0ed86b45-c000.snappy.parquet.crc [Content-Type=application/octet-stream]...\n",
      "Copying file://pdb2variants2disease/part-00056-c6da1fb5-98b2-4314-81f5-2acc0ed86b45-c000.snappy.parquet [Content-Type=application/octet-stream]...\n",
      "Copying file://pdb2variants2disease/.part-00081-c6da1fb5-98b2-4314-81f5-2acc0ed86b45-c000.snappy.parquet.crc [Content-Type=application/octet-stream]...\n",
      "Copying file://pdb2variants2disease/.part-00137-c6da1fb5-98b2-4314-81f5-2acc0ed86b45-c000.snappy.parquet.crc [Content-Type=application/octet-stream]...\n",
      "Copying file://pdb2variants2disease/part-00040-c6da1fb5-98b2-4314-81f5-2acc0ed86b45-c000.snappy.parquet [Content-Type=application/octet-stream]...\n",
      "Copying file://pdb2variants2disease/.part-00194-c6da1fb5-98b2-4314-81f5-2acc0ed86b45-c000.snappy.parquet.crc [Content-Type=application/octet-stream]...\n",
      "Copying file://pdb2variants2disease/part-00121-c6da1fb5-98b2-4314-81f5-2acc0ed86b45-c000.snappy.parquet [Content-Type=application/octet-stream]...\n",
      "Copying file://pdb2variants2disease/part-00007-c6da1fb5-98b2-4314-81f5-2acc0ed86b45-c000.snappy.parquet [Content-Type=application/octet-stream]...\n",
      "Copying file://pdb2variants2disease/.part-00129-c6da1fb5-98b2-4314-81f5-2acc0ed86b45-c000.snappy.parquet.crc [Content-Type=application/octet-stream]...\n",
      "Copying file://pdb2variants2disease/part-00125-c6da1fb5-98b2-4314-81f5-2acc0ed86b45-c000.snappy.parquet [Content-Type=application/octet-stream]...\n",
      "Copying file://pdb2variants2disease/.part-00139-c6da1fb5-98b2-4314-81f5-2acc0ed86b45-c000.snappy.parquet.crc [Content-Type=application/octet-stream]...\n",
      "Copying file://pdb2variants2disease/part-00035-c6da1fb5-98b2-4314-81f5-2acc0ed86b45-c000.snappy.parquet [Content-Type=application/octet-stream]...\n",
      "\\ [358 files][526.6 KiB/526.6 KiB]   19.6 KiB/s                                 \n",
      "==> NOTE: You are performing a sequence of gsutil operations that may\n",
      "run significantly faster if you instead use gsutil -m cp ... Please\n",
      "see the -m section under \"gsutil help options\" for further information\n",
      "about when gsutil -m can be advantageous.\n",
      "\n",
      "\n",
      "Operation completed over 358 objects/526.6 KiB.                                  \n"
     ]
    }
   ],
   "source": [
    "# %%bash \n",
    "\n",
    "# gsutil cp -r pdb2variants2disease gs://ot-team/marine/\n",
    "# #rm -rf pdb2variants2disease"
   ]
  },
  {
   "cell_type": "code",
   "execution_count": null,
   "metadata": {},
   "outputs": [],
   "source": []
  },
  {
   "cell_type": "code",
   "execution_count": null,
   "metadata": {},
   "outputs": [],
   "source": []
  }
 ],
 "metadata": {
  "interpreter": {
   "hash": "ef75f4e87e4d5a6c7d8111124e9ecc7c28b751fe82f3f2cbf7fdc6adb9c2b5c0"
  },
  "kernelspec": {
   "display_name": "Python 3.8.10 ('venv': venv)",
   "language": "python",
   "name": "python3"
  },
  "language_info": {
   "codemirror_mode": {
    "name": "ipython",
    "version": 3
   },
   "file_extension": ".py",
   "mimetype": "text/x-python",
   "name": "python",
   "nbconvert_exporter": "python",
   "pygments_lexer": "ipython3",
   "version": "3.8.10"
  },
  "orig_nbformat": 4
 },
 "nbformat": 4,
 "nbformat_minor": 2
}
