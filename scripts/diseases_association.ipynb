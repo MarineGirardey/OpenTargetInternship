{
 "cells": [
  {
   "cell_type": "code",
   "execution_count": 1,
   "metadata": {},
   "outputs": [],
   "source": [
    "import pyspark.sql.functions as f\n",
    "from pyspark.sql import SparkSession\n",
    "from pyspark.sql.types import StructField, StructType, IntegerType, StringType"
   ]
  },
  {
   "cell_type": "code",
   "execution_count": 2,
   "metadata": {},
   "outputs": [
    {
     "name": "stderr",
     "output_type": "stream",
     "text": [
      "WARNING: An illegal reflective access operation has occurred\n",
      "WARNING: Illegal reflective access by org.apache.spark.unsafe.Platform (file:/Users/marinegirardey/miniforge3/envs/plip_env/lib/python3.8/site-packages/pyspark/jars/spark-unsafe_2.12-3.2.1.jar) to constructor java.nio.DirectByteBuffer(long,int)\n",
      "WARNING: Please consider reporting this to the maintainers of org.apache.spark.unsafe.Platform\n",
      "WARNING: Use --illegal-access=warn to enable warnings of further illegal reflective access operations\n",
      "WARNING: All illegal access operations will be denied in a future release\n",
      "Using Spark's default log4j profile: org/apache/spark/log4j-defaults.properties\n",
      "Setting default log level to \"WARN\".\n",
      "To adjust logging level use sc.setLogLevel(newLevel). For SparkR, use setLogLevel(newLevel).\n",
      "22/04/25 20:17:58 WARN NativeCodeLoader: Unable to load native-hadoop library for your platform... using builtin-java classes where applicable\n"
     ]
    }
   ],
   "source": [
    "spark = SparkSession.builder.getOrCreate()"
   ]
  },
  {
   "cell_type": "code",
   "execution_count": 3,
   "metadata": {},
   "outputs": [
    {
     "name": "stderr",
     "output_type": "stream",
     "text": [
      "                                                                                \r"
     ]
    }
   ],
   "source": [
    "evidence = (\n",
    "    spark.read.parquet(\"../evidence\")\n",
    "    .select(\"targetId\", \"variantId\", \"diseaseId\", \"diseaseFromSource\")\n",
    "    .filter(f.col(\"variantId\").isNotNull())\n",
    "    .withColumn('chr', f.split(f.col('variantId'), '_').getItem(0))\n",
    "    .withColumn('genomicLocation', f.split(f.col('variantId'), '_').getItem(1))\n",
    "    .persist()\n",
    ")"
   ]
  },
  {
   "cell_type": "code",
   "execution_count": 4,
   "metadata": {},
   "outputs": [
    {
     "name": "stderr",
     "output_type": "stream",
     "text": [
      "                                                                                \r"
     ]
    },
    {
     "name": "stdout",
     "output_type": "stream",
     "text": [
      "+------------+---------------+----------------+---------------+--------------------+---+---------------+\n",
      "|datasourceId|       targetId|       variantId|      diseaseId|   diseaseFromSource|chr|genomicLocation|\n",
      "+------------+---------------+----------------+---------------+--------------------+---+---------------+\n",
      "|         eva|ENSG00000198727|    MT_15404_T_C|   Orphanet_506|      Leigh syndrome| MT|          15404|\n",
      "|         eva|ENSG00000136944| 9_126696728_C_T|  Orphanet_2614|Nail-patella synd...|  9|      126696728|\n",
      "|         eva|ENSG00000140368| 15_77028657_G_A| Orphanet_69126|Pyogenic arthriti...| 15|       77028657|\n",
      "|         eva|ENSG00000187741| 16_89740085_C_T|    Orphanet_84|      Fanconi anemia| 16|       89740085|\n",
      "|         eva|ENSG00000007372| 11_31793299_G_A|  MONDO_0007350|Coloboma, ocular,...| 11|       31793299|\n",
      "|         eva|ENSG00000007372| 11_31786949_C_T|    Orphanet_77| Congenital aniridia| 11|       31786949|\n",
      "|         eva|ENSG00000013503|12_106427339_T_C|Orphanet_289494|Hypomyelinating l...| 12|      106427339|\n",
      "|         eva|ENSG00000076242|  3_37025860_G_T|Orphanet_140162|Hereditary cancer...|  3|       37025860|\n",
      "|         eva|ENSG00000116127|  2_73386037_G_A|    Orphanet_64|    Alstrom syndrome|  2|       73386037|\n",
      "|         eva|ENSG00000144452| 2_214931921_A_C|Orphanet_183435|Congenital ichthy...|  2|      214931921|\n",
      "|         eva|ENSG00000169554|2_144399242_TG_T|  Orphanet_2152|Mowat-Wilson synd...|  2|      144399242|\n",
      "|         eva|ENSG00000204264|  6_32841558_C_T|Orphanet_324977|Proteasome-associ...|  6|       32841558|\n",
      "|         eva|ENSG00000166033|10_122461828_G_C|    EFO_0001365|Macular degeneration| 10|      122461828|\n",
      "|         eva|ENSG00000184937| 11_32435286_G_C|   Orphanet_893|Wilms tumor, anir...| 11|       32435286|\n",
      "|         eva|ENSG00000084674|  2_21011802_C_T|    EFO_0004911|Familial hypercho...|  2|       21011802|\n",
      "|         eva|ENSG00000117984|  11_1753128_T_C|   Orphanet_216|Neuronal ceroid l...| 11|        1753128|\n",
      "|         eva|ENSG00000147257| X_133754145_C_G|   Orphanet_654|       Wilms tumor 1|  X|      133754145|\n",
      "|         eva|ENSG00000159921|  9_36276831_T_C|   Orphanet_602|        GNE myopathy|  9|       36276831|\n",
      "|         eva|ENSG00000140199| 15_34238402_C_T|  Orphanet_1496|Agenesis of the c...| 15|       34238402|\n",
      "|         eva|ENSG00000149311|11_108326177_G_A|   Orphanet_100|Ataxia-telangiect...| 11|      108326177|\n",
      "+------------+---------------+----------------+---------------+--------------------+---+---------------+\n",
      "only showing top 20 rows\n",
      "\n"
     ]
    }
   ],
   "source": [
    "evidence.show()"
   ]
  },
  {
   "cell_type": "code",
   "execution_count": 5,
   "metadata": {},
   "outputs": [
    {
     "name": "stderr",
     "output_type": "stream",
     "text": [
      "                                                                                \r"
     ]
    }
   ],
   "source": [
    "gen_location = (\n",
    "    spark.read.json(\"residue_gen_pos_output/residue_genomic_position.json\")\n",
    ")\n",
    "\n",
    "gen_location = (\n",
    "    gen_location\n",
    "    .withColumn(\"pdbCompound\", gen_location[\"resInfos.compound\"])\n",
    "    .withColumn(\"resNb\", gen_location[\"resInfos.res_nb\"])\n",
    "    .withColumn(\"chain\", gen_location[\"resInfos.chain\"])\n",
    "    .withColumn(\"resType\", gen_location[\"resInfos.res_type\"])\n",
    "    .withColumn(\"interType\", gen_location[\"resInfos.inter_type\"])\n",
    "    .withColumn(\"chr\", gen_location[\"resInfos.chromosome\"])\n",
    "    .withColumn(\"genLocation_1\", gen_location[\"resInfos.genLocation.res_pos_1\"])\n",
    "    .withColumn(\"genLocation_2\", gen_location[\"resInfos.genLocation.res_pos_2\"])\n",
    "    .withColumn(\"genLocation_3\", gen_location[\"resInfos.genLocation.res_pos_3\"])\n",
    "    .drop(\"resInfos\")\n",
    "    .persist()\n",
    ")"
   ]
  },
  {
   "cell_type": "code",
   "execution_count": 6,
   "metadata": {},
   "outputs": [
    {
     "name": "stderr",
     "output_type": "stream",
     "text": [
      "[Stage 6:>                                                          (0 + 1) / 1]\r"
     ]
    },
    {
     "name": "stdout",
     "output_type": "stream",
     "text": [
      "-RECORD 0------------------------\n",
      " geneId        | ENSG00000001626 \n",
      " pdbStructId   | 1xmj            \n",
      " pdbCompound   | ATP             \n",
      " resNb         | 466             \n",
      " chain         | A               \n",
      " resType       | SER             \n",
      " interType     | hbond           \n",
      " chr           | 7               \n",
      " genLocation_1 | 117559467       \n",
      " genLocation_2 | 117559468       \n",
      " genLocation_3 | 117559469       \n",
      "only showing top 1 row\n",
      "\n"
     ]
    },
    {
     "name": "stderr",
     "output_type": "stream",
     "text": [
      "                                                                                \r"
     ]
    }
   ],
   "source": [
    "gen_location.show(1, False, True)"
   ]
  },
  {
   "cell_type": "code",
   "execution_count": 19,
   "metadata": {},
   "outputs": [],
   "source": [
    "res_with_disease = (\n",
    "    gen_location.join(\n",
    "        evidence, \n",
    "        (gen_location.chr == evidence.chr) &\n",
    "        (\n",
    "            (gen_location.genLocation_1 == evidence.genomicLocation) |\n",
    "            (gen_location.genLocation_2 == evidence.genomicLocation) |\n",
    "            (gen_location.genLocation_3 == evidence.genomicLocation)\n",
    "        )\n",
    "    )\n",
    "    .drop(\"genLocation_1\", \"genLocation_2\", \"genLocation_3\", \"targetId\", \"chr\", \"genomicLocation\")\n",
    "\n",
    "    .groupby([f.col('geneId'),\n",
    "            f.col('pdbStructId'),\n",
    "            f.col(\"resNb\"),\n",
    "            f.col(\"resType\"),\n",
    "            f.col(\"interType\"),\n",
    "            f.col(\"datasourceId\"),\n",
    "            f.col(\"diseaseId\"),\n",
    "            f.col(\"diseaseFromSource\")\n",
    "            ])\n",
    "\n",
    "    .agg(f.collect_set(f.struct(f.col('variantId'))))\n",
    "    .persist()\n",
    ")"
   ]
  },
  {
   "cell_type": "code",
   "execution_count": 20,
   "metadata": {},
   "outputs": [
    {
     "name": "stderr",
     "output_type": "stream",
     "text": [
      "[Stage 35:====>                                                  (15 + 8) / 200]\r"
     ]
    }
   ],
   "source": [
    "res_with_disease.show(5, False, True)"
   ]
  },
  {
   "cell_type": "code",
   "execution_count": 9,
   "metadata": {},
   "outputs": [],
   "source": [
    "# MOLECULES\n",
    "molecule_df = (\n",
    "    spark.read\n",
    "    .parquet(\"../input_files/molecule/\")\n",
    "    .select(\n",
    "        f.col('inchiKey').alias('inchikey'), 'name'\n",
    "        #, 'linkedTargets', 'linkedDiseases'\n",
    "    )\n",
    "    .persist()\n",
    ")"
   ]
  },
  {
   "cell_type": "code",
   "execution_count": 10,
   "metadata": {},
   "outputs": [],
   "source": [
    "# INCHIKEY MOLECULES\n",
    "inchikey_df = (\n",
    "    spark.read\n",
    "        .csv(\"../input_files/inchikeys/components_inchikeys.csv\", sep=',', header=True, comment='#')\n",
    "        .select(\n",
    "            f.col('InChIKey').alias('inchikey'), \n",
    "            f.col('CCD_ID').alias('pdbCompound')\n",
    "        )\n",
    "    .persist()\n",
    ")"
   ]
  },
  {
   "cell_type": "code",
   "execution_count": 42,
   "metadata": {},
   "outputs": [],
   "source": [
    "# MOLECULE WITH COMPOUND ID\n",
    "molecules_inchikey_join = (\n",
    "    molecule_df\n",
    "    .join(inchikey_df, on='inchikey')\n",
    "    .drop(\"inchikey\")\n",
    "    .persist()\n",
    ")"
   ]
  },
  {
   "cell_type": "code",
   "execution_count": null,
   "metadata": {},
   "outputs": [],
   "source": [
    "molecules_inchikey_join.show()"
   ]
  },
  {
   "cell_type": "code",
   "execution_count": 43,
   "metadata": {},
   "outputs": [
    {
     "name": "stderr",
     "output_type": "stream",
     "text": [
      "                                                                                \r"
     ]
    },
    {
     "name": "stdout",
     "output_type": "stream",
     "text": [
      "+-----------+------------+---------------+-----------+-----+-----+-------+-------------+---+-------------+-------------+-------------+------------+---------------+-------------+-----------+--------------------+---+---------------+\n",
      "|pdbCompound|        name|         geneId|pdbStructId|resNb|chain|resType|    interType|chr|genLocation_1|genLocation_2|genLocation_3|datasourceId|       targetId|    variantId|  diseaseId|   diseaseFromSource|chr|genomicLocation|\n",
      "+-----------+------------+---------------+-----------+-----+-----+-------+-------------+---+-------------+-------------+-------------+------------+---------------+-------------+-----------+--------------------+---+---------------+\n",
      "|        GDP|CHEMBL384759|ENSG00000136238|       1g4u|   17|    R|    THR|        hbond|  7|      6387227|      6387228|      6387229|         eva|ENSG00000136238|7_6387229_G_A|EFO_0009156|Intellectual disa...|  7|        6387229|\n",
      "|        GDP|CHEMBL384759|ENSG00000136238|       1g4u|   16|    R|    LYS|   saltbridge|  7|      6387224|      6387225|      6387226|         eva|ENSG00000136238|7_6387226_C_G|EFO_0000508|Inborn genetic di...|  7|        6387226|\n",
      "|        GDP|CHEMBL384759|ENSG00000136238|       1g4u|   17|    R|    THR|metal_complex|  7|      6387227|      6387228|      6387229|         eva|ENSG00000136238|7_6387229_G_A|EFO_0009156|Intellectual disa...|  7|        6387229|\n",
      "|        GDP|CHEMBL384759|ENSG00000136238|       1g4u|   28|    R|    PHE|      pistack|  7|      6387260|      6387261|      6387262| eva_somatic|ENSG00000136238|7_6387261_C_A|EFO_0000389|Malignant melanom...|  7|        6387261|\n",
      "|        GDP|CHEMBL384759|ENSG00000136238|       1g4u|   28|    R|    PHE|      pistack|  7|      6387260|      6387261|      6387262| eva_somatic|ENSG00000136238|7_6387262_C_T|EFO_1001927|Squamous cell car...|  7|        6387262|\n",
      "|        GDP|CHEMBL384759|ENSG00000136238|       1g4u|   28|    R|    PHE|      pistack|  7|      6387260|      6387261|      6387262| eva_somatic|ENSG00000136238|7_6387261_C_T|EFO_0003859|Malignant neoplas...|  7|        6387261|\n",
      "|        GDP|CHEMBL384759|ENSG00000136238|       1g4u|   28|    R|    PHE|      pistack|  7|      6387260|      6387261|      6387262| eva_somatic|ENSG00000136238|7_6387262_C_T|EFO_0000181|Squamous cell car...|  7|        6387262|\n",
      "|        GDP|CHEMBL384759|ENSG00000136238|       1g4u|   28|    R|    PHE|      pistack|  7|      6387260|      6387261|      6387262| eva_somatic|ENSG00000136238|7_6387261_C_T|EFO_0000756|            Melanoma|  7|        6387261|\n",
      "|        GDP|CHEMBL384759|ENSG00000136238|       1g4u|   28|    R|    PHE|      pistack|  7|      6387260|      6387261|      6387262| eva_somatic|ENSG00000136238|7_6387261_C_T|EFO_1001927|Squamous cell car...|  7|        6387261|\n",
      "|        GDP|CHEMBL384759|ENSG00000136238|       1g4u|   28|    R|    PHE|      pistack|  7|      6387260|      6387261|      6387262| eva_somatic|ENSG00000136238|7_6387261_C_T|EFO_0000389|Malignant melanom...|  7|        6387261|\n",
      "|        GDP|CHEMBL384759|ENSG00000136238|       1g4u|   28|    R|    PHE|      pistack|  7|      6387260|      6387261|      6387262| eva_somatic|ENSG00000136238|7_6387261_C_A|EFO_1001927|Squamous cell car...|  7|        6387261|\n",
      "|        GDP|CHEMBL384759|ENSG00000136238|       1g4u|   28|    R|    PHE|      pistack|  7|      6387260|      6387261|      6387262| eva_somatic|ENSG00000136238|7_6387262_C_T|EFO_0003859|Malignant neoplas...|  7|        6387262|\n",
      "|        GDP|CHEMBL384759|ENSG00000136238|       1g4u|   28|    R|    PHE|      pistack|  7|      6387260|      6387261|      6387262| eva_somatic|ENSG00000136238|7_6387261_C_T|EFO_0000181|Squamous cell car...|  7|        6387261|\n",
      "|        GDP|CHEMBL384759|ENSG00000136238|       1g4u|   28|    R|    PHE|      pistack|  7|      6387260|      6387261|      6387262| eva_somatic|ENSG00000136238|7_6387261_C_A|EFO_0000181|Squamous cell car...|  7|        6387261|\n",
      "|        GDP|CHEMBL384759|ENSG00000136238|       1g4u|   28|    R|    PHE|      pistack|  7|      6387260|      6387261|      6387262| eva_somatic|ENSG00000136238|7_6387262_C_T|EFO_0000389|Malignant melanom...|  7|        6387262|\n",
      "|        GDP|CHEMBL384759|ENSG00000136238|       1g4u|   28|    R|    PHE|      pistack|  7|      6387260|      6387261|      6387262| eva_somatic|ENSG00000136238|7_6387261_C_A|EFO_0003859|Malignant neoplas...|  7|        6387261|\n",
      "|        GDP|CHEMBL384759|ENSG00000136238|       1g4u|   16|    R|    LYS|        hbond|  7|      6387224|      6387225|      6387226|         eva|ENSG00000136238|7_6387226_C_G|EFO_0000508|Inborn genetic di...|  7|        6387226|\n",
      "|        GDP|CHEMBL384759|ENSG00000136238|       2h7v|   28|    A|    PHE|      pistack|  7|      6387260|      6387261|      6387262| eva_somatic|ENSG00000136238|7_6387261_C_A|EFO_0000389|Malignant melanom...|  7|        6387261|\n",
      "|        GDP|CHEMBL384759|ENSG00000136238|       2h7v|   28|    A|    PHE|      pistack|  7|      6387260|      6387261|      6387262| eva_somatic|ENSG00000136238|7_6387262_C_T|EFO_1001927|Squamous cell car...|  7|        6387262|\n",
      "|        GDP|CHEMBL384759|ENSG00000136238|       2h7v|   28|    A|    PHE|      pistack|  7|      6387260|      6387261|      6387262| eva_somatic|ENSG00000136238|7_6387261_C_T|EFO_0003859|Malignant neoplas...|  7|        6387261|\n",
      "+-----------+------------+---------------+-----------+-----+-----+-------+-------------+---+-------------+-------------+-------------+------------+---------------+-------------+-----------+--------------------+---+---------------+\n",
      "only showing top 20 rows\n",
      "\n"
     ]
    }
   ],
   "source": [
    "# COMPOUND NAME\n",
    "disease_ass_comp_name = (\n",
    "    molecules_inchikey_join\n",
    "    .join(res_with_disease, on='pdbCompound')\n",
    ")"
   ]
  },
  {
   "cell_type": "code",
   "execution_count": 44,
   "metadata": {},
   "outputs": [
    {
     "name": "stderr",
     "output_type": "stream",
     "text": [
      "ERROR:root:KeyboardInterrupt while sending command.>               (8 + 3) / 11]\n",
      "Traceback (most recent call last):\n",
      "  File \"/Users/marinegirardey/miniforge3/envs/plip_env/lib/python3.8/site-packages/py4j/java_gateway.py\", line 1038, in send_command\n",
      "    response = connection.send_command(command)\n",
      "  File \"/Users/marinegirardey/miniforge3/envs/plip_env/lib/python3.8/site-packages/py4j/clientserver.py\", line 475, in send_command\n",
      "    answer = smart_decode(self.stream.readline()[:-1])\n",
      "  File \"/Users/marinegirardey/miniforge3/envs/plip_env/lib/python3.8/socket.py\", line 669, in readinto\n",
      "    return self._sock.recv_into(b)\n",
      "KeyboardInterrupt\n"
     ]
    },
    {
     "ename": "KeyboardInterrupt",
     "evalue": "",
     "output_type": "error",
     "traceback": [
      "\u001b[0;31m---------------------------------------------------------------------------\u001b[0m",
      "\u001b[0;31mKeyboardInterrupt\u001b[0m                         Traceback (most recent call last)",
      "\u001b[1;32m/Users/marinegirardey/Documents/OpenTargetInternship/scripts/diseases_association.ipynb Cell 14'\u001b[0m in \u001b[0;36m<module>\u001b[0;34m\u001b[0m\n\u001b[0;32m----> <a href='vscode-notebook-cell:/Users/marinegirardey/Documents/OpenTargetInternship/scripts/diseases_association.ipynb#ch0000016?line=0'>1</a>\u001b[0m disease_ass_comp_name\u001b[39m.\u001b[39;49mshow(\u001b[39m2\u001b[39;49m, \u001b[39mTrue\u001b[39;49;00m, \u001b[39mTrue\u001b[39;49;00m)\n",
      "File \u001b[0;32m~/miniforge3/envs/plip_env/lib/python3.8/site-packages/pyspark/sql/dataframe.py:494\u001b[0m, in \u001b[0;36mDataFrame.show\u001b[0;34m(self, n, truncate, vertical)\u001b[0m\n\u001b[1;32m    <a href='file:///Users/marinegirardey/miniforge3/envs/plip_env/lib/python3.8/site-packages/pyspark/sql/dataframe.py?line=490'>491</a>\u001b[0m     \u001b[39mraise\u001b[39;00m \u001b[39mTypeError\u001b[39;00m(\u001b[39m\"\u001b[39m\u001b[39mParameter \u001b[39m\u001b[39m'\u001b[39m\u001b[39mvertical\u001b[39m\u001b[39m'\u001b[39m\u001b[39m must be a bool\u001b[39m\u001b[39m\"\u001b[39m)\n\u001b[1;32m    <a href='file:///Users/marinegirardey/miniforge3/envs/plip_env/lib/python3.8/site-packages/pyspark/sql/dataframe.py?line=492'>493</a>\u001b[0m \u001b[39mif\u001b[39;00m \u001b[39misinstance\u001b[39m(truncate, \u001b[39mbool\u001b[39m) \u001b[39mand\u001b[39;00m truncate:\n\u001b[0;32m--> <a href='file:///Users/marinegirardey/miniforge3/envs/plip_env/lib/python3.8/site-packages/pyspark/sql/dataframe.py?line=493'>494</a>\u001b[0m     \u001b[39mprint\u001b[39m(\u001b[39mself\u001b[39;49m\u001b[39m.\u001b[39;49m_jdf\u001b[39m.\u001b[39;49mshowString(n, \u001b[39m20\u001b[39;49m, vertical))\n\u001b[1;32m    <a href='file:///Users/marinegirardey/miniforge3/envs/plip_env/lib/python3.8/site-packages/pyspark/sql/dataframe.py?line=494'>495</a>\u001b[0m \u001b[39melse\u001b[39;00m:\n\u001b[1;32m    <a href='file:///Users/marinegirardey/miniforge3/envs/plip_env/lib/python3.8/site-packages/pyspark/sql/dataframe.py?line=495'>496</a>\u001b[0m     \u001b[39mtry\u001b[39;00m:\n",
      "File \u001b[0;32m~/miniforge3/envs/plip_env/lib/python3.8/site-packages/py4j/java_gateway.py:1320\u001b[0m, in \u001b[0;36mJavaMember.__call__\u001b[0;34m(self, *args)\u001b[0m\n\u001b[1;32m   <a href='file:///Users/marinegirardey/miniforge3/envs/plip_env/lib/python3.8/site-packages/py4j/java_gateway.py?line=1312'>1313</a>\u001b[0m args_command, temp_args \u001b[39m=\u001b[39m \u001b[39mself\u001b[39m\u001b[39m.\u001b[39m_build_args(\u001b[39m*\u001b[39margs)\n\u001b[1;32m   <a href='file:///Users/marinegirardey/miniforge3/envs/plip_env/lib/python3.8/site-packages/py4j/java_gateway.py?line=1314'>1315</a>\u001b[0m command \u001b[39m=\u001b[39m proto\u001b[39m.\u001b[39mCALL_COMMAND_NAME \u001b[39m+\u001b[39m\\\n\u001b[1;32m   <a href='file:///Users/marinegirardey/miniforge3/envs/plip_env/lib/python3.8/site-packages/py4j/java_gateway.py?line=1315'>1316</a>\u001b[0m     \u001b[39mself\u001b[39m\u001b[39m.\u001b[39mcommand_header \u001b[39m+\u001b[39m\\\n\u001b[1;32m   <a href='file:///Users/marinegirardey/miniforge3/envs/plip_env/lib/python3.8/site-packages/py4j/java_gateway.py?line=1316'>1317</a>\u001b[0m     args_command \u001b[39m+\u001b[39m\\\n\u001b[1;32m   <a href='file:///Users/marinegirardey/miniforge3/envs/plip_env/lib/python3.8/site-packages/py4j/java_gateway.py?line=1317'>1318</a>\u001b[0m     proto\u001b[39m.\u001b[39mEND_COMMAND_PART\n\u001b[0;32m-> <a href='file:///Users/marinegirardey/miniforge3/envs/plip_env/lib/python3.8/site-packages/py4j/java_gateway.py?line=1319'>1320</a>\u001b[0m answer \u001b[39m=\u001b[39m \u001b[39mself\u001b[39;49m\u001b[39m.\u001b[39;49mgateway_client\u001b[39m.\u001b[39;49msend_command(command)\n\u001b[1;32m   <a href='file:///Users/marinegirardey/miniforge3/envs/plip_env/lib/python3.8/site-packages/py4j/java_gateway.py?line=1320'>1321</a>\u001b[0m return_value \u001b[39m=\u001b[39m get_return_value(\n\u001b[1;32m   <a href='file:///Users/marinegirardey/miniforge3/envs/plip_env/lib/python3.8/site-packages/py4j/java_gateway.py?line=1321'>1322</a>\u001b[0m     answer, \u001b[39mself\u001b[39m\u001b[39m.\u001b[39mgateway_client, \u001b[39mself\u001b[39m\u001b[39m.\u001b[39mtarget_id, \u001b[39mself\u001b[39m\u001b[39m.\u001b[39mname)\n\u001b[1;32m   <a href='file:///Users/marinegirardey/miniforge3/envs/plip_env/lib/python3.8/site-packages/py4j/java_gateway.py?line=1323'>1324</a>\u001b[0m \u001b[39mfor\u001b[39;00m temp_arg \u001b[39min\u001b[39;00m temp_args:\n",
      "File \u001b[0;32m~/miniforge3/envs/plip_env/lib/python3.8/site-packages/py4j/java_gateway.py:1038\u001b[0m, in \u001b[0;36mGatewayClient.send_command\u001b[0;34m(self, command, retry, binary)\u001b[0m\n\u001b[1;32m   <a href='file:///Users/marinegirardey/miniforge3/envs/plip_env/lib/python3.8/site-packages/py4j/java_gateway.py?line=1035'>1036</a>\u001b[0m connection \u001b[39m=\u001b[39m \u001b[39mself\u001b[39m\u001b[39m.\u001b[39m_get_connection()\n\u001b[1;32m   <a href='file:///Users/marinegirardey/miniforge3/envs/plip_env/lib/python3.8/site-packages/py4j/java_gateway.py?line=1036'>1037</a>\u001b[0m \u001b[39mtry\u001b[39;00m:\n\u001b[0;32m-> <a href='file:///Users/marinegirardey/miniforge3/envs/plip_env/lib/python3.8/site-packages/py4j/java_gateway.py?line=1037'>1038</a>\u001b[0m     response \u001b[39m=\u001b[39m connection\u001b[39m.\u001b[39;49msend_command(command)\n\u001b[1;32m   <a href='file:///Users/marinegirardey/miniforge3/envs/plip_env/lib/python3.8/site-packages/py4j/java_gateway.py?line=1038'>1039</a>\u001b[0m     \u001b[39mif\u001b[39;00m binary:\n\u001b[1;32m   <a href='file:///Users/marinegirardey/miniforge3/envs/plip_env/lib/python3.8/site-packages/py4j/java_gateway.py?line=1039'>1040</a>\u001b[0m         \u001b[39mreturn\u001b[39;00m response, \u001b[39mself\u001b[39m\u001b[39m.\u001b[39m_create_connection_guard(connection)\n",
      "File \u001b[0;32m~/miniforge3/envs/plip_env/lib/python3.8/site-packages/py4j/clientserver.py:475\u001b[0m, in \u001b[0;36mClientServerConnection.send_command\u001b[0;34m(self, command)\u001b[0m\n\u001b[1;32m    <a href='file:///Users/marinegirardey/miniforge3/envs/plip_env/lib/python3.8/site-packages/py4j/clientserver.py?line=472'>473</a>\u001b[0m \u001b[39mtry\u001b[39;00m:\n\u001b[1;32m    <a href='file:///Users/marinegirardey/miniforge3/envs/plip_env/lib/python3.8/site-packages/py4j/clientserver.py?line=473'>474</a>\u001b[0m     \u001b[39mwhile\u001b[39;00m \u001b[39mTrue\u001b[39;00m:\n\u001b[0;32m--> <a href='file:///Users/marinegirardey/miniforge3/envs/plip_env/lib/python3.8/site-packages/py4j/clientserver.py?line=474'>475</a>\u001b[0m         answer \u001b[39m=\u001b[39m smart_decode(\u001b[39mself\u001b[39;49m\u001b[39m.\u001b[39;49mstream\u001b[39m.\u001b[39;49mreadline()[:\u001b[39m-\u001b[39m\u001b[39m1\u001b[39m])\n\u001b[1;32m    <a href='file:///Users/marinegirardey/miniforge3/envs/plip_env/lib/python3.8/site-packages/py4j/clientserver.py?line=475'>476</a>\u001b[0m         logger\u001b[39m.\u001b[39mdebug(\u001b[39m\"\u001b[39m\u001b[39mAnswer received: \u001b[39m\u001b[39m{0}\u001b[39;00m\u001b[39m\"\u001b[39m\u001b[39m.\u001b[39mformat(answer))\n\u001b[1;32m    <a href='file:///Users/marinegirardey/miniforge3/envs/plip_env/lib/python3.8/site-packages/py4j/clientserver.py?line=476'>477</a>\u001b[0m         \u001b[39m# Happens when a the other end is dead. There might be an empty\u001b[39;00m\n\u001b[1;32m    <a href='file:///Users/marinegirardey/miniforge3/envs/plip_env/lib/python3.8/site-packages/py4j/clientserver.py?line=477'>478</a>\u001b[0m         \u001b[39m# answer before the socket raises an error.\u001b[39;00m\n",
      "File \u001b[0;32m~/miniforge3/envs/plip_env/lib/python3.8/socket.py:669\u001b[0m, in \u001b[0;36mSocketIO.readinto\u001b[0;34m(self, b)\u001b[0m\n\u001b[1;32m    <a href='file:///Users/marinegirardey/miniforge3/envs/plip_env/lib/python3.8/socket.py?line=666'>667</a>\u001b[0m \u001b[39mwhile\u001b[39;00m \u001b[39mTrue\u001b[39;00m:\n\u001b[1;32m    <a href='file:///Users/marinegirardey/miniforge3/envs/plip_env/lib/python3.8/socket.py?line=667'>668</a>\u001b[0m     \u001b[39mtry\u001b[39;00m:\n\u001b[0;32m--> <a href='file:///Users/marinegirardey/miniforge3/envs/plip_env/lib/python3.8/socket.py?line=668'>669</a>\u001b[0m         \u001b[39mreturn\u001b[39;00m \u001b[39mself\u001b[39;49m\u001b[39m.\u001b[39;49m_sock\u001b[39m.\u001b[39;49mrecv_into(b)\n\u001b[1;32m    <a href='file:///Users/marinegirardey/miniforge3/envs/plip_env/lib/python3.8/socket.py?line=669'>670</a>\u001b[0m     \u001b[39mexcept\u001b[39;00m timeout:\n\u001b[1;32m    <a href='file:///Users/marinegirardey/miniforge3/envs/plip_env/lib/python3.8/socket.py?line=670'>671</a>\u001b[0m         \u001b[39mself\u001b[39m\u001b[39m.\u001b[39m_timeout_occurred \u001b[39m=\u001b[39m \u001b[39mTrue\u001b[39;00m\n",
      "\u001b[0;31mKeyboardInterrupt\u001b[0m: "
     ]
    }
   ],
   "source": [
    "disease_ass_comp_name.show(2, True, True)"
   ]
  },
  {
   "cell_type": "code",
   "execution_count": null,
   "metadata": {},
   "outputs": [],
   "source": []
  }
 ],
 "metadata": {
  "interpreter": {
   "hash": "e967bce37a4bacdfaaf88937c5931e59374b6695986b980bb0c938b9d2bb9028"
  },
  "kernelspec": {
   "display_name": "Python 3.8.12 ('plip_env')",
   "language": "python",
   "name": "python3"
  },
  "language_info": {
   "codemirror_mode": {
    "name": "ipython",
    "version": 3
   },
   "file_extension": ".py",
   "mimetype": "text/x-python",
   "name": "python",
   "nbconvert_exporter": "python",
   "pygments_lexer": "ipython3",
   "version": "3.8.12"
  },
  "orig_nbformat": 4
 },
 "nbformat": 4,
 "nbformat_minor": 2
}
