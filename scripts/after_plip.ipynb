{
 "cells": [
  {
   "cell_type": "code",
   "execution_count": 15,
   "metadata": {},
   "outputs": [],
   "source": [
    "import pyspark.sql.functions as f\n",
    "from pyspark.sql import SparkSession"
   ]
  },
  {
   "cell_type": "code",
   "execution_count": 16,
   "metadata": {},
   "outputs": [],
   "source": [
    "spark = SparkSession.builder.getOrCreate()"
   ]
  },
  {
   "cell_type": "code",
   "execution_count": 28,
   "metadata": {},
   "outputs": [
    {
     "name": "stdout",
     "output_type": "stream",
     "text": [
      "+--------------+----------------------------+\n",
      "|pdbStructureId|chains                      |\n",
      "+--------------+----------------------------+\n",
      "|1d5m          |{A, ENSG00000227993, P01903}|\n",
      "|1d5m          |{A, ENSG00000277263, P01903}|\n",
      "|1d5m          |{B, ENSG00000196126, P01911}|\n",
      "|1d5m          |{A, ENSG00000204287, P01903}|\n",
      "|1e9b          |{A, ENSG00000168393, P23919}|\n",
      "|1ere          |{F, ENSG00000091831, P03372}|\n",
      "|1ere          |{C, ENSG00000091831, P03372}|\n",
      "|1ere          |{D, ENSG00000091831, P03372}|\n",
      "|1ere          |{A, ENSG00000091831, P03372}|\n",
      "|1ere          |{E, ENSG00000091831, P03372}|\n",
      "|1ere          |{B, ENSG00000091831, P03372}|\n",
      "|1j3z          |{E, ENSG00000206172, P69905}|\n",
      "|1j3z          |{C, ENSG00000188536, P69905}|\n",
      "|1j3z          |{C, ENSG00000206172, P69905}|\n",
      "|1j3z          |{G, ENSG00000188536, P69905}|\n",
      "|1j3z          |{A, ENSG00000206172, P69905}|\n",
      "|1j3z          |{B, ENSG00000244734, P68871}|\n",
      "|1j3z          |{G, ENSG00000206172, P69905}|\n",
      "|1j3z          |{D, ENSG00000244734, P68871}|\n",
      "|1j3z          |{E, ENSG00000188536, P69905}|\n",
      "+--------------+----------------------------+\n",
      "only showing top 20 rows\n",
      "\n"
     ]
    }
   ],
   "source": [
    "# Dataset witht all the details, produced earlier:\n",
    "plip_json_input = (\n",
    "\n",
    "    spark.read.json(\"gene_mapped_structures.json\")\n",
    "\n",
    "    .select(\"pdbStructureId\", \"chains\", f.explode(\"compoundIds\").alias(\"pdbCompoundId\"))\n",
    "\n",
    "    .select(\"pdbStructureId\", f.explode(\"chains\").alias(\"chains\"))\n",
    "\n",
    "    )\n",
    "\n",
    "plip_json_input.show(truncate=False)"
   ]
  },
  {
   "cell_type": "code",
   "execution_count": 29,
   "metadata": {},
   "outputs": [
    {
     "name": "stdout",
     "output_type": "stream",
     "text": [
      "+--------------+-------+---------------+---------+\n",
      "|pdbStructureId|chainId|         geneId|uniprotId|\n",
      "+--------------+-------+---------------+---------+\n",
      "|          1d5m|      A|ENSG00000227993|   P01903|\n",
      "|          1d5m|      A|ENSG00000277263|   P01903|\n",
      "|          1d5m|      B|ENSG00000196126|   P01911|\n",
      "|          1d5m|      A|ENSG00000204287|   P01903|\n",
      "|          1e9b|      A|ENSG00000168393|   P23919|\n",
      "|          1ere|      F|ENSG00000091831|   P03372|\n",
      "|          1ere|      C|ENSG00000091831|   P03372|\n",
      "|          1ere|      D|ENSG00000091831|   P03372|\n",
      "|          1ere|      A|ENSG00000091831|   P03372|\n",
      "|          1ere|      E|ENSG00000091831|   P03372|\n",
      "|          1ere|      B|ENSG00000091831|   P03372|\n",
      "|          1j3z|      E|ENSG00000206172|   P69905|\n",
      "|          1j3z|      C|ENSG00000188536|   P69905|\n",
      "|          1j3z|      C|ENSG00000206172|   P69905|\n",
      "|          1j3z|      G|ENSG00000188536|   P69905|\n",
      "|          1j3z|      A|ENSG00000206172|   P69905|\n",
      "|          1j3z|      B|ENSG00000244734|   P68871|\n",
      "|          1j3z|      G|ENSG00000206172|   P69905|\n",
      "|          1j3z|      D|ENSG00000244734|   P68871|\n",
      "|          1j3z|      E|ENSG00000188536|   P69905|\n",
      "+--------------+-------+---------------+---------+\n",
      "only showing top 20 rows\n",
      "\n"
     ]
    }
   ],
   "source": [
    "plip_json_input_v2 = (plip_json_input\n",
    "                      \n",
    "                      .withColumn(\"chainId\", plip_json_input[\"chains.chainId\"])\n",
    "                      \n",
    "                      .withColumn(\"geneId\", plip_json_input[\"chains.geneId\"])\n",
    "                      \n",
    "                      .withColumn(\"uniprotId\", plip_json_input[\"chains.uniprot\"])\n",
    "\n",
    "                      .drop(\"chains\")\n",
    "                                            \n",
    "                      )\n",
    "\n",
    "plip_json_input_v2.show()"
   ]
  },
  {
   "cell_type": "code",
   "execution_count": 31,
   "metadata": {},
   "outputs": [
    {
     "name": "stdout",
     "output_type": "stream",
     "text": [
      "+--------------+-------------+-------------------+-------------------+-----------------+-------+\n",
      "|pdbStructureId|pdbCompoundId|   interaction_type|prot_residue_number|prot_residue_type|chainId|\n",
      "+--------------+-------------+-------------------+-------------------+-----------------+-------+\n",
      "|          1e9b|          ATM|         saltbridge|                 45|              ARG|      A|\n",
      "|          1e9b|          ATM|         saltbridge|                 97|              ARG|      A|\n",
      "|          1e9b|          ATM|              hbond|                157|              GLN|      A|\n",
      "|          1e9b|          ATM|              hbond|                 76|              ARG|      A|\n",
      "|          1e9b|          ATM|              hbond|                 76|              ARG|      A|\n",
      "|          1e9b|          ATM|              hbond|                151|              TYR|      A|\n",
      "|          1e9b|          ATM|            pistack|                 72|              PHE|      A|\n",
      "|          1e9b|          ATM|hydroph_interaction|                 42|              PHE|      A|\n",
      "|          1e9b|          ATM|hydroph_interaction|                105|              PHE|      A|\n",
      "|          1ere|          EST|              hbond|                394|              ARG|      A|\n",
      "|          1ere|          EST|              hbond|                353|              GLU|      A|\n",
      "|          1ere|          EST|            pistack|                404|              PHE|      A|\n",
      "|          1ere|          EST|hydroph_interaction|                350|              ALA|      A|\n",
      "|          1ere|          EST|hydroph_interaction|                387|              LEU|      A|\n",
      "|          1ere|          EST|hydroph_interaction|                391|              LEU|      A|\n",
      "|          1ere|          EST|hydroph_interaction|                424|              ILE|      A|\n",
      "|          1ere|          EST|hydroph_interaction|                525|              LEU|      A|\n",
      "|          1ere|          EST|              hbond|                394|              ARG|      B|\n",
      "|          1ere|          EST|              hbond|                524|              HIS|      B|\n",
      "|          1ere|          EST|              hbond|                353|              GLU|      B|\n",
      "+--------------+-------------+-------------------+-------------------+-----------------+-------+\n",
      "only showing top 20 rows\n",
      "\n"
     ]
    }
   ],
   "source": [
    "# Dataset witht all the details, produced earlier:\n",
    "plip_csv_output = (\n",
    "\n",
    "    spark.read.csv(\"output.csv\", header=True, sep=\",\")\n",
    "\n",
    "    .withColumnRenamed(\"pdb_structure_id\", \"pdbStructureId\")\n",
    "\n",
    "    .withColumnRenamed(\"compound_id\", \"pdbCompoundId\")\n",
    "    \n",
    "    .withColumnRenamed(\"prot_chain_id\", \"chainId\")\n",
    "\n",
    "    )\n",
    "\n",
    "plip_csv_output.show()"
   ]
  },
  {
   "cell_type": "code",
   "execution_count": 33,
   "metadata": {},
   "outputs": [
    {
     "name": "stdout",
     "output_type": "stream",
     "text": [
      "+--------------+-------+---------------+---------+-------------+-------------------+-----------------+---------------+\n",
      "|pdbStructureId|chainId|         geneId|uniprotId|pdbCompoundId|    interactionType|protResidueNumber|protResidueType|\n",
      "+--------------+-------+---------------+---------+-------------+-------------------+-----------------+---------------+\n",
      "|          1e9b|      A|ENSG00000168393|   P23919|          ATM|         saltbridge|               45|            ARG|\n",
      "|          1e9b|      A|ENSG00000168393|   P23919|          ATM|         saltbridge|               97|            ARG|\n",
      "|          1e9b|      A|ENSG00000168393|   P23919|          ATM|              hbond|              157|            GLN|\n",
      "|          1e9b|      A|ENSG00000168393|   P23919|          ATM|              hbond|               76|            ARG|\n",
      "|          1e9b|      A|ENSG00000168393|   P23919|          ATM|              hbond|               76|            ARG|\n",
      "|          1e9b|      A|ENSG00000168393|   P23919|          ATM|              hbond|              151|            TYR|\n",
      "|          1e9b|      A|ENSG00000168393|   P23919|          ATM|            pistack|               72|            PHE|\n",
      "|          1e9b|      A|ENSG00000168393|   P23919|          ATM|hydroph_interaction|               42|            PHE|\n",
      "|          1e9b|      A|ENSG00000168393|   P23919|          ATM|hydroph_interaction|              105|            PHE|\n",
      "|          1ere|      A|ENSG00000091831|   P03372|          EST|              hbond|              394|            ARG|\n",
      "|          1ere|      A|ENSG00000091831|   P03372|          EST|              hbond|              353|            GLU|\n",
      "|          1ere|      A|ENSG00000091831|   P03372|          EST|            pistack|              404|            PHE|\n",
      "|          1ere|      A|ENSG00000091831|   P03372|          EST|hydroph_interaction|              350|            ALA|\n",
      "|          1ere|      A|ENSG00000091831|   P03372|          EST|hydroph_interaction|              387|            LEU|\n",
      "|          1ere|      A|ENSG00000091831|   P03372|          EST|hydroph_interaction|              391|            LEU|\n",
      "|          1ere|      A|ENSG00000091831|   P03372|          EST|hydroph_interaction|              424|            ILE|\n",
      "|          1ere|      A|ENSG00000091831|   P03372|          EST|hydroph_interaction|              525|            LEU|\n",
      "|          1ere|      B|ENSG00000091831|   P03372|          EST|              hbond|              394|            ARG|\n",
      "|          1ere|      B|ENSG00000091831|   P03372|          EST|              hbond|              524|            HIS|\n",
      "|          1ere|      B|ENSG00000091831|   P03372|          EST|              hbond|              353|            GLU|\n",
      "+--------------+-------+---------------+---------+-------------+-------------------+-----------------+---------------+\n",
      "only showing top 20 rows\n",
      "\n"
     ]
    }
   ],
   "source": [
    "plip_output_target_id = (\n",
    "\n",
    "    plip_json_input_v2\n",
    "\n",
    "    .join(plip_csv_output, on=[\"pdbStructureId\", \"chainId\"])\n",
    "    \n",
    "    .withColumnRenamed(\"interaction_type\", \"interactionType\")\n",
    "\n",
    "    .withColumnRenamed(\"prot_residue_number\", \"protResidueNumber\")\n",
    "\n",
    "    .withColumnRenamed(\"prot_residue_type\", \"protResidueType\")\n",
    "\n",
    ")\n",
    "\n",
    "plip_output_target_id.show()"
   ]
  },
  {
   "cell_type": "code",
   "execution_count": null,
   "metadata": {},
   "outputs": [],
   "source": []
  }
 ],
 "metadata": {
  "interpreter": {
   "hash": "e967bce37a4bacdfaaf88937c5931e59374b6695986b980bb0c938b9d2bb9028"
  },
  "kernelspec": {
   "display_name": "Python 3.8.12 ('plip_env')",
   "language": "python",
   "name": "python3"
  },
  "language_info": {
   "codemirror_mode": {
    "name": "ipython",
    "version": 3
   },
   "file_extension": ".py",
   "mimetype": "text/x-python",
   "name": "python",
   "nbconvert_exporter": "python",
   "pygments_lexer": "ipython3",
   "version": "3.8.12"
  },
  "orig_nbformat": 4
 },
 "nbformat": 4,
 "nbformat_minor": 2
}
