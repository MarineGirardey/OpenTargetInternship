{
 "cells": [
  {
   "cell_type": "markdown",
   "metadata": {
    "collapsed": false
   },
   "source": [
    "# Unichem and Inchikeys mapping of molecules from OT parquet files comparison"
   ]
  },
  {
   "cell_type": "code",
   "execution_count": 2,
   "metadata": {
    "collapsed": true
   },
   "outputs": [],
   "source": [
    "import pyspark.sql.functions as f\n",
    "from pyspark.sql import SparkSession"
   ]
  },
  {
   "cell_type": "markdown",
   "metadata": {},
   "source": [
    "molecule file here (Drug): http://ftp.ebi.ac.uk/pub/databases/opentargets/platform/21.11/output/etl/parquet/molecule/*\n",
    "\n",
    "inchikey file : https://ftp.ebi.ac.uk/pub/databases/msd/pdbechem_v2/components_inchikeys.csv\n",
    "\n",
    "unichem file : https://ftp.ebi.ac.uk/pub/databases/chembl/UniChem/data/wholeSourceMapping/src_id1/src1src3.txt.gz\n",
    "\n",
    "ensembl file : https://ftp.ebi.ac.uk/pub/databases/msd/sifts/csv/pdb_chain_ensembl.csv"
   ]
  },
  {
   "cell_type": "code",
   "execution_count": 11,
   "metadata": {
    "collapsed": false,
    "pycharm": {
     "name": "#%%\n"
    }
   },
   "outputs": [],
   "source": [
    "molecule = 'input_files/molecule/'\n",
    "unichem = 'input_files/unichem/src1src3.txt'\n",
    "ensembl = 'input_files/ensembl/pdb_chain_ensembl.csv'\n",
    "inchikey = 'input_files/inchikeys/components_inchikeys.csv'"
   ]
  },
  {
   "cell_type": "code",
   "execution_count": 4,
   "metadata": {
    "collapsed": false,
    "pycharm": {
     "name": "#%%\n"
    }
   },
   "outputs": [
    {
     "name": "stderr",
     "output_type": "stream",
     "text": [
      "22/05/04 12:03:26 WARN Utils: Your hostname, Marines-MacBook-Air.local resolves to a loopback address: 127.0.0.1; using 172.23.42.25 instead (on interface en0)\n",
      "22/05/04 12:03:26 WARN Utils: Set SPARK_LOCAL_IP if you need to bind to another address\n",
      "WARNING: An illegal reflective access operation has occurred\n",
      "WARNING: Illegal reflective access by org.apache.spark.unsafe.Platform (file:/Users/marinegirardey/miniforge3/envs/plip_env/lib/python3.8/site-packages/pyspark/jars/spark-unsafe_2.12-3.2.1.jar) to constructor java.nio.DirectByteBuffer(long,int)\n",
      "WARNING: Please consider reporting this to the maintainers of org.apache.spark.unsafe.Platform\n",
      "WARNING: Use --illegal-access=warn to enable warnings of further illegal reflective access operations\n",
      "WARNING: All illegal access operations will be denied in a future release\n",
      "Using Spark's default log4j profile: org/apache/spark/log4j-defaults.properties\n",
      "Setting default log level to \"WARN\".\n",
      "To adjust logging level use sc.setLogLevel(newLevel). For SparkR, use setLogLevel(newLevel).\n",
      "22/05/04 12:03:28 WARN NativeCodeLoader: Unable to load native-hadoop library for your platform... using builtin-java classes where applicable\n",
      "22/05/04 12:03:30 WARN Utils: Service 'SparkUI' could not bind on port 4040. Attempting port 4041.\n",
      "22/05/04 12:03:30 WARN Utils: Service 'SparkUI' could not bind on port 4041. Attempting port 4042.\n",
      "22/05/04 12:03:30 WARN Utils: Service 'SparkUI' could not bind on port 4042. Attempting port 4043.\n",
      "22/05/04 12:03:30 WARN Utils: Service 'SparkUI' could not bind on port 4043. Attempting port 4044.\n"
     ]
    }
   ],
   "source": [
    "spark = SparkSession.builder.getOrCreate()"
   ]
  },
  {
   "cell_type": "markdown",
   "metadata": {},
   "source": [
    "### Molecule from parquet dataset"
   ]
  },
  {
   "cell_type": "code",
   "execution_count": 13,
   "metadata": {
    "collapsed": false,
    "pycharm": {
     "name": "#%%\n"
    }
   },
   "outputs": [
    {
     "name": "stderr",
     "output_type": "stream",
     "text": [
      "                                                                                \r"
     ]
    },
    {
     "name": "stdout",
     "output_type": "stream",
     "text": [
      "+--------------------+-------------+--------------------+--------------------+--------------------+\n",
      "|            InChIKey|    chembl_id|                name|       linkedTargets|      linkedDiseases|\n",
      "+--------------------+-------------+--------------------+--------------------+--------------------+\n",
      "|GTTBEUCJPZQMDZ-UH...|CHEMBL1079742|ERLOTINIB HYDROCH...|{[ENSG00000146648...|{[MONDO_0044926, ...|\n",
      "|ITPDYQOUSLNIHG-UH...|CHEMBL1083993|AMIODARONE HYDROC...|{[ENSG00000055118...|{[EFO_0000275, EF...|\n",
      "+--------------------+-------------+--------------------+--------------------+--------------------+\n",
      "only showing top 2 rows\n",
      "\n"
     ]
    },
    {
     "name": "stderr",
     "output_type": "stream",
     "text": [
      "                                                                                \r"
     ]
    },
    {
     "data": {
      "text/plain": [
       "12594"
      ]
     },
     "execution_count": 13,
     "metadata": {},
     "output_type": "execute_result"
    }
   ],
   "source": [
    "molecule_df = (\n",
    "    spark.read\n",
    "    .parquet(molecule)\n",
    "    .select(f.col('inchiKey').alias('InChIKey'), f.col('id').alias('chembl_id'), 'name', 'linkedTargets', 'linkedDiseases')\n",
    ")\n",
    "molecule_df.show(2)\n",
    "molecule_df.count()"
   ]
  },
  {
   "cell_type": "markdown",
   "metadata": {},
   "source": [
    "### Unichem dataset"
   ]
  },
  {
   "cell_type": "code",
   "execution_count": 15,
   "metadata": {
    "collapsed": false,
    "pycharm": {
     "name": "#%%\n"
    }
   },
   "outputs": [
    {
     "name": "stderr",
     "output_type": "stream",
     "text": [
      "                                                                                \r"
     ]
    },
    {
     "name": "stdout",
     "output_type": "stream",
     "text": [
      "+-------------+---------------+\n",
      "|    chembl_id|pdb_compound_id|\n",
      "+-------------+---------------+\n",
      "| CHEMBL313405|            ABZ|\n",
      "|CHEMBL1399676|            MQN|\n",
      "+-------------+---------------+\n",
      "only showing top 2 rows\n",
      "\n"
     ]
    },
    {
     "name": "stderr",
     "output_type": "stream",
     "text": [
      "                                                                                \r"
     ]
    },
    {
     "data": {
      "text/plain": [
       "14452"
      ]
     },
     "execution_count": 15,
     "metadata": {},
     "output_type": "execute_result"
    }
   ],
   "source": [
    "unichem_df = (\n",
    "    spark.read.csv(unichem, sep=r'\\t', header=True)\n",
    "    .withColumnRenamed('From src:\\'1\\'', 'chembl_id')\n",
    "    .withColumnRenamed('To src:\\'3\\'', 'pdb_compound_id')\n",
    ")\n",
    "unichem_df.show(2)\n",
    "unichem_df.count()"
   ]
  },
  {
   "cell_type": "markdown",
   "metadata": {},
   "source": [
    "### Inchikey dataset"
   ]
  },
  {
   "cell_type": "code",
   "execution_count": 16,
   "metadata": {
    "collapsed": false,
    "pycharm": {
     "name": "#%%\n"
    }
   },
   "outputs": [
    {
     "name": "stderr",
     "output_type": "stream",
     "text": [
      "                                                                                \r"
     ]
    },
    {
     "name": "stdout",
     "output_type": "stream",
     "text": [
      "+------+---------------------------+\n",
      "|CCD_ID|InChIKey                   |\n",
      "+------+---------------------------+\n",
      "|000   |CXHHBNMLPJOKQD-UHFFFAOYSA-N|\n",
      "|001   |NBYCDVVSYOMFMS-VMPREFPWSA-N|\n",
      "+------+---------------------------+\n",
      "only showing top 2 rows\n",
      "\n"
     ]
    },
    {
     "name": "stderr",
     "output_type": "stream",
     "text": [
      "                                                                                \r"
     ]
    },
    {
     "data": {
      "text/plain": [
       "36500"
      ]
     },
     "execution_count": 16,
     "metadata": {},
     "output_type": "execute_result"
    }
   ],
   "source": [
    "inchikey_df = (\n",
    "    spark.read\n",
    "        .csv(inchikey, sep=',', header=True, comment='#')\n",
    ")\n",
    "inchikey_df.show(2, truncate=False)\n",
    "inchikey_df.count()"
   ]
  },
  {
   "cell_type": "markdown",
   "metadata": {},
   "source": [
    "### Join molecule and Inchikey"
   ]
  },
  {
   "cell_type": "code",
   "execution_count": 17,
   "metadata": {
    "collapsed": false,
    "pycharm": {
     "name": "#%%\n"
    }
   },
   "outputs": [
    {
     "name": "stderr",
     "output_type": "stream",
     "text": [
      "                                                                                \r"
     ]
    },
    {
     "name": "stdout",
     "output_type": "stream",
     "text": [
      "+--------------------+------------+--------------------+-------------+--------------+------+\n",
      "|            InChIKey|   chembl_id|                name|linkedTargets|linkedDiseases|CCD_ID|\n",
      "+--------------------+------------+--------------------+-------------+--------------+------+\n",
      "|SJWOFBVBNFLWLP-UH...|CHEMBL382127|(1-Phenylcyclopen...|         null|          null|   007|\n",
      "|OEVYDSSAPNIURZ-AE...|CHEMBL381806|        CHEMBL381806|         null|          null|   008|\n",
      "+--------------------+------------+--------------------+-------------+--------------+------+\n",
      "only showing top 2 rows\n",
      "\n"
     ]
    },
    {
     "name": "stderr",
     "output_type": "stream",
     "text": [
      "                                                                                \r"
     ]
    },
    {
     "data": {
      "text/plain": [
       "3752"
      ]
     },
     "execution_count": 17,
     "metadata": {},
     "output_type": "execute_result"
    }
   ],
   "source": [
    "inchikey_molecule_df = (molecule_df\n",
    "                       .join(inchikey_df, on='InChIKey')\n",
    "                       )\n",
    "inchikey_molecule_df.show(2)\n",
    "inchikey_molecule_df.count()"
   ]
  },
  {
   "cell_type": "markdown",
   "metadata": {},
   "source": [
    "### Join molecule and Unichem"
   ]
  },
  {
   "cell_type": "code",
   "execution_count": 18,
   "metadata": {
    "collapsed": false,
    "pycharm": {
     "name": "#%%\n"
    }
   },
   "outputs": [
    {
     "name": "stderr",
     "output_type": "stream",
     "text": [
      "                                                                                \r"
     ]
    },
    {
     "name": "stdout",
     "output_type": "stream",
     "text": [
      "+-------------+--------------------+--------------+--------------------+-------------------+---------------+\n",
      "|    chembl_id|            InChIKey|          name|       linkedTargets|     linkedDiseases|pdb_compound_id|\n",
      "+-------------+--------------------+--------------+--------------------+-------------------+---------------+\n",
      "| CHEMBL110458|LXBIFEVIBLOUGU-DP...|    MIGALASTAT|{[ENSG00000102393...|{[Orphanet_324], 1}|            DGJ|\n",
      "|CHEMBL1169388|RTHCYVBBDHJXIQ-IN...|(S)-Fluoxetine|                null|               null|            SFX|\n",
      "+-------------+--------------------+--------------+--------------------+-------------------+---------------+\n",
      "only showing top 2 rows\n",
      "\n"
     ]
    },
    {
     "name": "stderr",
     "output_type": "stream",
     "text": [
      "                                                                                \r"
     ]
    },
    {
     "data": {
      "text/plain": [
       "3657"
      ]
     },
     "execution_count": 18,
     "metadata": {},
     "output_type": "execute_result"
    }
   ],
   "source": [
    "unichem_molecule_df = (molecule_df\n",
    "                       .join(unichem_df, on='chembl_id')\n",
    "                       )\n",
    "unichem_molecule_df.show(2)\n",
    "unichem_molecule_df.count()"
   ]
  },
  {
   "cell_type": "markdown",
   "metadata": {},
   "source": [
    "### Mapping of Unichem and Inchikey together"
   ]
  },
  {
   "cell_type": "code",
   "execution_count": 19,
   "metadata": {
    "collapsed": false,
    "pycharm": {
     "name": "#%%\n"
    }
   },
   "outputs": [
    {
     "name": "stderr",
     "output_type": "stream",
     "text": [
      "                                                                                \r"
     ]
    },
    {
     "name": "stdout",
     "output_type": "stream",
     "text": [
      "+------------+--------------------+--------------+--------------------+--------------------+---------------+--------------------+--------------+--------------------+--------------------+------+\n",
      "|   chembl_id|            InChIKey|          name|       linkedTargets|      linkedDiseases|pdb_compound_id|            InChIKey|          name|       linkedTargets|      linkedDiseases|CCD_ID|\n",
      "+------------+--------------------+--------------+--------------------+--------------------+---------------+--------------------+--------------+--------------------+--------------------+------+\n",
      "|CHEMBL100109|UCQIHCRMWNRFNP-QY...|  CHEMBL100109|                null|                null|            DI2|UCQIHCRMWNRFNP-QY...|  CHEMBL100109|                null|                null|   DI2|\n",
      "|  CHEMBL1002|NDAUXUAQIAJITI-LB...|LEVOSALBUTAMOL|{[ENSG00000169252...|{[EFO_0000270, EF...|            68H|NDAUXUAQIAJITI-LB...|LEVOSALBUTAMOL|{[ENSG00000169252...|{[EFO_0000270, EF...|   68H|\n",
      "+------------+--------------------+--------------+--------------------+--------------------+---------------+--------------------+--------------+--------------------+--------------------+------+\n",
      "only showing top 2 rows\n",
      "\n"
     ]
    },
    {
     "name": "stderr",
     "output_type": "stream",
     "text": [
      "                                                                                \r"
     ]
    },
    {
     "data": {
      "text/plain": [
       "3806"
      ]
     },
     "execution_count": 19,
     "metadata": {},
     "output_type": "execute_result"
    }
   ],
   "source": [
    "out_join = (unichem_molecule_df\n",
    "            .join(inchikey_molecule_df, on='chembl_id', how='outer')\n",
    "            )\n",
    "out_join.show(2)\n",
    "out_join.count()"
   ]
  },
  {
   "cell_type": "markdown",
   "metadata": {},
   "source": [
    "Improvement: Better to use both"
   ]
  }
 ],
 "metadata": {
  "kernelspec": {
   "display_name": "Python 3",
   "language": "python",
   "name": "python3"
  },
  "language_info": {
   "codemirror_mode": {
    "name": "ipython",
    "version": 3
   },
   "file_extension": ".py",
   "mimetype": "text/x-python",
   "name": "python",
   "nbconvert_exporter": "python",
   "pygments_lexer": "ipython3",
   "version": "3.8.12"
  }
 },
 "nbformat": 4,
 "nbformat_minor": 0
}
