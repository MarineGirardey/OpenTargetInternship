{
 "cells": [
  {
   "cell_type": "markdown",
   "metadata": {},
   "source": [
    "# PLIP\n",
    "#### Let's try to use PLIP with DOB\n",
    "\n",
    "**Result table from the [#1892](https://github.com/opentargets/platform/issues/1892) ticket**\n",
    "\n",
    "|MOLECULE_CHEMBL_ID|MOLECULE_PDB_ID|        STRUCTURE_ID|\n",
    "|-------------------------|---------------------|--------------------|\n",
    "|      CHEMBL313405        |            ABZ                 | [1s9g, 6qbb]           |\n",
    "|      CHEMBL334167        |            SG2                 | [1kwr]                       |\n",
    "|      CHEMBL328910        |            DOB                | [1dod, 1doe, 1pbb]  |\n",
    "|        CHEMBL1364           |            UEG                | [4c5l, 4c5n, 5eb3...|\n",
    "|         CHEMBL614            |            PZA                 | [3r4x, 3r55, 5fpd... |\n",
    "|      CHEMBL295698        |            KLN                 | [2jjp, 2v0m]             |\n",
    "|        CHEMBL1427            |            HPA                | [1a9q, 1a9r, 1a9t...  |\n",
    "\n",
    "DOB is:\n",
    "|MOLECULE_CHEMBL_ID|MOLECULE_PDB_ID|        STRUCTURE_ID|\n",
    "|-------------------------|---------------------|--------------------|\n",
    "|      CHEMBL328910        |            DOB                | [1dod, 1doe, 1pbb]  |\n"
   ]
  },
  {
   "cell_type": "markdown",
   "metadata": {},
   "source": [
    "#### Let's import PLIP and it's packages"
   ]
  },
  {
   "cell_type": "code",
   "execution_count": 65,
   "metadata": {},
   "outputs": [],
   "source": [
    "from pathlib import Path\n",
    "import time\n",
    "import warnings\n",
    "\n",
    "warnings.filterwarnings(\"ignore\")\n",
    "\n",
    "import pandas as pd\n",
    "import nglview as nv\n",
    "import openbabel\n",
    "import numpy as np\n",
    "import matplotlib.pyplot as plt\n",
    "from matplotlib import colors\n",
    "from plip.structure.preparation import PDBComplex\n",
    "from plip.exchange.report import BindingSiteReport\n",
    "\n",
    "from opencadd.structure.core import Structure"
   ]
  },
  {
   "cell_type": "markdown",
   "metadata": {},
   "source": [
    "Small code just to find the molecules in interaction with the structure"
   ]
  },
  {
   "cell_type": "code",
   "execution_count": 66,
   "metadata": {},
   "outputs": [
    {
     "name": "stdout",
     "output_type": "stream",
     "text": [
      "DOB:X:396\n"
     ]
    }
   ],
   "source": [
    "struct_of_interest = '1DOD'\n",
    "molecule_of_interest = 'DOB'\n",
    "\n",
    "path = '/Users/marinegirardey/Documents/opentarget_internship/OpenTargetInternship/structure_files/' + struct_of_interest +'.pdb'\n",
    "structure = PDBComplex()\n",
    "structure.load_pdb(path) # Load the PDB file into PLIP class\n",
    "\n",
    "mol_interacting_list = str(structure).split('\\n')\n",
    "mol_interacting_list.pop(0)\n",
    "\n",
    "for molecule in mol_interacting_list:\n",
    "    molecule_name = molecule.split(':')[0]\n",
    "    if molecule_name == molecule_of_interest:\n",
    "        my_bs_id = molecule # Shows name of structure and ligand binding sites\n",
    "        print(my_bs_id) # Unique binding site identifier (HetID:Chain:Position)\n",
    "\n",
    "structure.analyze()\n",
    "my_interactions = structure.interaction_sets[my_bs_id] # Contains all interaction data"
   ]
  },
  {
   "cell_type": "code",
   "execution_count": 69,
   "metadata": {},
   "outputs": [],
   "source": [
    "pdb_file = Structure.from_pdbid(struct_of_interest)"
   ]
  },
  {
   "cell_type": "code",
   "execution_count": 70,
   "metadata": {},
   "outputs": [],
   "source": [
    "pdb_file.write(path)"
   ]
  },
  {
   "cell_type": "code",
   "execution_count": 74,
   "metadata": {},
   "outputs": [],
   "source": [
    "ngl_viewer = nv.show_pdbid(struct_of_interest)\n",
    "# Add the ligands\n",
    "ngl_viewer.add_representation(repr_type=\"ball+stick\", selection=\"hetero and not water\")\n",
    "# Center view on binding site\n",
    "ngl_viewer.center(\"ligand\")"
   ]
  },
  {
   "cell_type": "code",
   "execution_count": 81,
   "metadata": {},
   "outputs": [
    {
     "data": {
      "application/vnd.jupyter.widget-view+json": {
       "model_id": "72eb1853b10548aeba4a463d317eb314",
       "version_major": 2,
       "version_minor": 0
      },
      "text/plain": [
       "NGLWidget(n_components=1)"
      ]
     },
     "metadata": {},
     "output_type": "display_data"
    }
   ],
   "source": [
    "ngl_viewer"
   ]
  },
  {
   "cell_type": "markdown",
   "metadata": {},
   "source": [
    "Function found on [this site](https://projects.volkamerlab.org/teachopencadd/talktorials/T016_protein_ligand_interactions.html) creating a dictionaries with interctions of structure with each molecule "
   ]
  },
  {
   "cell_type": "code",
   "execution_count": 83,
   "metadata": {},
   "outputs": [],
   "source": [
    "def retrieve_plip_interactions(pdb_file):\n",
    "    \"\"\"\n",
    "    Retrieves the interactions from PLIP.\n",
    "\n",
    "    Parameters\n",
    "    ----------\n",
    "    pdb_file :\n",
    "        The PDB file of the complex.\n",
    "\n",
    "    Returns\n",
    "    -------\n",
    "    dict :\n",
    "        A dictionary of the binding sites and the interactions.\n",
    "    \"\"\"\n",
    "    protlig = PDBComplex()\n",
    "    protlig.load_pdb(pdb_file)  # load the pdb file\n",
    "    for ligand in protlig.ligands:\n",
    "        protlig.characterize_complex(ligand)  # find ligands and analyze interactions\n",
    "    sites = {}\n",
    "    # loop over binding sites\n",
    "    for key, site in sorted(protlig.interaction_sets.items()):\n",
    "        binding_site = BindingSiteReport(site)  # collect data about interactions\n",
    "        # tuples of *_features and *_info will be converted to pandas DataFrame\n",
    "        keys = (\n",
    "            \"hydrophobic\",\n",
    "            \"hbond\",\n",
    "            \"waterbridge\",\n",
    "            \"saltbridge\",\n",
    "            \"pistacking\",\n",
    "            \"pication\",\n",
    "            \"halogen\",\n",
    "            \"metal\",\n",
    "        )\n",
    "        # interactions is a dictionary which contains relevant information for each\n",
    "        # of the possible interactions: hydrophobic, hbond, etc. in the considered\n",
    "        # binding site. Each interaction contains a list with\n",
    "        # 1. the features of that interaction, e.g. for hydrophobic:\n",
    "        # ('RESNR', 'RESTYPE', ..., 'LIGCOO', 'PROTCOO')\n",
    "        # 2. information for each of these features, e.g. for hydrophobic\n",
    "        # (residue nb, residue type,..., ligand atom 3D coord., protein atom 3D coord.)\n",
    "        interactions = {\n",
    "            k: [getattr(binding_site, k + \"_features\")] + getattr(binding_site, k + \"_info\")\n",
    "            for k in keys\n",
    "        }\n",
    "        sites[key] = interactions\n",
    "    return sites"
   ]
  },
  {
   "cell_type": "code",
   "execution_count": 84,
   "metadata": {},
   "outputs": [],
   "source": [
    "interactions_by_site = retrieve_plip_interactions(path)"
   ]
  },
  {
   "cell_type": "code",
   "execution_count": 87,
   "metadata": {},
   "outputs": [
    {
     "name": "stdout",
     "output_type": "stream",
     "text": [
      "Number of binding sites detected in 1DOD : 2\n",
      "with dict_keys(['DOB:X:396', 'FAD:X:395'])\n"
     ]
    }
   ],
   "source": [
    "print(\n",
    "    f\"Number of binding sites detected in {struct_of_interest} : \"\n",
    "    f\"{len(interactions_by_site)}\\n\"\n",
    "    f\"with {interactions_by_site.keys()}\"\n",
    ")\n",
    "# NBVAL_CHECK_OUTPUT"
   ]
  },
  {
   "cell_type": "code",
   "execution_count": 88,
   "metadata": {},
   "outputs": [
    {
     "name": "stdout",
     "output_type": "stream",
     "text": [
      "DOB:X:396\n"
     ]
    }
   ],
   "source": [
    "index_of_selected_site = 0\n",
    "selected_site = list(interactions_by_site.keys())[index_of_selected_site]\n",
    "print(selected_site)"
   ]
  },
  {
   "cell_type": "code",
   "execution_count": 89,
   "metadata": {},
   "outputs": [],
   "source": [
    "def create_df_from_binding_site(selected_site_interactions, interaction_type=\"hbond\"):\n",
    "    \"\"\"\n",
    "    Creates a data frame from a binding site and interaction type.\n",
    "\n",
    "    Parameters\n",
    "    ----------\n",
    "    selected_site_interactions : dict\n",
    "        Precaluclated interactions from PLIP for the selected site\n",
    "    interaction_type : str\n",
    "        The interaction type of interest (default set to hydrogen bond).\n",
    "\n",
    "    Returns\n",
    "    -------\n",
    "    pd.DataFrame :\n",
    "        DataFrame with information retrieved from PLIP.\n",
    "    \"\"\"\n",
    "\n",
    "    # check if interaction type is valid:\n",
    "    valid_types = [\n",
    "        \"hydrophobic\",\n",
    "        \"hbond\",\n",
    "        \"waterbridge\",\n",
    "        \"saltbridge\",\n",
    "        \"pistacking\",\n",
    "        \"pication\",\n",
    "        \"halogen\",\n",
    "        \"metal\",\n",
    "    ]\n",
    "\n",
    "    if interaction_type not in valid_types:\n",
    "        print(\"!!! Wrong interaction type specified. Hbond is chosen by default!!!\\n\")\n",
    "        interaction_type = \"hbond\"\n",
    "\n",
    "    df = pd.DataFrame.from_records(\n",
    "        # data is stored AFTER the column names\n",
    "        selected_site_interactions[interaction_type][1:],\n",
    "        # column names are always the first element\n",
    "        columns=selected_site_interactions[interaction_type][0],\n",
    "    )\n",
    "    return df"
   ]
  },
  {
   "cell_type": "code",
   "execution_count": 90,
   "metadata": {},
   "outputs": [
    {
     "data": {
      "text/html": [
       "<div>\n",
       "<style scoped>\n",
       "    .dataframe tbody tr th:only-of-type {\n",
       "        vertical-align: middle;\n",
       "    }\n",
       "\n",
       "    .dataframe tbody tr th {\n",
       "        vertical-align: top;\n",
       "    }\n",
       "\n",
       "    .dataframe thead th {\n",
       "        text-align: right;\n",
       "    }\n",
       "</style>\n",
       "<table border=\"1\" class=\"dataframe\">\n",
       "  <thead>\n",
       "    <tr style=\"text-align: right;\">\n",
       "      <th></th>\n",
       "      <th>RESNR</th>\n",
       "      <th>RESTYPE</th>\n",
       "      <th>RESCHAIN</th>\n",
       "      <th>RESNR_LIG</th>\n",
       "      <th>RESTYPE_LIG</th>\n",
       "      <th>RESCHAIN_LIG</th>\n",
       "      <th>DIST</th>\n",
       "      <th>LIGCARBONIDX</th>\n",
       "      <th>PROTCARBONIDX</th>\n",
       "      <th>LIGCOO</th>\n",
       "      <th>PROTCOO</th>\n",
       "    </tr>\n",
       "  </thead>\n",
       "  <tbody>\n",
       "    <tr>\n",
       "      <th>0</th>\n",
       "      <td>185</td>\n",
       "      <td>TRP</td>\n",
       "      <td>X</td>\n",
       "      <td>396</td>\n",
       "      <td>DOB</td>\n",
       "      <td>X</td>\n",
       "      <td>3.78</td>\n",
       "      <td>3183</td>\n",
       "      <td>1446</td>\n",
       "      <td>(18.417, 93.341, 46.169)</td>\n",
       "      <td>(21.791, 92.701, 44.596)</td>\n",
       "    </tr>\n",
       "    <tr>\n",
       "      <th>1</th>\n",
       "      <td>210</td>\n",
       "      <td>LEU</td>\n",
       "      <td>X</td>\n",
       "      <td>396</td>\n",
       "      <td>DOB</td>\n",
       "      <td>X</td>\n",
       "      <td>3.95</td>\n",
       "      <td>3185</td>\n",
       "      <td>1638</td>\n",
       "      <td>(16.259, 93.274, 45.09)</td>\n",
       "      <td>(18.937, 93.234, 42.182)</td>\n",
       "    </tr>\n",
       "    <tr>\n",
       "      <th>2</th>\n",
       "      <td>222</td>\n",
       "      <td>TYR</td>\n",
       "      <td>X</td>\n",
       "      <td>396</td>\n",
       "      <td>DOB</td>\n",
       "      <td>X</td>\n",
       "      <td>3.95</td>\n",
       "      <td>3181</td>\n",
       "      <td>1738</td>\n",
       "      <td>(17.326, 95.447, 45.546)</td>\n",
       "      <td>(20.54, 96.847, 43.732)</td>\n",
       "    </tr>\n",
       "    <tr>\n",
       "      <th>3</th>\n",
       "      <td>47</td>\n",
       "      <td>VAL</td>\n",
       "      <td>X</td>\n",
       "      <td>396</td>\n",
       "      <td>DOB</td>\n",
       "      <td>X</td>\n",
       "      <td>3.85</td>\n",
       "      <td>3186</td>\n",
       "      <td>347</td>\n",
       "      <td>(16.265, 94.688, 45.039)</td>\n",
       "      <td>(12.941, 94.178, 46.919)</td>\n",
       "    </tr>\n",
       "  </tbody>\n",
       "</table>\n",
       "</div>"
      ],
      "text/plain": [
       "   RESNR RESTYPE RESCHAIN  RESNR_LIG RESTYPE_LIG RESCHAIN_LIG  DIST  \\\n",
       "0    185     TRP        X        396         DOB            X  3.78   \n",
       "1    210     LEU        X        396         DOB            X  3.95   \n",
       "2    222     TYR        X        396         DOB            X  3.95   \n",
       "3     47     VAL        X        396         DOB            X  3.85   \n",
       "\n",
       "   LIGCARBONIDX  PROTCARBONIDX                    LIGCOO  \\\n",
       "0          3183           1446  (18.417, 93.341, 46.169)   \n",
       "1          3185           1638   (16.259, 93.274, 45.09)   \n",
       "2          3181           1738  (17.326, 95.447, 45.546)   \n",
       "3          3186            347  (16.265, 94.688, 45.039)   \n",
       "\n",
       "                    PROTCOO  \n",
       "0  (21.791, 92.701, 44.596)  \n",
       "1  (18.937, 93.234, 42.182)  \n",
       "2   (20.54, 96.847, 43.732)  \n",
       "3  (12.941, 94.178, 46.919)  "
      ]
     },
     "execution_count": 90,
     "metadata": {},
     "output_type": "execute_result"
    }
   ],
   "source": [
    "create_df_from_binding_site(interactions_by_site[selected_site], interaction_type=\"hydrophobic\")"
   ]
  }
 ],
 "metadata": {
  "interpreter": {
   "hash": "e9d93bf23f5b3a10c289e016db11843979e782a8e68ad3a10e7ebe65549eb6f1"
  },
  "kernelspec": {
   "display_name": "Python 3.10.2 64-bit ('OpenTargetInternship': conda)",
   "language": "python",
   "name": "python3"
  },
  "language_info": {
   "codemirror_mode": {
    "name": "ipython",
    "version": 3
   },
   "file_extension": ".py",
   "mimetype": "text/x-python",
   "name": "python",
   "nbconvert_exporter": "python",
   "pygments_lexer": "ipython3",
   "version": "3.10.2"
  },
  "orig_nbformat": 4
 },
 "nbformat": 4,
 "nbformat_minor": 2
}
