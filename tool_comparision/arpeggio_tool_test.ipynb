{
 "cells": [
  {
   "cell_type": "markdown",
   "metadata": {},
   "source": [
    "# Arpeggio"
   ]
  },
  {
   "cell_type": "markdown",
   "metadata": {},
   "source": [
    "#### Let's use Arpeggio with 1dod\n",
    "\n",
    "1dod structure:\n",
    "|MOLECULE_CHEMBL_ID|MOLECULE_PDB_ID|        STRUCTURE_ID|\n",
    "|-------------------------|---------------------|--------------------|\n",
    "|      CHEMBL328910        |            DOB                | [1dod, 1doe, 1pbb]  |\n"
   ]
  },
  {
   "cell_type": "markdown",
   "metadata": {},
   "source": [
    "#### Arpeggio is a command line tool.\n",
    "The imports are os, pyspark and the complex viewer nglview"
   ]
  },
  {
   "cell_type": "code",
   "execution_count": 1,
   "metadata": {},
   "outputs": [
    {
     "data": {
      "application/vnd.jupyter.widget-view+json": {
       "model_id": "1b7abbf778f341989a6fe9a0c6f26050",
       "version_major": 2,
       "version_minor": 0
      },
      "text/plain": []
     },
     "metadata": {},
     "output_type": "display_data"
    }
   ],
   "source": [
    "import os\n",
    "import timeit\n",
    "import pyspark.sql.functions as F\n",
    "from pyspark.sql import SparkSession\n",
    "import nglview as nv\n",
    "from pyspark.sql.functions import posexplode"
   ]
  },
  {
   "cell_type": "markdown",
   "metadata": {},
   "source": [
    "#### Let's visualise the complex is a command line tool."
   ]
  },
  {
   "cell_type": "code",
   "execution_count": 2,
   "metadata": {},
   "outputs": [],
   "source": [
    "struct_of_interest = '1DOD'"
   ]
  },
  {
   "cell_type": "code",
   "execution_count": 3,
   "metadata": {},
   "outputs": [],
   "source": [
    "ngl_viewer = nv.show_pdbid(struct_of_interest)\n",
    "# Add the ligands\n",
    "ngl_viewer.add_representation(repr_type=\"ball+stick\", selection=\"hetero and not water\")\n",
    "# Center view on binding site\n",
    "ngl_viewer.center(\"ligand\")"
   ]
  },
  {
   "cell_type": "code",
   "execution_count": 4,
   "metadata": {},
   "outputs": [
    {
     "data": {
      "application/vnd.jupyter.widget-view+json": {
       "model_id": "a9bc6e9ba7ad4784a5c2313ae6f5473a",
       "version_major": 2,
       "version_minor": 0
      },
      "text/plain": [
       "NGLWidget()"
      ]
     },
     "metadata": {},
     "output_type": "display_data"
    }
   ],
   "source": [
    "ngl_viewer"
   ]
  },
  {
   "cell_type": "markdown",
   "metadata": {},
   "source": [
    "#### Start running the code for 1dod - DOB complex investigation with Arpeggio"
   ]
  },
  {
   "cell_type": "markdown",
   "metadata": {},
   "source": [
    "Open a Spark session"
   ]
  },
  {
   "cell_type": "code",
   "execution_count": 5,
   "metadata": {},
   "outputs": [
    {
     "name": "stdout",
     "output_type": "stream",
     "text": [
      "2022-02-15 16:05:28 WARN  NativeCodeLoader:62 - Unable to load native-hadoop library for your platform... using builtin-java classes where applicable\n"
     ]
    },
    {
     "name": "stderr",
     "output_type": "stream",
     "text": [
      "Setting default log level to \"WARN\".\n",
      "To adjust logging level use sc.setLogLevel(newLevel). For SparkR, use setLogLevel(newLevel).\n"
     ]
    }
   ],
   "source": [
    "spark = SparkSession.builder.getOrCreate()"
   ]
  },
  {
   "cell_type": "markdown",
   "metadata": {},
   "source": [
    "Command line to DL the wanted .CIF file of the structure"
   ]
  },
  {
   "cell_type": "code",
   "execution_count": 6,
   "metadata": {},
   "outputs": [
    {
     "name": "stderr",
     "output_type": "stream",
     "text": [
      "  % Total    % Received % Xferd  Average Speed   Time    Time     Time  Current\n",
      "                                 Dload  Upload   Total   Spent    Left  Speed\n",
      "100 93068  100 93068    0     0  2273k      0 --:--:-- --:--:-- --:--:-- 2754k\n"
     ]
    },
    {
     "data": {
      "text/plain": [
       "0"
      ]
     },
     "execution_count": 6,
     "metadata": {},
     "output_type": "execute_result"
    }
   ],
   "source": [
    "dl_unzip_cif = 'curl http://ftp.ebi.ac.uk/pub/databases/pdb/data/structures/divided/mmCIF/do/1dod.cif.gz -o 1dod.cif.gz'\n",
    "os.system(dl_unzip_cif)"
   ]
  },
  {
   "cell_type": "markdown",
   "metadata": {},
   "source": [
    "Command line to run the Arpeggio command line\n",
    "Reminder: We investigate the 1dod structure and it's interaction with the DOB molecule\n",
    "\n",
    "|MOLECULE_CHEMBL_ID|MOLECULE_PDB_ID|        STRUCTURE_ID|\n",
    "|-------------------------|---------------------|--------------------|\n",
    "|      CHEMBL328910        |            DOB                | [1dod, 1doe, 1pbb]  |\n",
    "\n",
    "**-s** option is to specified the chain (A) and the residue number of the ligand (396) which correspond to the DOB molecule\n",
    "\n",
    "**-o** option is to specified the output (here 'arpeggio_result' is a folder in which the 1dod.cif file will be)"
   ]
  },
  {
   "cell_type": "code",
   "execution_count": 7,
   "metadata": {},
   "outputs": [],
   "source": [
    "# Start chrono for Arpeggio comand line when the Chain and Residue is precised\n",
    "start_1 = timeit.default_timer()"
   ]
  },
  {
   "cell_type": "code",
   "execution_count": 8,
   "metadata": {},
   "outputs": [
    {
     "name": "stderr",
     "output_type": "stream",
     "text": [
      "INFO//16:05:30.608//Program begin.\n",
      "WARNING//16:05:30.609//No selection was perceived. Defaults into full structure!!\n",
      "DEBUG//16:05:30.667//Loaded PDB structure (BioPython)\n",
      "DEBUG//16:05:30.769//Loaded MMCIF structure (OpenBabel)\n",
      "DEBUG//16:05:30.777//Mapped OB to BioPython atoms and vice-versa.\n",
      "DEBUG//16:05:30.927//Added hydrogens.\n",
      "DEBUG//16:05:31.162//Determined atom explicit and implicit valences, bond orders, atomic numbers, formal charge and number of bound hydrogens.\n",
      "DEBUG//16:05:31.185//Initialised SIFts.\n",
      "DEBUG//16:05:31.188//Determined polypeptide residues, chain breaks, termini\n",
      "DEBUG//16:05:31.395//Percieved and stored rings.\n",
      "DEBUG//16:05:31.412//Perceived and stored amide groups.\n",
      "DEBUG//16:05:31.416//Added hydrogens to BioPython atoms.\n",
      "DEBUG//16:05:31.421//Added VdW radii.\n",
      "DEBUG//16:05:31.425//Added covalent radii.\n",
      "DEBUG//16:05:31.429//Completed NeighborSearch.\n",
      "DEBUG//16:05:31.431//Assigned rings to residues.\n",
      "DEBUG//16:05:31.434//Made selection.\n",
      "DEBUG//16:05:31.574//Expanded to binding site.\n",
      "DEBUG//16:05:31.576//Flagged selection rings.\n",
      "DEBUG//16:05:31.580//Completed new NeighbourSearch.\n",
      "INFO//16:06:38.580//Program End. Maximum memory usage was 93.29 MB.\n"
     ]
    },
    {
     "data": {
      "text/plain": [
       "0"
      ]
     },
     "execution_count": 8,
     "metadata": {},
     "output_type": "execute_result"
    }
   ],
   "source": [
    "run_arpeggio = 'arpeggio -o arpeggio_result 1dod.cif'\n",
    "os.system(run_arpeggio)"
   ]
  },
  {
   "cell_type": "code",
   "execution_count": 9,
   "metadata": {},
   "outputs": [],
   "source": [
    "# Stop chrono\n",
    "stop_1 = timeit.default_timer()"
   ]
  },
  {
   "cell_type": "code",
   "execution_count": 10,
   "metadata": {},
   "outputs": [],
   "source": [
    "# Start chrono for Arpeggio comand line when the Chain and Residue is NOT precised\n",
    "start_2 = timeit.default_timer()"
   ]
  },
  {
   "cell_type": "code",
   "execution_count": 11,
   "metadata": {},
   "outputs": [
    {
     "name": "stderr",
     "output_type": "stream",
     "text": [
      "INFO//16:06:39.663//Program begin.\n",
      "INFO//16:06:39.663//Selection perceived: ['/A/396/']\n",
      "DEBUG//16:06:39.727//Loaded PDB structure (BioPython)\n",
      "DEBUG//16:06:39.828//Loaded MMCIF structure (OpenBabel)\n",
      "DEBUG//16:06:39.836//Mapped OB to BioPython atoms and vice-versa.\n",
      "DEBUG//16:06:39.981//Added hydrogens.\n",
      "DEBUG//16:06:40.223//Determined atom explicit and implicit valences, bond orders, atomic numbers, formal charge and number of bound hydrogens.\n",
      "DEBUG//16:06:40.246//Initialised SIFts.\n",
      "DEBUG//16:06:40.251//Determined polypeptide residues, chain breaks, termini\n",
      "DEBUG//16:06:40.476//Percieved and stored rings.\n",
      "DEBUG//16:06:40.493//Perceived and stored amide groups.\n",
      "DEBUG//16:06:40.497//Added hydrogens to BioPython atoms.\n",
      "DEBUG//16:06:40.502//Added VdW radii.\n",
      "DEBUG//16:06:40.506//Added covalent radii.\n",
      "DEBUG//16:06:40.510//Completed NeighborSearch.\n",
      "DEBUG//16:06:40.512//Assigned rings to residues.\n",
      "DEBUG//16:06:40.518//Made selection.\n",
      "DEBUG//16:06:40.619//Expanded to binding site.\n",
      "DEBUG//16:06:40.619//Flagged selection rings.\n",
      "DEBUG//16:06:40.619//Completed new NeighbourSearch.\n",
      "INFO//16:06:40.682//Program End. Maximum memory usage was 90.32 MB.\n"
     ]
    },
    {
     "data": {
      "text/plain": [
       "0"
      ]
     },
     "execution_count": 11,
     "metadata": {},
     "output_type": "execute_result"
    }
   ],
   "source": [
    "run_arpeggio_precised_res = 'arpeggio -s /A/396/ -o arpeggio_result 1dod.cif'\n",
    "os.system(run_arpeggio_precised_res)"
   ]
  },
  {
   "cell_type": "code",
   "execution_count": 12,
   "metadata": {},
   "outputs": [],
   "source": [
    "# Stop chrono\n",
    "stop_2 = timeit.default_timer()"
   ]
  },
  {
   "cell_type": "markdown",
   "metadata": {},
   "source": [
    "#### Get the data generated by Arpeggio"
   ]
  },
  {
   "cell_type": "markdown",
   "metadata": {},
   "source": [
    "Creation of a PySpark DataFrame"
   ]
  },
  {
   "cell_type": "code",
   "execution_count": 13,
   "metadata": {},
   "outputs": [
    {
     "name": "stderr",
     "output_type": "stream",
     "text": [
      "                                                                                \r"
     ]
    },
    {
     "name": "stdout",
     "output_type": "stream",
     "text": [
      "root\n",
      " |-- bgn: struct (nullable = true)\n",
      " |    |-- auth_asym_id: string (nullable = true)\n",
      " |    |-- auth_atom_id: string (nullable = true)\n",
      " |    |-- auth_seq_id: long (nullable = true)\n",
      " |    |-- label_comp_id: string (nullable = true)\n",
      " |    |-- pdbx_PDB_ins_code: string (nullable = true)\n",
      " |-- contact: array (nullable = true)\n",
      " |    |-- element: string (containsNull = true)\n",
      " |-- distance: double (nullable = true)\n",
      " |-- end: struct (nullable = true)\n",
      " |    |-- auth_asym_id: string (nullable = true)\n",
      " |    |-- auth_atom_id: string (nullable = true)\n",
      " |    |-- auth_seq_id: long (nullable = true)\n",
      " |    |-- label_comp_id: string (nullable = true)\n",
      " |    |-- pdbx_PDB_ins_code: string (nullable = true)\n",
      " |-- interacting_entities: string (nullable = true)\n",
      " |-- type: string (nullable = true)\n",
      "\n",
      "+--------------------+--------------------+--------+--------------------+--------------------+---------+\n",
      "|                 bgn|             contact|distance|                 end|interacting_entities|     type|\n",
      "+--------------------+--------------------+--------+--------------------+--------------------+---------+\n",
      "|[A, CE1, 201, TYR...|          [proximal]|    4.42|[A, CZ, 385, TYR,  ]| INTRA_NON_SELECTION|atom-atom|\n",
      "|[A, CE1, 201, TYR...|          [proximal]|    4.53|[A, CB, 199, LEU,  ]| INTRA_NON_SELECTION|atom-atom|\n",
      "|[A, OH, 385, TYR,  ]|          [proximal]|    4.07|[A, CD2, 199, LEU...| INTRA_NON_SELECTION|atom-atom|\n",
      "|[A, CE1, 201, TYR...|          [proximal]|    3.82|[A, OH, 385, TYR,  ]| INTRA_NON_SELECTION|atom-atom|\n",
      "|[A, CE1, 201, TYR...|[proximal, hydrop...|    4.33|[A, CE1, 385, TYR...| INTRA_NON_SELECTION|atom-atom|\n",
      "|[A, CE1, 201, TYR...|          [proximal]|    4.64|[A, CD2, 199, LEU...| INTRA_NON_SELECTION|atom-atom|\n",
      "|[A, C5, 396, DOB,  ]|          [proximal]|    3.41|[A, OH, 201, TYR,  ]|               INTER|atom-atom|\n",
      "|[A, C6, 396, DOB,  ]|          [proximal]|     4.7|[A, OH, 201, TYR,  ]|               INTER|atom-atom|\n",
      "|[A, OH, 201, TYR,  ]|          [proximal]|    4.77|[A, CD1, 210, LEU...| INTRA_NON_SELECTION|atom-atom|\n",
      "|[A, CZ, 201, TYR,  ]|          [proximal]|    4.33|[A, C5, 396, DOB,  ]|               INTER|atom-atom|\n",
      "|[A, CZ, 201, TYR,  ]|          [proximal]|    4.21|[A, CD1, 210, LEU...| INTRA_NON_SELECTION|atom-atom|\n",
      "|[A, C5, 396, DOB,  ]|          [proximal]|    4.77|[A, CE2, 201, TYR...|               INTER|atom-atom|\n",
      "|[A, C5, 396, DOB,  ]|          [proximal]|    4.63|[A, CD1, 210, LEU...|               INTER|atom-atom|\n",
      "|[A, C6, 396, DOB,  ]|          [proximal]|    4.83|[A, CD1, 210, LEU...|               INTER|atom-atom|\n",
      "|[A, CD1, 210, LEU...|[proximal, hydrop...|    4.07|[A, CE2, 201, TYR...| INTRA_NON_SELECTION|atom-atom|\n",
      "|[A, CD1, 210, LEU...|[proximal, hydrop...|    4.08|[A, CD2, 201, TYR...| INTRA_NON_SELECTION|atom-atom|\n",
      "|[A, OH, 201, TYR,  ]|          [proximal]|    3.58|[A, CZ, 385, TYR,  ]| INTRA_NON_SELECTION|atom-atom|\n",
      "|[A, CZ, 201, TYR,  ]|          [proximal]|    4.38|[A, CZ, 385, TYR,  ]| INTRA_NON_SELECTION|atom-atom|\n",
      "|[A, CD1, 210, LEU...|          [proximal]|    4.72|[A, CB, 199, LEU,  ]| INTRA_NON_SELECTION|atom-atom|\n",
      "|[A, C6, 396, DOB,  ]|          [proximal]|    4.87|[A, CG, 199, LEU,  ]|               INTER|atom-atom|\n",
      "+--------------------+--------------------+--------+--------------------+--------------------+---------+\n",
      "only showing top 20 rows\n",
      "\n"
     ]
    },
    {
     "data": {
      "text/plain": [
       "561"
      ]
     },
     "execution_count": 13,
     "metadata": {},
     "output_type": "execute_result"
    }
   ],
   "source": [
    "# Read JSON file into dataframe\n",
    "df = spark.read.json(\"arpeggio_result/1dod.json\", multiLine=True)\n",
    "df.printSchema()\n",
    "df.show()\n",
    "df.count()"
   ]
  },
  {
   "cell_type": "markdown",
   "metadata": {},
   "source": [
    "#### Data manipulation with PySpark\n",
    "Filter and get only lines containing DOB"
   ]
  },
  {
   "cell_type": "code",
   "execution_count": 14,
   "metadata": {},
   "outputs": [],
   "source": [
    "df = df.filter(F.col('end.label_comp_id') == 'DOB')"
   ]
  },
  {
   "cell_type": "markdown",
   "metadata": {},
   "source": [
    "#### According to the [Arpeggio doc](https://github.com/PDBeurope/arpeggio):\n",
    "\n",
    "**Proximal** : 'Denotes if the atom is > the VdW interaction distance, but within 5 Angstroms of other atom(s).'\n",
    "\n",
    "**Hydrophobic** : 'Denotes hydrophobic interaction.'\n",
    "\n",
    "**Aromatic** : 'Denotes an aromatic ring atom interacting with another aromatic ring atom.'\n",
    "\n",
    "**INTER** : 'Between an atom from the user's selection and a non-selected atom'"
   ]
  },
  {
   "cell_type": "code",
   "execution_count": 15,
   "metadata": {},
   "outputs": [
    {
     "name": "stdout",
     "output_type": "stream",
     "text": [
      "+--------------------+--------------------+--------+--------------------+--------------------+---------+\n",
      "|                 bgn|             contact|distance|                 end|interacting_entities|     type|\n",
      "+--------------------+--------------------+--------+--------------------+--------------------+---------+\n",
      "|[A, CZ, 201, TYR,  ]|          [proximal]|    4.33|[A, C5, 396, DOB,  ]|               INTER|atom-atom|\n",
      "| [A, O, 428, HOH,  ]|          [proximal]|    4.78|[A, O4, 396, DOB,  ]|     SELECTION_WATER|atom-atom|\n",
      "|[A, CA, 296, ALA,  ]|          [proximal]|    3.98|[A, O4, 396, DOB,  ]|               INTER|atom-atom|\n",
      "|[A, CA, 295, GLY,  ]|          [proximal]|    4.65|[A, O4, 396, DOB,  ]|               INTER|atom-atom|\n",
      "| [A, N, 296, ALA,  ]|          [proximal]|    4.45|[A, C4, 396, DOB,  ]|               INTER|atom-atom|\n",
      "| [A, N, 296, ALA,  ]|          [proximal]|    3.67|[A, O4, 396, DOB,  ]|               INTER|atom-atom|\n",
      "|[A, CB, 296, ALA,  ]|          [proximal]|    3.82|[A, C4, 396, DOB,  ]|               INTER|atom-atom|\n",
      "|[A, CB, 296, ALA,  ]|          [proximal]|    3.65|[A, O4, 396, DOB,  ]|               INTER|atom-atom|\n",
      "| [A, C, 295, GLY,  ]|          [proximal]|    4.29|[A, O4, 396, DOB,  ]|               INTER|atom-atom|\n",
      "| [A, CB, 47, VAL,  ]|          [proximal]|    4.81|[A, C5, 396, DOB,  ]|               INTER|atom-atom|\n",
      "|[A, CB, 296, ALA,  ]|[proximal, hydrop...|    4.23|[A, C5, 396, DOB,  ]|               INTER|atom-atom|\n",
      "|[A, OH, 385, TYR,  ]|          [proximal]|    4.65|[A, O4, 396, DOB,  ]|               INTER|atom-atom|\n",
      "|[A, OH, 201, TYR,  ]|          [proximal]|    3.63|[A, C4, 396, DOB,  ]|               INTER|atom-atom|\n",
      "|[A, CZ, 201, TYR,  ]|          [proximal]|    4.53|[A, C4, 396, DOB,  ]|               INTER|atom-atom|\n",
      "|[A, OH, 201, TYR,  ]|  [vdw_clash, polar]|     2.9|[A, O4, 396, DOB,  ]|               INTER|atom-atom|\n",
      "|[A, CZ, 201, TYR,  ]|          [proximal]|    3.78|[A, O4, 396, DOB,  ]|               INTER|atom-atom|\n",
      "|[A, CA, 212, SER,  ]|          [proximal]|    4.83|[A, O2', 396, DOB...|               INTER|atom-atom|\n",
      "|[A, CB, 212, SER,  ]|          [proximal]|    4.39|[A, C1, 396, DOB,  ]|               INTER|atom-atom|\n",
      "| [A, N, 213, GLN,  ]|          [proximal]|    4.67|[A, O2', 396, DOB...|               INTER|atom-atom|\n",
      "|[A, NH1, 214, ARG...|[vdw_clash, ionic...|    2.83|[A, O2', 396, DOB...|               INTER|atom-atom|\n",
      "+--------------------+--------------------+--------+--------------------+--------------------+---------+\n",
      "only showing top 20 rows\n",
      "\n"
     ]
    },
    {
     "data": {
      "text/plain": [
       "94"
      ]
     },
     "execution_count": 15,
     "metadata": {},
     "output_type": "execute_result"
    }
   ],
   "source": [
    "df.show()\n",
    "df.count()"
   ]
  },
  {
   "cell_type": "markdown",
   "metadata": {},
   "source": [
    "Filter and get only lines with residues in an hydrophobic interaction"
   ]
  },
  {
   "cell_type": "code",
   "execution_count": 16,
   "metadata": {},
   "outputs": [
    {
     "name": "stdout",
     "output_type": "stream",
     "text": [
      "+--------------------+--------------------+--------+--------------------+--------------------+---------+\n",
      "|                 bgn|             contact|distance|                 end|interacting_entities|     type|\n",
      "+--------------------+--------------------+--------+--------------------+--------------------+---------+\n",
      "|[A, CB, 296, ALA,  ]|[proximal, hydrop...|    4.23|[A, C5, 396, DOB,  ]|               INTER|atom-atom|\n",
      "|[A, CD2, 210, LEU...|[proximal, hydrop...|    4.02|[A, C3, 396, DOB,  ]|               INTER|atom-atom|\n",
      "|[A, CB, 293, PRO,  ]|[proximal, hydrop...|    4.43|[A, C3, 396, DOB,  ]|               INTER|atom-atom|\n",
      "|[A, CD2, 210, LEU...|[proximal, hydrop...|    3.95|[A, C5, 396, DOB,  ]|               INTER|atom-atom|\n",
      "|[A, CB, 296, ALA,  ]|[proximal, hydrop...|    4.41|[A, C3, 396, DOB,  ]|               INTER|atom-atom|\n",
      "|[A, CD2, 210, LEU...|[proximal, hydrop...|    4.34|[A, C1, 396, DOB,  ]|               INTER|atom-atom|\n",
      "|[A, CE2, 222, TYR...|[proximal, aromat...|    3.95|[A, C1, 396, DOB,  ]|               INTER|atom-atom|\n",
      "+--------------------+--------------------+--------+--------------------+--------------------+---------+\n",
      "\n"
     ]
    },
    {
     "data": {
      "text/plain": [
       "7"
      ]
     },
     "execution_count": 16,
     "metadata": {},
     "output_type": "execute_result"
    }
   ],
   "source": [
    "df = df.filter(F.array_contains(F.col('contact'), 'hydrophobic'))\n",
    "df.show()\n",
    "df.count()"
   ]
  },
  {
   "cell_type": "markdown",
   "metadata": {},
   "source": [
    "Explode the contact column"
   ]
  },
  {
   "cell_type": "code",
   "execution_count": 17,
   "metadata": {},
   "outputs": [
    {
     "name": "stdout",
     "output_type": "stream",
     "text": [
      "+--------------------+--------------------+--------+--------------------+--------------------+---------+---+-----------+\n",
      "|                 bgn|             contact|distance|                 end|interacting_entities|     type|pos|        col|\n",
      "+--------------------+--------------------+--------+--------------------+--------------------+---------+---+-----------+\n",
      "|[A, CB, 296, ALA,  ]|[proximal, hydrop...|    4.23|[A, C5, 396, DOB,  ]|               INTER|atom-atom|  0|   proximal|\n",
      "|[A, CB, 296, ALA,  ]|[proximal, hydrop...|    4.23|[A, C5, 396, DOB,  ]|               INTER|atom-atom|  1|hydrophobic|\n",
      "|[A, CD2, 210, LEU...|[proximal, hydrop...|    4.02|[A, C3, 396, DOB,  ]|               INTER|atom-atom|  0|   proximal|\n",
      "|[A, CD2, 210, LEU...|[proximal, hydrop...|    4.02|[A, C3, 396, DOB,  ]|               INTER|atom-atom|  1|hydrophobic|\n",
      "|[A, CB, 293, PRO,  ]|[proximal, hydrop...|    4.43|[A, C3, 396, DOB,  ]|               INTER|atom-atom|  0|   proximal|\n",
      "|[A, CB, 293, PRO,  ]|[proximal, hydrop...|    4.43|[A, C3, 396, DOB,  ]|               INTER|atom-atom|  1|hydrophobic|\n",
      "|[A, CD2, 210, LEU...|[proximal, hydrop...|    3.95|[A, C5, 396, DOB,  ]|               INTER|atom-atom|  0|   proximal|\n",
      "|[A, CD2, 210, LEU...|[proximal, hydrop...|    3.95|[A, C5, 396, DOB,  ]|               INTER|atom-atom|  1|hydrophobic|\n",
      "|[A, CB, 296, ALA,  ]|[proximal, hydrop...|    4.41|[A, C3, 396, DOB,  ]|               INTER|atom-atom|  0|   proximal|\n",
      "|[A, CB, 296, ALA,  ]|[proximal, hydrop...|    4.41|[A, C3, 396, DOB,  ]|               INTER|atom-atom|  1|hydrophobic|\n",
      "|[A, CD2, 210, LEU...|[proximal, hydrop...|    4.34|[A, C1, 396, DOB,  ]|               INTER|atom-atom|  0|   proximal|\n",
      "|[A, CD2, 210, LEU...|[proximal, hydrop...|    4.34|[A, C1, 396, DOB,  ]|               INTER|atom-atom|  1|hydrophobic|\n",
      "|[A, CE2, 222, TYR...|[proximal, aromat...|    3.95|[A, C1, 396, DOB,  ]|               INTER|atom-atom|  0|   proximal|\n",
      "|[A, CE2, 222, TYR...|[proximal, aromat...|    3.95|[A, C1, 396, DOB,  ]|               INTER|atom-atom|  1|   aromatic|\n",
      "|[A, CE2, 222, TYR...|[proximal, aromat...|    3.95|[A, C1, 396, DOB,  ]|               INTER|atom-atom|  2|hydrophobic|\n",
      "+--------------------+--------------------+--------+--------------------+--------------------+---------+---+-----------+\n",
      "\n"
     ]
    }
   ],
   "source": [
    "df.select('*', posexplode('contact')).show()"
   ]
  },
  {
   "cell_type": "code",
   "execution_count": 18,
   "metadata": {},
   "outputs": [
    {
     "name": "stdout",
     "output_type": "stream",
     "text": [
      "1 seconds\n",
      "68 seconds\n"
     ]
    }
   ],
   "source": [
    "# Display time running\n",
    "time_no_precised_res = int(round(stop_1 - start_1, 3))\n",
    "time_precised_res = int(round(stop_2 - start_2, 3))\n",
    "\n",
    "print(str(time_precised_res) + ' seconds')\n",
    "print(str(time_no_precised_res) + ' seconds')"
   ]
  },
  {
   "cell_type": "markdown",
   "metadata": {},
   "source": [
    "Number of lines"
   ]
  },
  {
   "cell_type": "code",
   "execution_count": 19,
   "metadata": {},
   "outputs": [
    {
     "data": {
      "text/plain": [
       "7"
      ]
     },
     "execution_count": 19,
     "metadata": {},
     "output_type": "execute_result"
    }
   ],
   "source": [
    "df.count()"
   ]
  },
  {
   "cell_type": "markdown",
   "metadata": {},
   "source": [
    "#### PDB line for DOB ligand\n",
    "\n",
    "```ATOM   3178  C1' DOB X 396      17.205  96.843  45.676  1.00 11.04      A     ```\n",
    "\n",
    "#### JSON line for DOB ligand\n",
    "\n",
    "```\n",
    "{\n",
    "        \"bgn\": {\n",
    "            \"auth_asym_id\": \"A\",\n",
    "            \"auth_atom_id\": \"CZ\",\n",
    "            \"auth_seq_id\": 201,\n",
    "            \"label_comp_id\": \"TYR\",\n",
    "            \"pdbx_PDB_ins_code\": \" \"\n",
    "        },\n",
    "        \"contact\": [\n",
    "            \"proximal\"\n",
    "        ],\n",
    "        \"distance\": 3.78,\n",
    "        \"end\": {\n",
    "            \"auth_asym_id\": \"A\",\n",
    "            \"auth_atom_id\": \"O4\",\n",
    "            \"auth_seq_id\": 396,\n",
    "            \"label_comp_id\": \"DOB\",\n",
    "            \"pdbx_PDB_ins_code\": \" \"\n",
    "        },\n",
    "        \"interacting_entities\": \"INTRA_SELECTION\",\n",
    "        \"type\": \"atom-atom\"\n",
    "    }```\n"
   ]
  },
  {
   "cell_type": "markdown",
   "metadata": {},
   "source": []
  }
 ],
 "metadata": {
  "interpreter": {
   "hash": "e9d93bf23f5b3a10c289e016db11843979e782a8e68ad3a10e7ebe65549eb6f1"
  },
  "kernelspec": {
   "display_name": "Python 3.10.2 ('OpenTargetInternship')",
   "language": "python",
   "name": "python3"
  },
  "language_info": {
   "codemirror_mode": {
    "name": "ipython",
    "version": 3
   },
   "file_extension": ".py",
   "mimetype": "text/x-python",
   "name": "python",
   "nbconvert_exporter": "python",
   "pygments_lexer": "ipython3",
   "version": "3.7.12"
  },
  "orig_nbformat": 4
 },
 "nbformat": 4,
 "nbformat_minor": 2
}
